{
 "cells": [
  {
   "cell_type": "code",
   "execution_count": 10,
   "id": "59cb8525",
   "metadata": {
    "lines_to_next_cell": 2
   },
   "outputs": [
    {
     "name": "stdout",
     "output_type": "stream",
     "text": [
      "input 1 & 2: (0, 0); linear_combination: -4.0;  predicted output: 0;  is_correct_string: Yes\n",
      "input 1 & 2: (0, 1); linear_combination: -2.0;  predicted output: 0;  is_correct_string: Yes\n",
      "input 1 & 2: (1, 0); linear_combination: -2.0;  predicted output: 0;  is_correct_string: Yes\n",
      "input 1 & 2: (1, 1); linear_combination: 0.0;  predicted output: 1;  is_correct_string: Yes\n"
     ]
    }
   ],
   "source": [
    "# four samples with two inputs each\n",
    "test_inputs = [(0, 0), (0, 1), (1, 0), (1, 1)]\n",
    "\n",
    "# correct output/class for each sample\n",
    "correct_outputs = [False, False, False, True]\n",
    "outputs = [] # container to store the output\n",
    "\n",
    "# Set weight1, weight2, and bias\n",
    "# correct weight to assign each sample to the correct labels/class\n",
    "weight1 = 2.0\n",
    "weight2 = 2.0\n",
    "bias = -4.0\n",
    "\n",
    "# Generate score and check output\n",
    "for test_input, correct_output in zip(test_inputs, correct_outputs):\n",
    "    linear_combination = weight1 * test_input[0] + weight2 * test_input[1] + bias\n",
    "    output = int(linear_combination >= 0)\n",
    "    is_correct_string = 'Yes' if output == correct_output else 'No'\n",
    "    print(f\"input 1 & 2: {(test_input[0], test_input[1])}; linear_combination: {linear_combination};  predicted output: {output};  is_correct_string: {is_correct_string}\") "
   ]
  },
  {
   "cell_type": "markdown",
   "id": "60bdab77",
   "metadata": {},
   "source": []
  },
  {
   "cell_type": "markdown",
   "id": "f096b7d6",
   "metadata": {},
   "source": [
    "# Implementation of Perceptron Algroithm to solve Logical AND Problem"
   ]
  },
  {
   "cell_type": "code",
   "execution_count": 11,
   "id": "4fff9be5",
   "metadata": {},
   "outputs": [],
   "source": [
    "import plotly.graph_objects as go #type: ignore\n",
    "import numpy as np #type: ignore"
   ]
  },
  {
   "cell_type": "markdown",
   "id": "6a45334b",
   "metadata": {},
   "source": []
  },
  {
   "cell_type": "code",
   "execution_count": 12,
   "id": "cb122578",
   "metadata": {
    "lines_to_next_cell": 2
   },
   "outputs": [
    {
     "name": "stdout",
     "output_type": "stream",
     "text": [
      "input 1 & 2: (0, 0); linear_combination: -4.0;  predicted output: 0;  is_correct_string: Yes\n",
      "input 1 & 2: (0, 1); linear_combination: -2.0;  predicted output: 0;  is_correct_string: Yes\n",
      "input 1 & 2: (1, 0); linear_combination: -2.0;  predicted output: 0;  is_correct_string: Yes\n",
      "input 1 & 2: (1, 1); linear_combination: 0.0;  predicted output: 1;  is_correct_string: Yes\n"
     ]
    }
   ],
   "source": [
    "test_inputs = [(0, 0), (0, 1), (1, 0), (1, 1)]\n",
    "correct_outputs = [False, False, False, True]\n",
    "outputs = [] # container to store the output\n",
    "\n",
    "# Set weight1, weight2, and bias\n",
    "weight1 = 2.0\n",
    "weight2 = 2.0\n",
    "bias = -4.0\n",
    "\n",
    "# Generate and check output\n",
    "for test_input, correct_output in zip(test_inputs, correct_outputs):\n",
    "    linear_combination = weight1 * test_input[0] + weight2 * test_input[1] + bias\n",
    "    output = int(linear_combination >= 0)\n",
    "    is_correct_string = 'Yes' if output == correct_output else 'No'\n",
    "    print(f\"input 1 & 2: {(test_input[0], test_input[1])}; linear_combination: {linear_combination};  predicted output: {output};  is_correct_string: {is_correct_string}\") "
   ]
  },
  {
   "cell_type": "code",
   "execution_count": 13,
   "id": "345aba67",
   "metadata": {
    "lines_to_next_cell": 2
   },
   "outputs": [],
   "source": [
    "# Augment the input vector with bias = 1 as the first element in the vector.\n",
    "# two inputs and one bias as input = three inputs in total \n",
    "inputs = [(1,0, 0), (1,0, 1), (1,1, 0), (1,1, 1)]\n",
    "correct_outputs = [False, False, False, True]\n",
    "\n",
    "# convert each sample to numpy array\n",
    "input_train = [np.array(item) for item in inputs] # shape = 4 x 3\n",
    "# convert boolean outputs into their integer equivalent\n",
    "labels = [int(item) for item in correct_outputs]\n",
    "\n",
    "# extract the input (x1) and input (x2) from the input array\n",
    "x1 = np.array([item[1] for item in input_train])\n",
    "x2 = np.array([item[2] for item in input_train])"
   ]
  },
  {
   "cell_type": "code",
   "execution_count": 14,
   "id": "a0cb4437",
   "metadata": {},
   "outputs": [
    {
     "data": {
      "application/vnd.plotly.v1+json": {
       "config": {
        "plotlyServerURL": "https://plot.ly"
       },
       "data": [
        {
         "marker": {
          "color": "black",
          "size": 20
         },
         "mode": "markers",
         "name": "False",
         "type": "scatter",
         "x": [
          0,
          0,
          1
         ],
         "y": [
          0,
          1,
          0
         ]
        },
        {
         "marker": {
          "color": "green",
          "size": 20
         },
         "mode": "markers",
         "name": "True",
         "type": "scatter",
         "x": [
          1
         ],
         "y": [
          1
         ]
        }
       ],
       "layout": {
        "legend": {
         "title": {
          "text": "True/False Data Points"
         }
        },
        "template": {
         "data": {
          "bar": [
           {
            "error_x": {
             "color": "#2a3f5f"
            },
            "error_y": {
             "color": "#2a3f5f"
            },
            "marker": {
             "line": {
              "color": "#E5ECF6",
              "width": 0.5
             },
             "pattern": {
              "fillmode": "overlay",
              "size": 10,
              "solidity": 0.2
             }
            },
            "type": "bar"
           }
          ],
          "barpolar": [
           {
            "marker": {
             "line": {
              "color": "#E5ECF6",
              "width": 0.5
             },
             "pattern": {
              "fillmode": "overlay",
              "size": 10,
              "solidity": 0.2
             }
            },
            "type": "barpolar"
           }
          ],
          "carpet": [
           {
            "aaxis": {
             "endlinecolor": "#2a3f5f",
             "gridcolor": "white",
             "linecolor": "white",
             "minorgridcolor": "white",
             "startlinecolor": "#2a3f5f"
            },
            "baxis": {
             "endlinecolor": "#2a3f5f",
             "gridcolor": "white",
             "linecolor": "white",
             "minorgridcolor": "white",
             "startlinecolor": "#2a3f5f"
            },
            "type": "carpet"
           }
          ],
          "choropleth": [
           {
            "colorbar": {
             "outlinewidth": 0,
             "ticks": ""
            },
            "type": "choropleth"
           }
          ],
          "contour": [
           {
            "colorbar": {
             "outlinewidth": 0,
             "ticks": ""
            },
            "colorscale": [
             [
              0,
              "#0d0887"
             ],
             [
              0.1111111111111111,
              "#46039f"
             ],
             [
              0.2222222222222222,
              "#7201a8"
             ],
             [
              0.3333333333333333,
              "#9c179e"
             ],
             [
              0.4444444444444444,
              "#bd3786"
             ],
             [
              0.5555555555555556,
              "#d8576b"
             ],
             [
              0.6666666666666666,
              "#ed7953"
             ],
             [
              0.7777777777777778,
              "#fb9f3a"
             ],
             [
              0.8888888888888888,
              "#fdca26"
             ],
             [
              1,
              "#f0f921"
             ]
            ],
            "type": "contour"
           }
          ],
          "contourcarpet": [
           {
            "colorbar": {
             "outlinewidth": 0,
             "ticks": ""
            },
            "type": "contourcarpet"
           }
          ],
          "heatmap": [
           {
            "colorbar": {
             "outlinewidth": 0,
             "ticks": ""
            },
            "colorscale": [
             [
              0,
              "#0d0887"
             ],
             [
              0.1111111111111111,
              "#46039f"
             ],
             [
              0.2222222222222222,
              "#7201a8"
             ],
             [
              0.3333333333333333,
              "#9c179e"
             ],
             [
              0.4444444444444444,
              "#bd3786"
             ],
             [
              0.5555555555555556,
              "#d8576b"
             ],
             [
              0.6666666666666666,
              "#ed7953"
             ],
             [
              0.7777777777777778,
              "#fb9f3a"
             ],
             [
              0.8888888888888888,
              "#fdca26"
             ],
             [
              1,
              "#f0f921"
             ]
            ],
            "type": "heatmap"
           }
          ],
          "heatmapgl": [
           {
            "colorbar": {
             "outlinewidth": 0,
             "ticks": ""
            },
            "colorscale": [
             [
              0,
              "#0d0887"
             ],
             [
              0.1111111111111111,
              "#46039f"
             ],
             [
              0.2222222222222222,
              "#7201a8"
             ],
             [
              0.3333333333333333,
              "#9c179e"
             ],
             [
              0.4444444444444444,
              "#bd3786"
             ],
             [
              0.5555555555555556,
              "#d8576b"
             ],
             [
              0.6666666666666666,
              "#ed7953"
             ],
             [
              0.7777777777777778,
              "#fb9f3a"
             ],
             [
              0.8888888888888888,
              "#fdca26"
             ],
             [
              1,
              "#f0f921"
             ]
            ],
            "type": "heatmapgl"
           }
          ],
          "histogram": [
           {
            "marker": {
             "pattern": {
              "fillmode": "overlay",
              "size": 10,
              "solidity": 0.2
             }
            },
            "type": "histogram"
           }
          ],
          "histogram2d": [
           {
            "colorbar": {
             "outlinewidth": 0,
             "ticks": ""
            },
            "colorscale": [
             [
              0,
              "#0d0887"
             ],
             [
              0.1111111111111111,
              "#46039f"
             ],
             [
              0.2222222222222222,
              "#7201a8"
             ],
             [
              0.3333333333333333,
              "#9c179e"
             ],
             [
              0.4444444444444444,
              "#bd3786"
             ],
             [
              0.5555555555555556,
              "#d8576b"
             ],
             [
              0.6666666666666666,
              "#ed7953"
             ],
             [
              0.7777777777777778,
              "#fb9f3a"
             ],
             [
              0.8888888888888888,
              "#fdca26"
             ],
             [
              1,
              "#f0f921"
             ]
            ],
            "type": "histogram2d"
           }
          ],
          "histogram2dcontour": [
           {
            "colorbar": {
             "outlinewidth": 0,
             "ticks": ""
            },
            "colorscale": [
             [
              0,
              "#0d0887"
             ],
             [
              0.1111111111111111,
              "#46039f"
             ],
             [
              0.2222222222222222,
              "#7201a8"
             ],
             [
              0.3333333333333333,
              "#9c179e"
             ],
             [
              0.4444444444444444,
              "#bd3786"
             ],
             [
              0.5555555555555556,
              "#d8576b"
             ],
             [
              0.6666666666666666,
              "#ed7953"
             ],
             [
              0.7777777777777778,
              "#fb9f3a"
             ],
             [
              0.8888888888888888,
              "#fdca26"
             ],
             [
              1,
              "#f0f921"
             ]
            ],
            "type": "histogram2dcontour"
           }
          ],
          "mesh3d": [
           {
            "colorbar": {
             "outlinewidth": 0,
             "ticks": ""
            },
            "type": "mesh3d"
           }
          ],
          "parcoords": [
           {
            "line": {
             "colorbar": {
              "outlinewidth": 0,
              "ticks": ""
             }
            },
            "type": "parcoords"
           }
          ],
          "pie": [
           {
            "automargin": true,
            "type": "pie"
           }
          ],
          "scatter": [
           {
            "marker": {
             "colorbar": {
              "outlinewidth": 0,
              "ticks": ""
             }
            },
            "type": "scatter"
           }
          ],
          "scatter3d": [
           {
            "line": {
             "colorbar": {
              "outlinewidth": 0,
              "ticks": ""
             }
            },
            "marker": {
             "colorbar": {
              "outlinewidth": 0,
              "ticks": ""
             }
            },
            "type": "scatter3d"
           }
          ],
          "scattercarpet": [
           {
            "marker": {
             "colorbar": {
              "outlinewidth": 0,
              "ticks": ""
             }
            },
            "type": "scattercarpet"
           }
          ],
          "scattergeo": [
           {
            "marker": {
             "colorbar": {
              "outlinewidth": 0,
              "ticks": ""
             }
            },
            "type": "scattergeo"
           }
          ],
          "scattergl": [
           {
            "marker": {
             "colorbar": {
              "outlinewidth": 0,
              "ticks": ""
             }
            },
            "type": "scattergl"
           }
          ],
          "scattermapbox": [
           {
            "marker": {
             "colorbar": {
              "outlinewidth": 0,
              "ticks": ""
             }
            },
            "type": "scattermapbox"
           }
          ],
          "scatterpolar": [
           {
            "marker": {
             "colorbar": {
              "outlinewidth": 0,
              "ticks": ""
             }
            },
            "type": "scatterpolar"
           }
          ],
          "scatterpolargl": [
           {
            "marker": {
             "colorbar": {
              "outlinewidth": 0,
              "ticks": ""
             }
            },
            "type": "scatterpolargl"
           }
          ],
          "scatterternary": [
           {
            "marker": {
             "colorbar": {
              "outlinewidth": 0,
              "ticks": ""
             }
            },
            "type": "scatterternary"
           }
          ],
          "surface": [
           {
            "colorbar": {
             "outlinewidth": 0,
             "ticks": ""
            },
            "colorscale": [
             [
              0,
              "#0d0887"
             ],
             [
              0.1111111111111111,
              "#46039f"
             ],
             [
              0.2222222222222222,
              "#7201a8"
             ],
             [
              0.3333333333333333,
              "#9c179e"
             ],
             [
              0.4444444444444444,
              "#bd3786"
             ],
             [
              0.5555555555555556,
              "#d8576b"
             ],
             [
              0.6666666666666666,
              "#ed7953"
             ],
             [
              0.7777777777777778,
              "#fb9f3a"
             ],
             [
              0.8888888888888888,
              "#fdca26"
             ],
             [
              1,
              "#f0f921"
             ]
            ],
            "type": "surface"
           }
          ],
          "table": [
           {
            "cells": {
             "fill": {
              "color": "#EBF0F8"
             },
             "line": {
              "color": "white"
             }
            },
            "header": {
             "fill": {
              "color": "#C8D4E3"
             },
             "line": {
              "color": "white"
             }
            },
            "type": "table"
           }
          ]
         },
         "layout": {
          "annotationdefaults": {
           "arrowcolor": "#2a3f5f",
           "arrowhead": 0,
           "arrowwidth": 1
          },
          "autotypenumbers": "strict",
          "coloraxis": {
           "colorbar": {
            "outlinewidth": 0,
            "ticks": ""
           }
          },
          "colorscale": {
           "diverging": [
            [
             0,
             "#8e0152"
            ],
            [
             0.1,
             "#c51b7d"
            ],
            [
             0.2,
             "#de77ae"
            ],
            [
             0.3,
             "#f1b6da"
            ],
            [
             0.4,
             "#fde0ef"
            ],
            [
             0.5,
             "#f7f7f7"
            ],
            [
             0.6,
             "#e6f5d0"
            ],
            [
             0.7,
             "#b8e186"
            ],
            [
             0.8,
             "#7fbc41"
            ],
            [
             0.9,
             "#4d9221"
            ],
            [
             1,
             "#276419"
            ]
           ],
           "sequential": [
            [
             0,
             "#0d0887"
            ],
            [
             0.1111111111111111,
             "#46039f"
            ],
            [
             0.2222222222222222,
             "#7201a8"
            ],
            [
             0.3333333333333333,
             "#9c179e"
            ],
            [
             0.4444444444444444,
             "#bd3786"
            ],
            [
             0.5555555555555556,
             "#d8576b"
            ],
            [
             0.6666666666666666,
             "#ed7953"
            ],
            [
             0.7777777777777778,
             "#fb9f3a"
            ],
            [
             0.8888888888888888,
             "#fdca26"
            ],
            [
             1,
             "#f0f921"
            ]
           ],
           "sequentialminus": [
            [
             0,
             "#0d0887"
            ],
            [
             0.1111111111111111,
             "#46039f"
            ],
            [
             0.2222222222222222,
             "#7201a8"
            ],
            [
             0.3333333333333333,
             "#9c179e"
            ],
            [
             0.4444444444444444,
             "#bd3786"
            ],
            [
             0.5555555555555556,
             "#d8576b"
            ],
            [
             0.6666666666666666,
             "#ed7953"
            ],
            [
             0.7777777777777778,
             "#fb9f3a"
            ],
            [
             0.8888888888888888,
             "#fdca26"
            ],
            [
             1,
             "#f0f921"
            ]
           ]
          },
          "colorway": [
           "#636efa",
           "#EF553B",
           "#00cc96",
           "#ab63fa",
           "#FFA15A",
           "#19d3f3",
           "#FF6692",
           "#B6E880",
           "#FF97FF",
           "#FECB52"
          ],
          "font": {
           "color": "#2a3f5f"
          },
          "geo": {
           "bgcolor": "white",
           "lakecolor": "white",
           "landcolor": "#E5ECF6",
           "showlakes": true,
           "showland": true,
           "subunitcolor": "white"
          },
          "hoverlabel": {
           "align": "left"
          },
          "hovermode": "closest",
          "mapbox": {
           "style": "light"
          },
          "paper_bgcolor": "white",
          "plot_bgcolor": "#E5ECF6",
          "polar": {
           "angularaxis": {
            "gridcolor": "white",
            "linecolor": "white",
            "ticks": ""
           },
           "bgcolor": "#E5ECF6",
           "radialaxis": {
            "gridcolor": "white",
            "linecolor": "white",
            "ticks": ""
           }
          },
          "scene": {
           "xaxis": {
            "backgroundcolor": "#E5ECF6",
            "gridcolor": "white",
            "gridwidth": 2,
            "linecolor": "white",
            "showbackground": true,
            "ticks": "",
            "zerolinecolor": "white"
           },
           "yaxis": {
            "backgroundcolor": "#E5ECF6",
            "gridcolor": "white",
            "gridwidth": 2,
            "linecolor": "white",
            "showbackground": true,
            "ticks": "",
            "zerolinecolor": "white"
           },
           "zaxis": {
            "backgroundcolor": "#E5ECF6",
            "gridcolor": "white",
            "gridwidth": 2,
            "linecolor": "white",
            "showbackground": true,
            "ticks": "",
            "zerolinecolor": "white"
           }
          },
          "shapedefaults": {
           "line": {
            "color": "#2a3f5f"
           }
          },
          "ternary": {
           "aaxis": {
            "gridcolor": "white",
            "linecolor": "white",
            "ticks": ""
           },
           "baxis": {
            "gridcolor": "white",
            "linecolor": "white",
            "ticks": ""
           },
           "bgcolor": "#E5ECF6",
           "caxis": {
            "gridcolor": "white",
            "linecolor": "white",
            "ticks": ""
           }
          },
          "title": {
           "x": 0.05
          },
          "xaxis": {
           "automargin": true,
           "gridcolor": "white",
           "linecolor": "white",
           "ticks": "",
           "title": {
            "standoff": 15
           },
           "zerolinecolor": "white",
           "zerolinewidth": 2
          },
          "yaxis": {
           "automargin": true,
           "gridcolor": "white",
           "linecolor": "white",
           "ticks": "",
           "title": {
            "standoff": 15
           },
           "zerolinecolor": "white",
           "zerolinewidth": 2
          }
         }
        },
        "title": {
         "text": "Boolean Logic for the AND Problem"
        },
        "xaxis": {
         "title": {
          "text": "x1"
         }
        },
        "yaxis": {
         "title": {
          "text": "x2"
         }
        }
       }
      },
      "text/html": [
       "<div>                            <div id=\"637e6ba1-23d8-4dde-91eb-62e4a8f4fb02\" class=\"plotly-graph-div\" style=\"height:525px; width:100%;\"></div>            <script type=\"text/javascript\">                require([\"plotly\"], function(Plotly) {                    window.PLOTLYENV=window.PLOTLYENV || {};                                    if (document.getElementById(\"637e6ba1-23d8-4dde-91eb-62e4a8f4fb02\")) {                    Plotly.newPlot(                        \"637e6ba1-23d8-4dde-91eb-62e4a8f4fb02\",                        [{\"marker\":{\"color\":\"black\",\"size\":20},\"mode\":\"markers\",\"name\":\"False\",\"type\":\"scatter\",\"x\":[0,0,1],\"y\":[0,1,0]},{\"marker\":{\"color\":\"green\",\"size\":20},\"mode\":\"markers\",\"name\":\"True\",\"type\":\"scatter\",\"x\":[1],\"y\":[1]}],                        {\"legend\":{\"title\":{\"text\":\"True/False Data Points\"}},\"template\":{\"data\":{\"bar\":[{\"error_x\":{\"color\":\"#2a3f5f\"},\"error_y\":{\"color\":\"#2a3f5f\"},\"marker\":{\"line\":{\"color\":\"#E5ECF6\",\"width\":0.5},\"pattern\":{\"fillmode\":\"overlay\",\"size\":10,\"solidity\":0.2}},\"type\":\"bar\"}],\"barpolar\":[{\"marker\":{\"line\":{\"color\":\"#E5ECF6\",\"width\":0.5},\"pattern\":{\"fillmode\":\"overlay\",\"size\":10,\"solidity\":0.2}},\"type\":\"barpolar\"}],\"carpet\":[{\"aaxis\":{\"endlinecolor\":\"#2a3f5f\",\"gridcolor\":\"white\",\"linecolor\":\"white\",\"minorgridcolor\":\"white\",\"startlinecolor\":\"#2a3f5f\"},\"baxis\":{\"endlinecolor\":\"#2a3f5f\",\"gridcolor\":\"white\",\"linecolor\":\"white\",\"minorgridcolor\":\"white\",\"startlinecolor\":\"#2a3f5f\"},\"type\":\"carpet\"}],\"choropleth\":[{\"colorbar\":{\"outlinewidth\":0,\"ticks\":\"\"},\"type\":\"choropleth\"}],\"contour\":[{\"colorbar\":{\"outlinewidth\":0,\"ticks\":\"\"},\"colorscale\":[[0.0,\"#0d0887\"],[0.1111111111111111,\"#46039f\"],[0.2222222222222222,\"#7201a8\"],[0.3333333333333333,\"#9c179e\"],[0.4444444444444444,\"#bd3786\"],[0.5555555555555556,\"#d8576b\"],[0.6666666666666666,\"#ed7953\"],[0.7777777777777778,\"#fb9f3a\"],[0.8888888888888888,\"#fdca26\"],[1.0,\"#f0f921\"]],\"type\":\"contour\"}],\"contourcarpet\":[{\"colorbar\":{\"outlinewidth\":0,\"ticks\":\"\"},\"type\":\"contourcarpet\"}],\"heatmap\":[{\"colorbar\":{\"outlinewidth\":0,\"ticks\":\"\"},\"colorscale\":[[0.0,\"#0d0887\"],[0.1111111111111111,\"#46039f\"],[0.2222222222222222,\"#7201a8\"],[0.3333333333333333,\"#9c179e\"],[0.4444444444444444,\"#bd3786\"],[0.5555555555555556,\"#d8576b\"],[0.6666666666666666,\"#ed7953\"],[0.7777777777777778,\"#fb9f3a\"],[0.8888888888888888,\"#fdca26\"],[1.0,\"#f0f921\"]],\"type\":\"heatmap\"}],\"heatmapgl\":[{\"colorbar\":{\"outlinewidth\":0,\"ticks\":\"\"},\"colorscale\":[[0.0,\"#0d0887\"],[0.1111111111111111,\"#46039f\"],[0.2222222222222222,\"#7201a8\"],[0.3333333333333333,\"#9c179e\"],[0.4444444444444444,\"#bd3786\"],[0.5555555555555556,\"#d8576b\"],[0.6666666666666666,\"#ed7953\"],[0.7777777777777778,\"#fb9f3a\"],[0.8888888888888888,\"#fdca26\"],[1.0,\"#f0f921\"]],\"type\":\"heatmapgl\"}],\"histogram\":[{\"marker\":{\"pattern\":{\"fillmode\":\"overlay\",\"size\":10,\"solidity\":0.2}},\"type\":\"histogram\"}],\"histogram2d\":[{\"colorbar\":{\"outlinewidth\":0,\"ticks\":\"\"},\"colorscale\":[[0.0,\"#0d0887\"],[0.1111111111111111,\"#46039f\"],[0.2222222222222222,\"#7201a8\"],[0.3333333333333333,\"#9c179e\"],[0.4444444444444444,\"#bd3786\"],[0.5555555555555556,\"#d8576b\"],[0.6666666666666666,\"#ed7953\"],[0.7777777777777778,\"#fb9f3a\"],[0.8888888888888888,\"#fdca26\"],[1.0,\"#f0f921\"]],\"type\":\"histogram2d\"}],\"histogram2dcontour\":[{\"colorbar\":{\"outlinewidth\":0,\"ticks\":\"\"},\"colorscale\":[[0.0,\"#0d0887\"],[0.1111111111111111,\"#46039f\"],[0.2222222222222222,\"#7201a8\"],[0.3333333333333333,\"#9c179e\"],[0.4444444444444444,\"#bd3786\"],[0.5555555555555556,\"#d8576b\"],[0.6666666666666666,\"#ed7953\"],[0.7777777777777778,\"#fb9f3a\"],[0.8888888888888888,\"#fdca26\"],[1.0,\"#f0f921\"]],\"type\":\"histogram2dcontour\"}],\"mesh3d\":[{\"colorbar\":{\"outlinewidth\":0,\"ticks\":\"\"},\"type\":\"mesh3d\"}],\"parcoords\":[{\"line\":{\"colorbar\":{\"outlinewidth\":0,\"ticks\":\"\"}},\"type\":\"parcoords\"}],\"pie\":[{\"automargin\":true,\"type\":\"pie\"}],\"scatter\":[{\"marker\":{\"colorbar\":{\"outlinewidth\":0,\"ticks\":\"\"}},\"type\":\"scatter\"}],\"scatter3d\":[{\"line\":{\"colorbar\":{\"outlinewidth\":0,\"ticks\":\"\"}},\"marker\":{\"colorbar\":{\"outlinewidth\":0,\"ticks\":\"\"}},\"type\":\"scatter3d\"}],\"scattercarpet\":[{\"marker\":{\"colorbar\":{\"outlinewidth\":0,\"ticks\":\"\"}},\"type\":\"scattercarpet\"}],\"scattergeo\":[{\"marker\":{\"colorbar\":{\"outlinewidth\":0,\"ticks\":\"\"}},\"type\":\"scattergeo\"}],\"scattergl\":[{\"marker\":{\"colorbar\":{\"outlinewidth\":0,\"ticks\":\"\"}},\"type\":\"scattergl\"}],\"scattermapbox\":[{\"marker\":{\"colorbar\":{\"outlinewidth\":0,\"ticks\":\"\"}},\"type\":\"scattermapbox\"}],\"scatterpolar\":[{\"marker\":{\"colorbar\":{\"outlinewidth\":0,\"ticks\":\"\"}},\"type\":\"scatterpolar\"}],\"scatterpolargl\":[{\"marker\":{\"colorbar\":{\"outlinewidth\":0,\"ticks\":\"\"}},\"type\":\"scatterpolargl\"}],\"scatterternary\":[{\"marker\":{\"colorbar\":{\"outlinewidth\":0,\"ticks\":\"\"}},\"type\":\"scatterternary\"}],\"surface\":[{\"colorbar\":{\"outlinewidth\":0,\"ticks\":\"\"},\"colorscale\":[[0.0,\"#0d0887\"],[0.1111111111111111,\"#46039f\"],[0.2222222222222222,\"#7201a8\"],[0.3333333333333333,\"#9c179e\"],[0.4444444444444444,\"#bd3786\"],[0.5555555555555556,\"#d8576b\"],[0.6666666666666666,\"#ed7953\"],[0.7777777777777778,\"#fb9f3a\"],[0.8888888888888888,\"#fdca26\"],[1.0,\"#f0f921\"]],\"type\":\"surface\"}],\"table\":[{\"cells\":{\"fill\":{\"color\":\"#EBF0F8\"},\"line\":{\"color\":\"white\"}},\"header\":{\"fill\":{\"color\":\"#C8D4E3\"},\"line\":{\"color\":\"white\"}},\"type\":\"table\"}]},\"layout\":{\"annotationdefaults\":{\"arrowcolor\":\"#2a3f5f\",\"arrowhead\":0,\"arrowwidth\":1},\"autotypenumbers\":\"strict\",\"coloraxis\":{\"colorbar\":{\"outlinewidth\":0,\"ticks\":\"\"}},\"colorscale\":{\"diverging\":[[0,\"#8e0152\"],[0.1,\"#c51b7d\"],[0.2,\"#de77ae\"],[0.3,\"#f1b6da\"],[0.4,\"#fde0ef\"],[0.5,\"#f7f7f7\"],[0.6,\"#e6f5d0\"],[0.7,\"#b8e186\"],[0.8,\"#7fbc41\"],[0.9,\"#4d9221\"],[1,\"#276419\"]],\"sequential\":[[0.0,\"#0d0887\"],[0.1111111111111111,\"#46039f\"],[0.2222222222222222,\"#7201a8\"],[0.3333333333333333,\"#9c179e\"],[0.4444444444444444,\"#bd3786\"],[0.5555555555555556,\"#d8576b\"],[0.6666666666666666,\"#ed7953\"],[0.7777777777777778,\"#fb9f3a\"],[0.8888888888888888,\"#fdca26\"],[1.0,\"#f0f921\"]],\"sequentialminus\":[[0.0,\"#0d0887\"],[0.1111111111111111,\"#46039f\"],[0.2222222222222222,\"#7201a8\"],[0.3333333333333333,\"#9c179e\"],[0.4444444444444444,\"#bd3786\"],[0.5555555555555556,\"#d8576b\"],[0.6666666666666666,\"#ed7953\"],[0.7777777777777778,\"#fb9f3a\"],[0.8888888888888888,\"#fdca26\"],[1.0,\"#f0f921\"]]},\"colorway\":[\"#636efa\",\"#EF553B\",\"#00cc96\",\"#ab63fa\",\"#FFA15A\",\"#19d3f3\",\"#FF6692\",\"#B6E880\",\"#FF97FF\",\"#FECB52\"],\"font\":{\"color\":\"#2a3f5f\"},\"geo\":{\"bgcolor\":\"white\",\"lakecolor\":\"white\",\"landcolor\":\"#E5ECF6\",\"showlakes\":true,\"showland\":true,\"subunitcolor\":\"white\"},\"hoverlabel\":{\"align\":\"left\"},\"hovermode\":\"closest\",\"mapbox\":{\"style\":\"light\"},\"paper_bgcolor\":\"white\",\"plot_bgcolor\":\"#E5ECF6\",\"polar\":{\"angularaxis\":{\"gridcolor\":\"white\",\"linecolor\":\"white\",\"ticks\":\"\"},\"bgcolor\":\"#E5ECF6\",\"radialaxis\":{\"gridcolor\":\"white\",\"linecolor\":\"white\",\"ticks\":\"\"}},\"scene\":{\"xaxis\":{\"backgroundcolor\":\"#E5ECF6\",\"gridcolor\":\"white\",\"gridwidth\":2,\"linecolor\":\"white\",\"showbackground\":true,\"ticks\":\"\",\"zerolinecolor\":\"white\"},\"yaxis\":{\"backgroundcolor\":\"#E5ECF6\",\"gridcolor\":\"white\",\"gridwidth\":2,\"linecolor\":\"white\",\"showbackground\":true,\"ticks\":\"\",\"zerolinecolor\":\"white\"},\"zaxis\":{\"backgroundcolor\":\"#E5ECF6\",\"gridcolor\":\"white\",\"gridwidth\":2,\"linecolor\":\"white\",\"showbackground\":true,\"ticks\":\"\",\"zerolinecolor\":\"white\"}},\"shapedefaults\":{\"line\":{\"color\":\"#2a3f5f\"}},\"ternary\":{\"aaxis\":{\"gridcolor\":\"white\",\"linecolor\":\"white\",\"ticks\":\"\"},\"baxis\":{\"gridcolor\":\"white\",\"linecolor\":\"white\",\"ticks\":\"\"},\"bgcolor\":\"#E5ECF6\",\"caxis\":{\"gridcolor\":\"white\",\"linecolor\":\"white\",\"ticks\":\"\"}},\"title\":{\"x\":0.05},\"xaxis\":{\"automargin\":true,\"gridcolor\":\"white\",\"linecolor\":\"white\",\"ticks\":\"\",\"title\":{\"standoff\":15},\"zerolinecolor\":\"white\",\"zerolinewidth\":2},\"yaxis\":{\"automargin\":true,\"gridcolor\":\"white\",\"linecolor\":\"white\",\"ticks\":\"\",\"title\":{\"standoff\":15},\"zerolinecolor\":\"white\",\"zerolinewidth\":2}}},\"title\":{\"text\":\"Boolean Logic for the AND Problem\"},\"xaxis\":{\"title\":{\"text\":\"x1\"}},\"yaxis\":{\"title\":{\"text\":\"x2\"}}},                        {\"responsive\": true}                    ).then(function(){\n",
       "                            \n",
       "var gd = document.getElementById('637e6ba1-23d8-4dde-91eb-62e4a8f4fb02');\n",
       "var x = new MutationObserver(function (mutations, observer) {{\n",
       "        var display = window.getComputedStyle(gd).display;\n",
       "        if (!display || display === 'none') {{\n",
       "            console.log([gd, 'removed!']);\n",
       "            Plotly.purge(gd);\n",
       "            observer.disconnect();\n",
       "        }}\n",
       "}});\n",
       "\n",
       "// Listen for the removal of the full notebook cells\n",
       "var notebookContainer = gd.closest('#notebook-container');\n",
       "if (notebookContainer) {{\n",
       "    x.observe(notebookContainer, {childList: true});\n",
       "}}\n",
       "\n",
       "// Listen for the clearing of the current output cell\n",
       "var outputEl = gd.closest('.output');\n",
       "if (outputEl) {{\n",
       "    x.observe(outputEl, {childList: true});\n",
       "}}\n",
       "\n",
       "                        })                };                });            </script>        </div>"
      ]
     },
     "metadata": {},
     "output_type": "display_data"
    }
   ],
   "source": [
    "# Plot the data points\n",
    "fig = go.Figure()\n",
    "# fig.add_trace(go.Scatter(x=x1, y=x2, fill='tozeroy', line_color = 'red', mode='lines'))\n",
    "fig.add_trace(go.Scatter(x = x1[:3], y =x2[:3], mode ='markers',\n",
    "                    marker = dict(color ='black', size = 20), name = 'False'))\n",
    "fig.add_trace(go.Scatter(x = x1[3:], y =x2[3:], mode ='markers',\n",
    "                    marker = dict(color ='green', size = 20), name = 'True'))\n",
    "fig.update_layout(xaxis_title = \"x1\", yaxis_title = \"x2\", title=\"Boolean Logic for the AND Problem\",\n",
    "                legend_title = \"True/False Data Points\")\n",
    "fig.show()"
   ]
  },
  {
   "cell_type": "markdown",
   "id": "5d19f753",
   "metadata": {},
   "source": [
    "# Equation of a Line"
   ]
  },
  {
   "cell_type": "markdown",
   "id": "f645e218",
   "metadata": {},
   "source": [
    "# Equation of a Line\n",
    "\n",
    "**Plot the line**\n",
    "$$x_0 \\times w_0 + x_1 \\times w_1 + x_2 \\times w_2 = 0 $$\n",
    "$$x_2 = - \\frac {\\left(x_0 \\times w_0 + x_1 \\times w_1 \\right)}{w_2} $$\n",
    "where $x_2 = y, x_1 = x, x_0 = intercept$"
   ]
  },
  {
   "cell_type": "code",
   "execution_count": 15,
   "id": "758a7369",
   "metadata": {},
   "outputs": [
    {
     "name": "stdout",
     "output_type": "stream",
     "text": [
      "W0: 1.690525703800356, W1: -0.4659373705408328, W2: 0.0328201636785844\n"
     ]
    }
   ],
   "source": [
    "# find the value of weights that will solve the problem\n",
    "# Step 1: Pick random weights with the bias weight the first element\n",
    "np.random.seed(7) # a number to make sure that we get the same random numbers everytime\n",
    "weights = np.random.randn(3) \n",
    "init_weights = weights.copy()\n",
    "print(f\"W0: {weights[0]}, W1: {weights[1]}, W2: {weights[2]}\")"
   ]
  },
  {
   "cell_type": "code",
   "execution_count": 16,
   "id": "53d6c0f4",
   "metadata": {},
   "outputs": [
    {
     "data": {
      "application/vnd.plotly.v1+json": {
       "config": {
        "plotlyServerURL": "https://plot.ly"
       },
       "data": [
        {
         "marker": {
          "color": "black",
          "size": 20
         },
         "mode": "markers",
         "name": "- data point",
         "type": "scatter",
         "x": [
          0,
          0,
          1
         ],
         "y": [
          0,
          1,
          0
         ]
        },
        {
         "marker": {
          "color": "green",
          "size": 20
         },
         "mode": "markers",
         "name": "+ data point",
         "type": "scatter",
         "x": [
          1
         ],
         "y": [
          1
         ]
        },
        {
         "line": {
          "color": "red",
          "width": 5
         },
         "mode": "lines",
         "name": "1st predicted line",
         "type": "scatter",
         "x": [
          0,
          0,
          1,
          1
         ],
         "y": [
          -51.50875298356439,
          -51.50875298356439,
          -37.31207270177582,
          -37.31207270177582
         ]
        }
       ],
       "layout": {
        "legend": {
         "title": {
          "text": "True/False Data Points & Boundary Line"
         }
        },
        "template": {
         "data": {
          "bar": [
           {
            "error_x": {
             "color": "#2a3f5f"
            },
            "error_y": {
             "color": "#2a3f5f"
            },
            "marker": {
             "line": {
              "color": "#E5ECF6",
              "width": 0.5
             },
             "pattern": {
              "fillmode": "overlay",
              "size": 10,
              "solidity": 0.2
             }
            },
            "type": "bar"
           }
          ],
          "barpolar": [
           {
            "marker": {
             "line": {
              "color": "#E5ECF6",
              "width": 0.5
             },
             "pattern": {
              "fillmode": "overlay",
              "size": 10,
              "solidity": 0.2
             }
            },
            "type": "barpolar"
           }
          ],
          "carpet": [
           {
            "aaxis": {
             "endlinecolor": "#2a3f5f",
             "gridcolor": "white",
             "linecolor": "white",
             "minorgridcolor": "white",
             "startlinecolor": "#2a3f5f"
            },
            "baxis": {
             "endlinecolor": "#2a3f5f",
             "gridcolor": "white",
             "linecolor": "white",
             "minorgridcolor": "white",
             "startlinecolor": "#2a3f5f"
            },
            "type": "carpet"
           }
          ],
          "choropleth": [
           {
            "colorbar": {
             "outlinewidth": 0,
             "ticks": ""
            },
            "type": "choropleth"
           }
          ],
          "contour": [
           {
            "colorbar": {
             "outlinewidth": 0,
             "ticks": ""
            },
            "colorscale": [
             [
              0,
              "#0d0887"
             ],
             [
              0.1111111111111111,
              "#46039f"
             ],
             [
              0.2222222222222222,
              "#7201a8"
             ],
             [
              0.3333333333333333,
              "#9c179e"
             ],
             [
              0.4444444444444444,
              "#bd3786"
             ],
             [
              0.5555555555555556,
              "#d8576b"
             ],
             [
              0.6666666666666666,
              "#ed7953"
             ],
             [
              0.7777777777777778,
              "#fb9f3a"
             ],
             [
              0.8888888888888888,
              "#fdca26"
             ],
             [
              1,
              "#f0f921"
             ]
            ],
            "type": "contour"
           }
          ],
          "contourcarpet": [
           {
            "colorbar": {
             "outlinewidth": 0,
             "ticks": ""
            },
            "type": "contourcarpet"
           }
          ],
          "heatmap": [
           {
            "colorbar": {
             "outlinewidth": 0,
             "ticks": ""
            },
            "colorscale": [
             [
              0,
              "#0d0887"
             ],
             [
              0.1111111111111111,
              "#46039f"
             ],
             [
              0.2222222222222222,
              "#7201a8"
             ],
             [
              0.3333333333333333,
              "#9c179e"
             ],
             [
              0.4444444444444444,
              "#bd3786"
             ],
             [
              0.5555555555555556,
              "#d8576b"
             ],
             [
              0.6666666666666666,
              "#ed7953"
             ],
             [
              0.7777777777777778,
              "#fb9f3a"
             ],
             [
              0.8888888888888888,
              "#fdca26"
             ],
             [
              1,
              "#f0f921"
             ]
            ],
            "type": "heatmap"
           }
          ],
          "heatmapgl": [
           {
            "colorbar": {
             "outlinewidth": 0,
             "ticks": ""
            },
            "colorscale": [
             [
              0,
              "#0d0887"
             ],
             [
              0.1111111111111111,
              "#46039f"
             ],
             [
              0.2222222222222222,
              "#7201a8"
             ],
             [
              0.3333333333333333,
              "#9c179e"
             ],
             [
              0.4444444444444444,
              "#bd3786"
             ],
             [
              0.5555555555555556,
              "#d8576b"
             ],
             [
              0.6666666666666666,
              "#ed7953"
             ],
             [
              0.7777777777777778,
              "#fb9f3a"
             ],
             [
              0.8888888888888888,
              "#fdca26"
             ],
             [
              1,
              "#f0f921"
             ]
            ],
            "type": "heatmapgl"
           }
          ],
          "histogram": [
           {
            "marker": {
             "pattern": {
              "fillmode": "overlay",
              "size": 10,
              "solidity": 0.2
             }
            },
            "type": "histogram"
           }
          ],
          "histogram2d": [
           {
            "colorbar": {
             "outlinewidth": 0,
             "ticks": ""
            },
            "colorscale": [
             [
              0,
              "#0d0887"
             ],
             [
              0.1111111111111111,
              "#46039f"
             ],
             [
              0.2222222222222222,
              "#7201a8"
             ],
             [
              0.3333333333333333,
              "#9c179e"
             ],
             [
              0.4444444444444444,
              "#bd3786"
             ],
             [
              0.5555555555555556,
              "#d8576b"
             ],
             [
              0.6666666666666666,
              "#ed7953"
             ],
             [
              0.7777777777777778,
              "#fb9f3a"
             ],
             [
              0.8888888888888888,
              "#fdca26"
             ],
             [
              1,
              "#f0f921"
             ]
            ],
            "type": "histogram2d"
           }
          ],
          "histogram2dcontour": [
           {
            "colorbar": {
             "outlinewidth": 0,
             "ticks": ""
            },
            "colorscale": [
             [
              0,
              "#0d0887"
             ],
             [
              0.1111111111111111,
              "#46039f"
             ],
             [
              0.2222222222222222,
              "#7201a8"
             ],
             [
              0.3333333333333333,
              "#9c179e"
             ],
             [
              0.4444444444444444,
              "#bd3786"
             ],
             [
              0.5555555555555556,
              "#d8576b"
             ],
             [
              0.6666666666666666,
              "#ed7953"
             ],
             [
              0.7777777777777778,
              "#fb9f3a"
             ],
             [
              0.8888888888888888,
              "#fdca26"
             ],
             [
              1,
              "#f0f921"
             ]
            ],
            "type": "histogram2dcontour"
           }
          ],
          "mesh3d": [
           {
            "colorbar": {
             "outlinewidth": 0,
             "ticks": ""
            },
            "type": "mesh3d"
           }
          ],
          "parcoords": [
           {
            "line": {
             "colorbar": {
              "outlinewidth": 0,
              "ticks": ""
             }
            },
            "type": "parcoords"
           }
          ],
          "pie": [
           {
            "automargin": true,
            "type": "pie"
           }
          ],
          "scatter": [
           {
            "marker": {
             "colorbar": {
              "outlinewidth": 0,
              "ticks": ""
             }
            },
            "type": "scatter"
           }
          ],
          "scatter3d": [
           {
            "line": {
             "colorbar": {
              "outlinewidth": 0,
              "ticks": ""
             }
            },
            "marker": {
             "colorbar": {
              "outlinewidth": 0,
              "ticks": ""
             }
            },
            "type": "scatter3d"
           }
          ],
          "scattercarpet": [
           {
            "marker": {
             "colorbar": {
              "outlinewidth": 0,
              "ticks": ""
             }
            },
            "type": "scattercarpet"
           }
          ],
          "scattergeo": [
           {
            "marker": {
             "colorbar": {
              "outlinewidth": 0,
              "ticks": ""
             }
            },
            "type": "scattergeo"
           }
          ],
          "scattergl": [
           {
            "marker": {
             "colorbar": {
              "outlinewidth": 0,
              "ticks": ""
             }
            },
            "type": "scattergl"
           }
          ],
          "scattermapbox": [
           {
            "marker": {
             "colorbar": {
              "outlinewidth": 0,
              "ticks": ""
             }
            },
            "type": "scattermapbox"
           }
          ],
          "scatterpolar": [
           {
            "marker": {
             "colorbar": {
              "outlinewidth": 0,
              "ticks": ""
             }
            },
            "type": "scatterpolar"
           }
          ],
          "scatterpolargl": [
           {
            "marker": {
             "colorbar": {
              "outlinewidth": 0,
              "ticks": ""
             }
            },
            "type": "scatterpolargl"
           }
          ],
          "scatterternary": [
           {
            "marker": {
             "colorbar": {
              "outlinewidth": 0,
              "ticks": ""
             }
            },
            "type": "scatterternary"
           }
          ],
          "surface": [
           {
            "colorbar": {
             "outlinewidth": 0,
             "ticks": ""
            },
            "colorscale": [
             [
              0,
              "#0d0887"
             ],
             [
              0.1111111111111111,
              "#46039f"
             ],
             [
              0.2222222222222222,
              "#7201a8"
             ],
             [
              0.3333333333333333,
              "#9c179e"
             ],
             [
              0.4444444444444444,
              "#bd3786"
             ],
             [
              0.5555555555555556,
              "#d8576b"
             ],
             [
              0.6666666666666666,
              "#ed7953"
             ],
             [
              0.7777777777777778,
              "#fb9f3a"
             ],
             [
              0.8888888888888888,
              "#fdca26"
             ],
             [
              1,
              "#f0f921"
             ]
            ],
            "type": "surface"
           }
          ],
          "table": [
           {
            "cells": {
             "fill": {
              "color": "#EBF0F8"
             },
             "line": {
              "color": "white"
             }
            },
            "header": {
             "fill": {
              "color": "#C8D4E3"
             },
             "line": {
              "color": "white"
             }
            },
            "type": "table"
           }
          ]
         },
         "layout": {
          "annotationdefaults": {
           "arrowcolor": "#2a3f5f",
           "arrowhead": 0,
           "arrowwidth": 1
          },
          "autotypenumbers": "strict",
          "coloraxis": {
           "colorbar": {
            "outlinewidth": 0,
            "ticks": ""
           }
          },
          "colorscale": {
           "diverging": [
            [
             0,
             "#8e0152"
            ],
            [
             0.1,
             "#c51b7d"
            ],
            [
             0.2,
             "#de77ae"
            ],
            [
             0.3,
             "#f1b6da"
            ],
            [
             0.4,
             "#fde0ef"
            ],
            [
             0.5,
             "#f7f7f7"
            ],
            [
             0.6,
             "#e6f5d0"
            ],
            [
             0.7,
             "#b8e186"
            ],
            [
             0.8,
             "#7fbc41"
            ],
            [
             0.9,
             "#4d9221"
            ],
            [
             1,
             "#276419"
            ]
           ],
           "sequential": [
            [
             0,
             "#0d0887"
            ],
            [
             0.1111111111111111,
             "#46039f"
            ],
            [
             0.2222222222222222,
             "#7201a8"
            ],
            [
             0.3333333333333333,
             "#9c179e"
            ],
            [
             0.4444444444444444,
             "#bd3786"
            ],
            [
             0.5555555555555556,
             "#d8576b"
            ],
            [
             0.6666666666666666,
             "#ed7953"
            ],
            [
             0.7777777777777778,
             "#fb9f3a"
            ],
            [
             0.8888888888888888,
             "#fdca26"
            ],
            [
             1,
             "#f0f921"
            ]
           ],
           "sequentialminus": [
            [
             0,
             "#0d0887"
            ],
            [
             0.1111111111111111,
             "#46039f"
            ],
            [
             0.2222222222222222,
             "#7201a8"
            ],
            [
             0.3333333333333333,
             "#9c179e"
            ],
            [
             0.4444444444444444,
             "#bd3786"
            ],
            [
             0.5555555555555556,
             "#d8576b"
            ],
            [
             0.6666666666666666,
             "#ed7953"
            ],
            [
             0.7777777777777778,
             "#fb9f3a"
            ],
            [
             0.8888888888888888,
             "#fdca26"
            ],
            [
             1,
             "#f0f921"
            ]
           ]
          },
          "colorway": [
           "#636efa",
           "#EF553B",
           "#00cc96",
           "#ab63fa",
           "#FFA15A",
           "#19d3f3",
           "#FF6692",
           "#B6E880",
           "#FF97FF",
           "#FECB52"
          ],
          "font": {
           "color": "#2a3f5f"
          },
          "geo": {
           "bgcolor": "white",
           "lakecolor": "white",
           "landcolor": "#E5ECF6",
           "showlakes": true,
           "showland": true,
           "subunitcolor": "white"
          },
          "hoverlabel": {
           "align": "left"
          },
          "hovermode": "closest",
          "mapbox": {
           "style": "light"
          },
          "paper_bgcolor": "white",
          "plot_bgcolor": "#E5ECF6",
          "polar": {
           "angularaxis": {
            "gridcolor": "white",
            "linecolor": "white",
            "ticks": ""
           },
           "bgcolor": "#E5ECF6",
           "radialaxis": {
            "gridcolor": "white",
            "linecolor": "white",
            "ticks": ""
           }
          },
          "scene": {
           "xaxis": {
            "backgroundcolor": "#E5ECF6",
            "gridcolor": "white",
            "gridwidth": 2,
            "linecolor": "white",
            "showbackground": true,
            "ticks": "",
            "zerolinecolor": "white"
           },
           "yaxis": {
            "backgroundcolor": "#E5ECF6",
            "gridcolor": "white",
            "gridwidth": 2,
            "linecolor": "white",
            "showbackground": true,
            "ticks": "",
            "zerolinecolor": "white"
           },
           "zaxis": {
            "backgroundcolor": "#E5ECF6",
            "gridcolor": "white",
            "gridwidth": 2,
            "linecolor": "white",
            "showbackground": true,
            "ticks": "",
            "zerolinecolor": "white"
           }
          },
          "shapedefaults": {
           "line": {
            "color": "#2a3f5f"
           }
          },
          "ternary": {
           "aaxis": {
            "gridcolor": "white",
            "linecolor": "white",
            "ticks": ""
           },
           "baxis": {
            "gridcolor": "white",
            "linecolor": "white",
            "ticks": ""
           },
           "bgcolor": "#E5ECF6",
           "caxis": {
            "gridcolor": "white",
            "linecolor": "white",
            "ticks": ""
           }
          },
          "title": {
           "x": 0.05
          },
          "xaxis": {
           "automargin": true,
           "gridcolor": "white",
           "linecolor": "white",
           "ticks": "",
           "title": {
            "standoff": 15
           },
           "zerolinecolor": "white",
           "zerolinewidth": 2
          },
          "yaxis": {
           "automargin": true,
           "gridcolor": "white",
           "linecolor": "white",
           "ticks": "",
           "title": {
            "standoff": 15
           },
           "zerolinecolor": "white",
           "zerolinewidth": 2
          }
         }
        },
        "title": {
         "text": "Boolean Logic for the AND Problem"
        },
        "xaxis": {
         "title": {
          "text": "x1"
         }
        },
        "yaxis": {
         "title": {
          "text": "x2"
         }
        }
       }
      },
      "text/html": [
       "<div>                            <div id=\"f50ae431-d8ab-44b0-a5bd-fa6fa6d787a2\" class=\"plotly-graph-div\" style=\"height:525px; width:100%;\"></div>            <script type=\"text/javascript\">                require([\"plotly\"], function(Plotly) {                    window.PLOTLYENV=window.PLOTLYENV || {};                                    if (document.getElementById(\"f50ae431-d8ab-44b0-a5bd-fa6fa6d787a2\")) {                    Plotly.newPlot(                        \"f50ae431-d8ab-44b0-a5bd-fa6fa6d787a2\",                        [{\"marker\":{\"color\":\"black\",\"size\":20},\"mode\":\"markers\",\"name\":\"- data point\",\"type\":\"scatter\",\"x\":[0,0,1],\"y\":[0,1,0]},{\"marker\":{\"color\":\"green\",\"size\":20},\"mode\":\"markers\",\"name\":\"+ data point\",\"type\":\"scatter\",\"x\":[1],\"y\":[1]},{\"line\":{\"color\":\"red\",\"width\":5},\"mode\":\"lines\",\"name\":\"1st predicted line\",\"type\":\"scatter\",\"x\":[0,0,1,1],\"y\":[-51.50875298356439,-51.50875298356439,-37.31207270177582,-37.31207270177582]}],                        {\"legend\":{\"title\":{\"text\":\"True/False Data Points & Boundary Line\"}},\"template\":{\"data\":{\"bar\":[{\"error_x\":{\"color\":\"#2a3f5f\"},\"error_y\":{\"color\":\"#2a3f5f\"},\"marker\":{\"line\":{\"color\":\"#E5ECF6\",\"width\":0.5},\"pattern\":{\"fillmode\":\"overlay\",\"size\":10,\"solidity\":0.2}},\"type\":\"bar\"}],\"barpolar\":[{\"marker\":{\"line\":{\"color\":\"#E5ECF6\",\"width\":0.5},\"pattern\":{\"fillmode\":\"overlay\",\"size\":10,\"solidity\":0.2}},\"type\":\"barpolar\"}],\"carpet\":[{\"aaxis\":{\"endlinecolor\":\"#2a3f5f\",\"gridcolor\":\"white\",\"linecolor\":\"white\",\"minorgridcolor\":\"white\",\"startlinecolor\":\"#2a3f5f\"},\"baxis\":{\"endlinecolor\":\"#2a3f5f\",\"gridcolor\":\"white\",\"linecolor\":\"white\",\"minorgridcolor\":\"white\",\"startlinecolor\":\"#2a3f5f\"},\"type\":\"carpet\"}],\"choropleth\":[{\"colorbar\":{\"outlinewidth\":0,\"ticks\":\"\"},\"type\":\"choropleth\"}],\"contour\":[{\"colorbar\":{\"outlinewidth\":0,\"ticks\":\"\"},\"colorscale\":[[0.0,\"#0d0887\"],[0.1111111111111111,\"#46039f\"],[0.2222222222222222,\"#7201a8\"],[0.3333333333333333,\"#9c179e\"],[0.4444444444444444,\"#bd3786\"],[0.5555555555555556,\"#d8576b\"],[0.6666666666666666,\"#ed7953\"],[0.7777777777777778,\"#fb9f3a\"],[0.8888888888888888,\"#fdca26\"],[1.0,\"#f0f921\"]],\"type\":\"contour\"}],\"contourcarpet\":[{\"colorbar\":{\"outlinewidth\":0,\"ticks\":\"\"},\"type\":\"contourcarpet\"}],\"heatmap\":[{\"colorbar\":{\"outlinewidth\":0,\"ticks\":\"\"},\"colorscale\":[[0.0,\"#0d0887\"],[0.1111111111111111,\"#46039f\"],[0.2222222222222222,\"#7201a8\"],[0.3333333333333333,\"#9c179e\"],[0.4444444444444444,\"#bd3786\"],[0.5555555555555556,\"#d8576b\"],[0.6666666666666666,\"#ed7953\"],[0.7777777777777778,\"#fb9f3a\"],[0.8888888888888888,\"#fdca26\"],[1.0,\"#f0f921\"]],\"type\":\"heatmap\"}],\"heatmapgl\":[{\"colorbar\":{\"outlinewidth\":0,\"ticks\":\"\"},\"colorscale\":[[0.0,\"#0d0887\"],[0.1111111111111111,\"#46039f\"],[0.2222222222222222,\"#7201a8\"],[0.3333333333333333,\"#9c179e\"],[0.4444444444444444,\"#bd3786\"],[0.5555555555555556,\"#d8576b\"],[0.6666666666666666,\"#ed7953\"],[0.7777777777777778,\"#fb9f3a\"],[0.8888888888888888,\"#fdca26\"],[1.0,\"#f0f921\"]],\"type\":\"heatmapgl\"}],\"histogram\":[{\"marker\":{\"pattern\":{\"fillmode\":\"overlay\",\"size\":10,\"solidity\":0.2}},\"type\":\"histogram\"}],\"histogram2d\":[{\"colorbar\":{\"outlinewidth\":0,\"ticks\":\"\"},\"colorscale\":[[0.0,\"#0d0887\"],[0.1111111111111111,\"#46039f\"],[0.2222222222222222,\"#7201a8\"],[0.3333333333333333,\"#9c179e\"],[0.4444444444444444,\"#bd3786\"],[0.5555555555555556,\"#d8576b\"],[0.6666666666666666,\"#ed7953\"],[0.7777777777777778,\"#fb9f3a\"],[0.8888888888888888,\"#fdca26\"],[1.0,\"#f0f921\"]],\"type\":\"histogram2d\"}],\"histogram2dcontour\":[{\"colorbar\":{\"outlinewidth\":0,\"ticks\":\"\"},\"colorscale\":[[0.0,\"#0d0887\"],[0.1111111111111111,\"#46039f\"],[0.2222222222222222,\"#7201a8\"],[0.3333333333333333,\"#9c179e\"],[0.4444444444444444,\"#bd3786\"],[0.5555555555555556,\"#d8576b\"],[0.6666666666666666,\"#ed7953\"],[0.7777777777777778,\"#fb9f3a\"],[0.8888888888888888,\"#fdca26\"],[1.0,\"#f0f921\"]],\"type\":\"histogram2dcontour\"}],\"mesh3d\":[{\"colorbar\":{\"outlinewidth\":0,\"ticks\":\"\"},\"type\":\"mesh3d\"}],\"parcoords\":[{\"line\":{\"colorbar\":{\"outlinewidth\":0,\"ticks\":\"\"}},\"type\":\"parcoords\"}],\"pie\":[{\"automargin\":true,\"type\":\"pie\"}],\"scatter\":[{\"marker\":{\"colorbar\":{\"outlinewidth\":0,\"ticks\":\"\"}},\"type\":\"scatter\"}],\"scatter3d\":[{\"line\":{\"colorbar\":{\"outlinewidth\":0,\"ticks\":\"\"}},\"marker\":{\"colorbar\":{\"outlinewidth\":0,\"ticks\":\"\"}},\"type\":\"scatter3d\"}],\"scattercarpet\":[{\"marker\":{\"colorbar\":{\"outlinewidth\":0,\"ticks\":\"\"}},\"type\":\"scattercarpet\"}],\"scattergeo\":[{\"marker\":{\"colorbar\":{\"outlinewidth\":0,\"ticks\":\"\"}},\"type\":\"scattergeo\"}],\"scattergl\":[{\"marker\":{\"colorbar\":{\"outlinewidth\":0,\"ticks\":\"\"}},\"type\":\"scattergl\"}],\"scattermapbox\":[{\"marker\":{\"colorbar\":{\"outlinewidth\":0,\"ticks\":\"\"}},\"type\":\"scattermapbox\"}],\"scatterpolar\":[{\"marker\":{\"colorbar\":{\"outlinewidth\":0,\"ticks\":\"\"}},\"type\":\"scatterpolar\"}],\"scatterpolargl\":[{\"marker\":{\"colorbar\":{\"outlinewidth\":0,\"ticks\":\"\"}},\"type\":\"scatterpolargl\"}],\"scatterternary\":[{\"marker\":{\"colorbar\":{\"outlinewidth\":0,\"ticks\":\"\"}},\"type\":\"scatterternary\"}],\"surface\":[{\"colorbar\":{\"outlinewidth\":0,\"ticks\":\"\"},\"colorscale\":[[0.0,\"#0d0887\"],[0.1111111111111111,\"#46039f\"],[0.2222222222222222,\"#7201a8\"],[0.3333333333333333,\"#9c179e\"],[0.4444444444444444,\"#bd3786\"],[0.5555555555555556,\"#d8576b\"],[0.6666666666666666,\"#ed7953\"],[0.7777777777777778,\"#fb9f3a\"],[0.8888888888888888,\"#fdca26\"],[1.0,\"#f0f921\"]],\"type\":\"surface\"}],\"table\":[{\"cells\":{\"fill\":{\"color\":\"#EBF0F8\"},\"line\":{\"color\":\"white\"}},\"header\":{\"fill\":{\"color\":\"#C8D4E3\"},\"line\":{\"color\":\"white\"}},\"type\":\"table\"}]},\"layout\":{\"annotationdefaults\":{\"arrowcolor\":\"#2a3f5f\",\"arrowhead\":0,\"arrowwidth\":1},\"autotypenumbers\":\"strict\",\"coloraxis\":{\"colorbar\":{\"outlinewidth\":0,\"ticks\":\"\"}},\"colorscale\":{\"diverging\":[[0,\"#8e0152\"],[0.1,\"#c51b7d\"],[0.2,\"#de77ae\"],[0.3,\"#f1b6da\"],[0.4,\"#fde0ef\"],[0.5,\"#f7f7f7\"],[0.6,\"#e6f5d0\"],[0.7,\"#b8e186\"],[0.8,\"#7fbc41\"],[0.9,\"#4d9221\"],[1,\"#276419\"]],\"sequential\":[[0.0,\"#0d0887\"],[0.1111111111111111,\"#46039f\"],[0.2222222222222222,\"#7201a8\"],[0.3333333333333333,\"#9c179e\"],[0.4444444444444444,\"#bd3786\"],[0.5555555555555556,\"#d8576b\"],[0.6666666666666666,\"#ed7953\"],[0.7777777777777778,\"#fb9f3a\"],[0.8888888888888888,\"#fdca26\"],[1.0,\"#f0f921\"]],\"sequentialminus\":[[0.0,\"#0d0887\"],[0.1111111111111111,\"#46039f\"],[0.2222222222222222,\"#7201a8\"],[0.3333333333333333,\"#9c179e\"],[0.4444444444444444,\"#bd3786\"],[0.5555555555555556,\"#d8576b\"],[0.6666666666666666,\"#ed7953\"],[0.7777777777777778,\"#fb9f3a\"],[0.8888888888888888,\"#fdca26\"],[1.0,\"#f0f921\"]]},\"colorway\":[\"#636efa\",\"#EF553B\",\"#00cc96\",\"#ab63fa\",\"#FFA15A\",\"#19d3f3\",\"#FF6692\",\"#B6E880\",\"#FF97FF\",\"#FECB52\"],\"font\":{\"color\":\"#2a3f5f\"},\"geo\":{\"bgcolor\":\"white\",\"lakecolor\":\"white\",\"landcolor\":\"#E5ECF6\",\"showlakes\":true,\"showland\":true,\"subunitcolor\":\"white\"},\"hoverlabel\":{\"align\":\"left\"},\"hovermode\":\"closest\",\"mapbox\":{\"style\":\"light\"},\"paper_bgcolor\":\"white\",\"plot_bgcolor\":\"#E5ECF6\",\"polar\":{\"angularaxis\":{\"gridcolor\":\"white\",\"linecolor\":\"white\",\"ticks\":\"\"},\"bgcolor\":\"#E5ECF6\",\"radialaxis\":{\"gridcolor\":\"white\",\"linecolor\":\"white\",\"ticks\":\"\"}},\"scene\":{\"xaxis\":{\"backgroundcolor\":\"#E5ECF6\",\"gridcolor\":\"white\",\"gridwidth\":2,\"linecolor\":\"white\",\"showbackground\":true,\"ticks\":\"\",\"zerolinecolor\":\"white\"},\"yaxis\":{\"backgroundcolor\":\"#E5ECF6\",\"gridcolor\":\"white\",\"gridwidth\":2,\"linecolor\":\"white\",\"showbackground\":true,\"ticks\":\"\",\"zerolinecolor\":\"white\"},\"zaxis\":{\"backgroundcolor\":\"#E5ECF6\",\"gridcolor\":\"white\",\"gridwidth\":2,\"linecolor\":\"white\",\"showbackground\":true,\"ticks\":\"\",\"zerolinecolor\":\"white\"}},\"shapedefaults\":{\"line\":{\"color\":\"#2a3f5f\"}},\"ternary\":{\"aaxis\":{\"gridcolor\":\"white\",\"linecolor\":\"white\",\"ticks\":\"\"},\"baxis\":{\"gridcolor\":\"white\",\"linecolor\":\"white\",\"ticks\":\"\"},\"bgcolor\":\"#E5ECF6\",\"caxis\":{\"gridcolor\":\"white\",\"linecolor\":\"white\",\"ticks\":\"\"}},\"title\":{\"x\":0.05},\"xaxis\":{\"automargin\":true,\"gridcolor\":\"white\",\"linecolor\":\"white\",\"ticks\":\"\",\"title\":{\"standoff\":15},\"zerolinecolor\":\"white\",\"zerolinewidth\":2},\"yaxis\":{\"automargin\":true,\"gridcolor\":\"white\",\"linecolor\":\"white\",\"ticks\":\"\",\"title\":{\"standoff\":15},\"zerolinecolor\":\"white\",\"zerolinewidth\":2}}},\"title\":{\"text\":\"Boolean Logic for the AND Problem\"},\"xaxis\":{\"title\":{\"text\":\"x1\"}},\"yaxis\":{\"title\":{\"text\":\"x2\"}}},                        {\"responsive\": true}                    ).then(function(){\n",
       "                            \n",
       "var gd = document.getElementById('f50ae431-d8ab-44b0-a5bd-fa6fa6d787a2');\n",
       "var x = new MutationObserver(function (mutations, observer) {{\n",
       "        var display = window.getComputedStyle(gd).display;\n",
       "        if (!display || display === 'none') {{\n",
       "            console.log([gd, 'removed!']);\n",
       "            Plotly.purge(gd);\n",
       "            observer.disconnect();\n",
       "        }}\n",
       "}});\n",
       "\n",
       "// Listen for the removal of the full notebook cells\n",
       "var notebookContainer = gd.closest('#notebook-container');\n",
       "if (notebookContainer) {{\n",
       "    x.observe(notebookContainer, {childList: true});\n",
       "}}\n",
       "\n",
       "// Listen for the clearing of the current output cell\n",
       "var outputEl = gd.closest('.output');\n",
       "if (outputEl) {{\n",
       "    x.observe(outputEl, {childList: true});\n",
       "}}\n",
       "\n",
       "                        })                };                });            </script>        </div>"
      ]
     },
     "metadata": {},
     "output_type": "display_data"
    }
   ],
   "source": [
    "# Draw the first boundary line using the random weights\n",
    "x_pred = (-1 * (1 * init_weights[0].item() + x1 * init_weights[1].item()))/ init_weights[2].item()\n",
    "fig = go.Figure()\n",
    "# fig.add_trace(go.Scatter(x=x1, y=x2, fill='tozeroy', line_color = 'red', mode='lines'))\n",
    "fig.add_trace(go.Scatter(x = x1[:3], y =x2[:3], mode ='markers',\n",
    "                    marker = dict(color ='black', size = 20), name = '- data point'))\n",
    "fig.add_trace(go.Scatter(x = x1[3:], y =x2[3:], mode ='markers',\n",
    "                    marker = dict(color ='green', size = 20), name = '+ data point'))\n",
    "fig.add_trace(go.Scatter(x=x1, y=x_pred, line_color = 'red', mode='lines',\n",
    "                             line = dict(width = 5),   name = '1st predicted line'))\n",
    "fig.update_layout(xaxis_title = \"x1\", yaxis_title = \"x2\", title=\"Boolean Logic for the AND Problem\",\n",
    "                legend_title = \"True/False Data Points & Boundary Line\")\n",
    "fig.show()"
   ]
  },
  {
   "cell_type": "code",
   "execution_count": 17,
   "id": "84955af1",
   "metadata": {
    "lines_to_next_cell": 2
   },
   "outputs": [],
   "source": [
    "# step 2\n",
    "\n",
    "# Compute the core\n",
    "\n",
    "def compute_score(X, y, w, lr=0.4,epoch = 8):\n",
    "    '''\n",
    "    lr = learning rate\n",
    "    epoch = number of iterations\n",
    "    '''\n",
    "    outputs = []\n",
    "    for i in range(epoch):\n",
    "        for ind in range(len(X)):\n",
    "            score = np.dot(w, X[ind]) \n",
    "            y_hat = int(score >= 0 )\n",
    "            if y_hat - y[ind] == 1:\n",
    "                w -= lr * X[ind]\n",
    "            elif y_hat - y[ind] == -1:\n",
    "                w += lr * X[ind]\n",
    "        # save for plotting\n",
    "        x_pred = (-1 * (1 * w[0].item() + x1 * w[1].item()))/ w[2].item()\n",
    "        outputs.append(x_pred)    \n",
    "    return w, outputs\n",
    "\n",
    "w, outputs = compute_score(input_train, labels, weights)\n",
    "\n",
    "# Output\n",
    "# w = array([-1.1094743 ,  0.73406263,  0.43282016])"
   ]
  },
  {
   "cell_type": "code",
   "execution_count": 18,
   "id": "1c81b172",
   "metadata": {},
   "outputs": [
    {
     "data": {
      "application/vnd.plotly.v1+json": {
       "config": {
        "plotlyServerURL": "https://plot.ly"
       },
       "data": [
        {
         "marker": {
          "color": "black",
          "size": 20
         },
         "mode": "markers",
         "name": "- data point",
         "type": "scatter",
         "x": [
          0,
          0,
          1
         ],
         "y": [
          0,
          1,
          0
         ]
        },
        {
         "marker": {
          "color": "green",
          "size": 20
         },
         "mode": "markers",
         "name": "+ data point",
         "type": "scatter",
         "x": [
          1
         ],
         "y": [
          1
         ]
        },
        {
         "line": {
          "color": "black",
          "width": 5
         },
         "mode": "lines",
         "name": "last predicted line",
         "type": "scatter",
         "x": [
          0,
          0,
          1,
          1
         ],
         "y": [
          2.563360958047795,
          2.563360958047795,
          0.8673617929442103,
          0.8673617929442103
         ]
        }
       ],
       "layout": {
        "legend": {
         "title": {
          "text": "True/False Data Points & Boundary Line"
         }
        },
        "template": {
         "data": {
          "bar": [
           {
            "error_x": {
             "color": "#2a3f5f"
            },
            "error_y": {
             "color": "#2a3f5f"
            },
            "marker": {
             "line": {
              "color": "#E5ECF6",
              "width": 0.5
             },
             "pattern": {
              "fillmode": "overlay",
              "size": 10,
              "solidity": 0.2
             }
            },
            "type": "bar"
           }
          ],
          "barpolar": [
           {
            "marker": {
             "line": {
              "color": "#E5ECF6",
              "width": 0.5
             },
             "pattern": {
              "fillmode": "overlay",
              "size": 10,
              "solidity": 0.2
             }
            },
            "type": "barpolar"
           }
          ],
          "carpet": [
           {
            "aaxis": {
             "endlinecolor": "#2a3f5f",
             "gridcolor": "white",
             "linecolor": "white",
             "minorgridcolor": "white",
             "startlinecolor": "#2a3f5f"
            },
            "baxis": {
             "endlinecolor": "#2a3f5f",
             "gridcolor": "white",
             "linecolor": "white",
             "minorgridcolor": "white",
             "startlinecolor": "#2a3f5f"
            },
            "type": "carpet"
           }
          ],
          "choropleth": [
           {
            "colorbar": {
             "outlinewidth": 0,
             "ticks": ""
            },
            "type": "choropleth"
           }
          ],
          "contour": [
           {
            "colorbar": {
             "outlinewidth": 0,
             "ticks": ""
            },
            "colorscale": [
             [
              0,
              "#0d0887"
             ],
             [
              0.1111111111111111,
              "#46039f"
             ],
             [
              0.2222222222222222,
              "#7201a8"
             ],
             [
              0.3333333333333333,
              "#9c179e"
             ],
             [
              0.4444444444444444,
              "#bd3786"
             ],
             [
              0.5555555555555556,
              "#d8576b"
             ],
             [
              0.6666666666666666,
              "#ed7953"
             ],
             [
              0.7777777777777778,
              "#fb9f3a"
             ],
             [
              0.8888888888888888,
              "#fdca26"
             ],
             [
              1,
              "#f0f921"
             ]
            ],
            "type": "contour"
           }
          ],
          "contourcarpet": [
           {
            "colorbar": {
             "outlinewidth": 0,
             "ticks": ""
            },
            "type": "contourcarpet"
           }
          ],
          "heatmap": [
           {
            "colorbar": {
             "outlinewidth": 0,
             "ticks": ""
            },
            "colorscale": [
             [
              0,
              "#0d0887"
             ],
             [
              0.1111111111111111,
              "#46039f"
             ],
             [
              0.2222222222222222,
              "#7201a8"
             ],
             [
              0.3333333333333333,
              "#9c179e"
             ],
             [
              0.4444444444444444,
              "#bd3786"
             ],
             [
              0.5555555555555556,
              "#d8576b"
             ],
             [
              0.6666666666666666,
              "#ed7953"
             ],
             [
              0.7777777777777778,
              "#fb9f3a"
             ],
             [
              0.8888888888888888,
              "#fdca26"
             ],
             [
              1,
              "#f0f921"
             ]
            ],
            "type": "heatmap"
           }
          ],
          "heatmapgl": [
           {
            "colorbar": {
             "outlinewidth": 0,
             "ticks": ""
            },
            "colorscale": [
             [
              0,
              "#0d0887"
             ],
             [
              0.1111111111111111,
              "#46039f"
             ],
             [
              0.2222222222222222,
              "#7201a8"
             ],
             [
              0.3333333333333333,
              "#9c179e"
             ],
             [
              0.4444444444444444,
              "#bd3786"
             ],
             [
              0.5555555555555556,
              "#d8576b"
             ],
             [
              0.6666666666666666,
              "#ed7953"
             ],
             [
              0.7777777777777778,
              "#fb9f3a"
             ],
             [
              0.8888888888888888,
              "#fdca26"
             ],
             [
              1,
              "#f0f921"
             ]
            ],
            "type": "heatmapgl"
           }
          ],
          "histogram": [
           {
            "marker": {
             "pattern": {
              "fillmode": "overlay",
              "size": 10,
              "solidity": 0.2
             }
            },
            "type": "histogram"
           }
          ],
          "histogram2d": [
           {
            "colorbar": {
             "outlinewidth": 0,
             "ticks": ""
            },
            "colorscale": [
             [
              0,
              "#0d0887"
             ],
             [
              0.1111111111111111,
              "#46039f"
             ],
             [
              0.2222222222222222,
              "#7201a8"
             ],
             [
              0.3333333333333333,
              "#9c179e"
             ],
             [
              0.4444444444444444,
              "#bd3786"
             ],
             [
              0.5555555555555556,
              "#d8576b"
             ],
             [
              0.6666666666666666,
              "#ed7953"
             ],
             [
              0.7777777777777778,
              "#fb9f3a"
             ],
             [
              0.8888888888888888,
              "#fdca26"
             ],
             [
              1,
              "#f0f921"
             ]
            ],
            "type": "histogram2d"
           }
          ],
          "histogram2dcontour": [
           {
            "colorbar": {
             "outlinewidth": 0,
             "ticks": ""
            },
            "colorscale": [
             [
              0,
              "#0d0887"
             ],
             [
              0.1111111111111111,
              "#46039f"
             ],
             [
              0.2222222222222222,
              "#7201a8"
             ],
             [
              0.3333333333333333,
              "#9c179e"
             ],
             [
              0.4444444444444444,
              "#bd3786"
             ],
             [
              0.5555555555555556,
              "#d8576b"
             ],
             [
              0.6666666666666666,
              "#ed7953"
             ],
             [
              0.7777777777777778,
              "#fb9f3a"
             ],
             [
              0.8888888888888888,
              "#fdca26"
             ],
             [
              1,
              "#f0f921"
             ]
            ],
            "type": "histogram2dcontour"
           }
          ],
          "mesh3d": [
           {
            "colorbar": {
             "outlinewidth": 0,
             "ticks": ""
            },
            "type": "mesh3d"
           }
          ],
          "parcoords": [
           {
            "line": {
             "colorbar": {
              "outlinewidth": 0,
              "ticks": ""
             }
            },
            "type": "parcoords"
           }
          ],
          "pie": [
           {
            "automargin": true,
            "type": "pie"
           }
          ],
          "scatter": [
           {
            "marker": {
             "colorbar": {
              "outlinewidth": 0,
              "ticks": ""
             }
            },
            "type": "scatter"
           }
          ],
          "scatter3d": [
           {
            "line": {
             "colorbar": {
              "outlinewidth": 0,
              "ticks": ""
             }
            },
            "marker": {
             "colorbar": {
              "outlinewidth": 0,
              "ticks": ""
             }
            },
            "type": "scatter3d"
           }
          ],
          "scattercarpet": [
           {
            "marker": {
             "colorbar": {
              "outlinewidth": 0,
              "ticks": ""
             }
            },
            "type": "scattercarpet"
           }
          ],
          "scattergeo": [
           {
            "marker": {
             "colorbar": {
              "outlinewidth": 0,
              "ticks": ""
             }
            },
            "type": "scattergeo"
           }
          ],
          "scattergl": [
           {
            "marker": {
             "colorbar": {
              "outlinewidth": 0,
              "ticks": ""
             }
            },
            "type": "scattergl"
           }
          ],
          "scattermapbox": [
           {
            "marker": {
             "colorbar": {
              "outlinewidth": 0,
              "ticks": ""
             }
            },
            "type": "scattermapbox"
           }
          ],
          "scatterpolar": [
           {
            "marker": {
             "colorbar": {
              "outlinewidth": 0,
              "ticks": ""
             }
            },
            "type": "scatterpolar"
           }
          ],
          "scatterpolargl": [
           {
            "marker": {
             "colorbar": {
              "outlinewidth": 0,
              "ticks": ""
             }
            },
            "type": "scatterpolargl"
           }
          ],
          "scatterternary": [
           {
            "marker": {
             "colorbar": {
              "outlinewidth": 0,
              "ticks": ""
             }
            },
            "type": "scatterternary"
           }
          ],
          "surface": [
           {
            "colorbar": {
             "outlinewidth": 0,
             "ticks": ""
            },
            "colorscale": [
             [
              0,
              "#0d0887"
             ],
             [
              0.1111111111111111,
              "#46039f"
             ],
             [
              0.2222222222222222,
              "#7201a8"
             ],
             [
              0.3333333333333333,
              "#9c179e"
             ],
             [
              0.4444444444444444,
              "#bd3786"
             ],
             [
              0.5555555555555556,
              "#d8576b"
             ],
             [
              0.6666666666666666,
              "#ed7953"
             ],
             [
              0.7777777777777778,
              "#fb9f3a"
             ],
             [
              0.8888888888888888,
              "#fdca26"
             ],
             [
              1,
              "#f0f921"
             ]
            ],
            "type": "surface"
           }
          ],
          "table": [
           {
            "cells": {
             "fill": {
              "color": "#EBF0F8"
             },
             "line": {
              "color": "white"
             }
            },
            "header": {
             "fill": {
              "color": "#C8D4E3"
             },
             "line": {
              "color": "white"
             }
            },
            "type": "table"
           }
          ]
         },
         "layout": {
          "annotationdefaults": {
           "arrowcolor": "#2a3f5f",
           "arrowhead": 0,
           "arrowwidth": 1
          },
          "autotypenumbers": "strict",
          "coloraxis": {
           "colorbar": {
            "outlinewidth": 0,
            "ticks": ""
           }
          },
          "colorscale": {
           "diverging": [
            [
             0,
             "#8e0152"
            ],
            [
             0.1,
             "#c51b7d"
            ],
            [
             0.2,
             "#de77ae"
            ],
            [
             0.3,
             "#f1b6da"
            ],
            [
             0.4,
             "#fde0ef"
            ],
            [
             0.5,
             "#f7f7f7"
            ],
            [
             0.6,
             "#e6f5d0"
            ],
            [
             0.7,
             "#b8e186"
            ],
            [
             0.8,
             "#7fbc41"
            ],
            [
             0.9,
             "#4d9221"
            ],
            [
             1,
             "#276419"
            ]
           ],
           "sequential": [
            [
             0,
             "#0d0887"
            ],
            [
             0.1111111111111111,
             "#46039f"
            ],
            [
             0.2222222222222222,
             "#7201a8"
            ],
            [
             0.3333333333333333,
             "#9c179e"
            ],
            [
             0.4444444444444444,
             "#bd3786"
            ],
            [
             0.5555555555555556,
             "#d8576b"
            ],
            [
             0.6666666666666666,
             "#ed7953"
            ],
            [
             0.7777777777777778,
             "#fb9f3a"
            ],
            [
             0.8888888888888888,
             "#fdca26"
            ],
            [
             1,
             "#f0f921"
            ]
           ],
           "sequentialminus": [
            [
             0,
             "#0d0887"
            ],
            [
             0.1111111111111111,
             "#46039f"
            ],
            [
             0.2222222222222222,
             "#7201a8"
            ],
            [
             0.3333333333333333,
             "#9c179e"
            ],
            [
             0.4444444444444444,
             "#bd3786"
            ],
            [
             0.5555555555555556,
             "#d8576b"
            ],
            [
             0.6666666666666666,
             "#ed7953"
            ],
            [
             0.7777777777777778,
             "#fb9f3a"
            ],
            [
             0.8888888888888888,
             "#fdca26"
            ],
            [
             1,
             "#f0f921"
            ]
           ]
          },
          "colorway": [
           "#636efa",
           "#EF553B",
           "#00cc96",
           "#ab63fa",
           "#FFA15A",
           "#19d3f3",
           "#FF6692",
           "#B6E880",
           "#FF97FF",
           "#FECB52"
          ],
          "font": {
           "color": "#2a3f5f"
          },
          "geo": {
           "bgcolor": "white",
           "lakecolor": "white",
           "landcolor": "#E5ECF6",
           "showlakes": true,
           "showland": true,
           "subunitcolor": "white"
          },
          "hoverlabel": {
           "align": "left"
          },
          "hovermode": "closest",
          "mapbox": {
           "style": "light"
          },
          "paper_bgcolor": "white",
          "plot_bgcolor": "#E5ECF6",
          "polar": {
           "angularaxis": {
            "gridcolor": "white",
            "linecolor": "white",
            "ticks": ""
           },
           "bgcolor": "#E5ECF6",
           "radialaxis": {
            "gridcolor": "white",
            "linecolor": "white",
            "ticks": ""
           }
          },
          "scene": {
           "xaxis": {
            "backgroundcolor": "#E5ECF6",
            "gridcolor": "white",
            "gridwidth": 2,
            "linecolor": "white",
            "showbackground": true,
            "ticks": "",
            "zerolinecolor": "white"
           },
           "yaxis": {
            "backgroundcolor": "#E5ECF6",
            "gridcolor": "white",
            "gridwidth": 2,
            "linecolor": "white",
            "showbackground": true,
            "ticks": "",
            "zerolinecolor": "white"
           },
           "zaxis": {
            "backgroundcolor": "#E5ECF6",
            "gridcolor": "white",
            "gridwidth": 2,
            "linecolor": "white",
            "showbackground": true,
            "ticks": "",
            "zerolinecolor": "white"
           }
          },
          "shapedefaults": {
           "line": {
            "color": "#2a3f5f"
           }
          },
          "ternary": {
           "aaxis": {
            "gridcolor": "white",
            "linecolor": "white",
            "ticks": ""
           },
           "baxis": {
            "gridcolor": "white",
            "linecolor": "white",
            "ticks": ""
           },
           "bgcolor": "#E5ECF6",
           "caxis": {
            "gridcolor": "white",
            "linecolor": "white",
            "ticks": ""
           }
          },
          "title": {
           "x": 0.05
          },
          "xaxis": {
           "automargin": true,
           "gridcolor": "white",
           "linecolor": "white",
           "ticks": "",
           "title": {
            "standoff": 15
           },
           "zerolinecolor": "white",
           "zerolinewidth": 2
          },
          "yaxis": {
           "automargin": true,
           "gridcolor": "white",
           "linecolor": "white",
           "ticks": "",
           "title": {
            "standoff": 15
           },
           "zerolinecolor": "white",
           "zerolinewidth": 2
          }
         }
        },
        "title": {
         "text": "Boolean Logic for the AND Problem"
        },
        "xaxis": {
         "title": {
          "text": "x1"
         }
        },
        "yaxis": {
         "title": {
          "text": "x2"
         }
        }
       }
      },
      "text/html": [
       "<div>                            <div id=\"94b7f1a9-cb37-4db1-8e67-07c0e46372ee\" class=\"plotly-graph-div\" style=\"height:525px; width:100%;\"></div>            <script type=\"text/javascript\">                require([\"plotly\"], function(Plotly) {                    window.PLOTLYENV=window.PLOTLYENV || {};                                    if (document.getElementById(\"94b7f1a9-cb37-4db1-8e67-07c0e46372ee\")) {                    Plotly.newPlot(                        \"94b7f1a9-cb37-4db1-8e67-07c0e46372ee\",                        [{\"marker\":{\"color\":\"black\",\"size\":20},\"mode\":\"markers\",\"name\":\"- data point\",\"type\":\"scatter\",\"x\":[0,0,1],\"y\":[0,1,0]},{\"marker\":{\"color\":\"green\",\"size\":20},\"mode\":\"markers\",\"name\":\"+ data point\",\"type\":\"scatter\",\"x\":[1],\"y\":[1]},{\"line\":{\"color\":\"black\",\"width\":5},\"mode\":\"lines\",\"name\":\"last predicted line\",\"type\":\"scatter\",\"x\":[0,0,1,1],\"y\":[2.563360958047795,2.563360958047795,0.8673617929442103,0.8673617929442103]}],                        {\"legend\":{\"title\":{\"text\":\"True/False Data Points & Boundary Line\"}},\"template\":{\"data\":{\"bar\":[{\"error_x\":{\"color\":\"#2a3f5f\"},\"error_y\":{\"color\":\"#2a3f5f\"},\"marker\":{\"line\":{\"color\":\"#E5ECF6\",\"width\":0.5},\"pattern\":{\"fillmode\":\"overlay\",\"size\":10,\"solidity\":0.2}},\"type\":\"bar\"}],\"barpolar\":[{\"marker\":{\"line\":{\"color\":\"#E5ECF6\",\"width\":0.5},\"pattern\":{\"fillmode\":\"overlay\",\"size\":10,\"solidity\":0.2}},\"type\":\"barpolar\"}],\"carpet\":[{\"aaxis\":{\"endlinecolor\":\"#2a3f5f\",\"gridcolor\":\"white\",\"linecolor\":\"white\",\"minorgridcolor\":\"white\",\"startlinecolor\":\"#2a3f5f\"},\"baxis\":{\"endlinecolor\":\"#2a3f5f\",\"gridcolor\":\"white\",\"linecolor\":\"white\",\"minorgridcolor\":\"white\",\"startlinecolor\":\"#2a3f5f\"},\"type\":\"carpet\"}],\"choropleth\":[{\"colorbar\":{\"outlinewidth\":0,\"ticks\":\"\"},\"type\":\"choropleth\"}],\"contour\":[{\"colorbar\":{\"outlinewidth\":0,\"ticks\":\"\"},\"colorscale\":[[0.0,\"#0d0887\"],[0.1111111111111111,\"#46039f\"],[0.2222222222222222,\"#7201a8\"],[0.3333333333333333,\"#9c179e\"],[0.4444444444444444,\"#bd3786\"],[0.5555555555555556,\"#d8576b\"],[0.6666666666666666,\"#ed7953\"],[0.7777777777777778,\"#fb9f3a\"],[0.8888888888888888,\"#fdca26\"],[1.0,\"#f0f921\"]],\"type\":\"contour\"}],\"contourcarpet\":[{\"colorbar\":{\"outlinewidth\":0,\"ticks\":\"\"},\"type\":\"contourcarpet\"}],\"heatmap\":[{\"colorbar\":{\"outlinewidth\":0,\"ticks\":\"\"},\"colorscale\":[[0.0,\"#0d0887\"],[0.1111111111111111,\"#46039f\"],[0.2222222222222222,\"#7201a8\"],[0.3333333333333333,\"#9c179e\"],[0.4444444444444444,\"#bd3786\"],[0.5555555555555556,\"#d8576b\"],[0.6666666666666666,\"#ed7953\"],[0.7777777777777778,\"#fb9f3a\"],[0.8888888888888888,\"#fdca26\"],[1.0,\"#f0f921\"]],\"type\":\"heatmap\"}],\"heatmapgl\":[{\"colorbar\":{\"outlinewidth\":0,\"ticks\":\"\"},\"colorscale\":[[0.0,\"#0d0887\"],[0.1111111111111111,\"#46039f\"],[0.2222222222222222,\"#7201a8\"],[0.3333333333333333,\"#9c179e\"],[0.4444444444444444,\"#bd3786\"],[0.5555555555555556,\"#d8576b\"],[0.6666666666666666,\"#ed7953\"],[0.7777777777777778,\"#fb9f3a\"],[0.8888888888888888,\"#fdca26\"],[1.0,\"#f0f921\"]],\"type\":\"heatmapgl\"}],\"histogram\":[{\"marker\":{\"pattern\":{\"fillmode\":\"overlay\",\"size\":10,\"solidity\":0.2}},\"type\":\"histogram\"}],\"histogram2d\":[{\"colorbar\":{\"outlinewidth\":0,\"ticks\":\"\"},\"colorscale\":[[0.0,\"#0d0887\"],[0.1111111111111111,\"#46039f\"],[0.2222222222222222,\"#7201a8\"],[0.3333333333333333,\"#9c179e\"],[0.4444444444444444,\"#bd3786\"],[0.5555555555555556,\"#d8576b\"],[0.6666666666666666,\"#ed7953\"],[0.7777777777777778,\"#fb9f3a\"],[0.8888888888888888,\"#fdca26\"],[1.0,\"#f0f921\"]],\"type\":\"histogram2d\"}],\"histogram2dcontour\":[{\"colorbar\":{\"outlinewidth\":0,\"ticks\":\"\"},\"colorscale\":[[0.0,\"#0d0887\"],[0.1111111111111111,\"#46039f\"],[0.2222222222222222,\"#7201a8\"],[0.3333333333333333,\"#9c179e\"],[0.4444444444444444,\"#bd3786\"],[0.5555555555555556,\"#d8576b\"],[0.6666666666666666,\"#ed7953\"],[0.7777777777777778,\"#fb9f3a\"],[0.8888888888888888,\"#fdca26\"],[1.0,\"#f0f921\"]],\"type\":\"histogram2dcontour\"}],\"mesh3d\":[{\"colorbar\":{\"outlinewidth\":0,\"ticks\":\"\"},\"type\":\"mesh3d\"}],\"parcoords\":[{\"line\":{\"colorbar\":{\"outlinewidth\":0,\"ticks\":\"\"}},\"type\":\"parcoords\"}],\"pie\":[{\"automargin\":true,\"type\":\"pie\"}],\"scatter\":[{\"marker\":{\"colorbar\":{\"outlinewidth\":0,\"ticks\":\"\"}},\"type\":\"scatter\"}],\"scatter3d\":[{\"line\":{\"colorbar\":{\"outlinewidth\":0,\"ticks\":\"\"}},\"marker\":{\"colorbar\":{\"outlinewidth\":0,\"ticks\":\"\"}},\"type\":\"scatter3d\"}],\"scattercarpet\":[{\"marker\":{\"colorbar\":{\"outlinewidth\":0,\"ticks\":\"\"}},\"type\":\"scattercarpet\"}],\"scattergeo\":[{\"marker\":{\"colorbar\":{\"outlinewidth\":0,\"ticks\":\"\"}},\"type\":\"scattergeo\"}],\"scattergl\":[{\"marker\":{\"colorbar\":{\"outlinewidth\":0,\"ticks\":\"\"}},\"type\":\"scattergl\"}],\"scattermapbox\":[{\"marker\":{\"colorbar\":{\"outlinewidth\":0,\"ticks\":\"\"}},\"type\":\"scattermapbox\"}],\"scatterpolar\":[{\"marker\":{\"colorbar\":{\"outlinewidth\":0,\"ticks\":\"\"}},\"type\":\"scatterpolar\"}],\"scatterpolargl\":[{\"marker\":{\"colorbar\":{\"outlinewidth\":0,\"ticks\":\"\"}},\"type\":\"scatterpolargl\"}],\"scatterternary\":[{\"marker\":{\"colorbar\":{\"outlinewidth\":0,\"ticks\":\"\"}},\"type\":\"scatterternary\"}],\"surface\":[{\"colorbar\":{\"outlinewidth\":0,\"ticks\":\"\"},\"colorscale\":[[0.0,\"#0d0887\"],[0.1111111111111111,\"#46039f\"],[0.2222222222222222,\"#7201a8\"],[0.3333333333333333,\"#9c179e\"],[0.4444444444444444,\"#bd3786\"],[0.5555555555555556,\"#d8576b\"],[0.6666666666666666,\"#ed7953\"],[0.7777777777777778,\"#fb9f3a\"],[0.8888888888888888,\"#fdca26\"],[1.0,\"#f0f921\"]],\"type\":\"surface\"}],\"table\":[{\"cells\":{\"fill\":{\"color\":\"#EBF0F8\"},\"line\":{\"color\":\"white\"}},\"header\":{\"fill\":{\"color\":\"#C8D4E3\"},\"line\":{\"color\":\"white\"}},\"type\":\"table\"}]},\"layout\":{\"annotationdefaults\":{\"arrowcolor\":\"#2a3f5f\",\"arrowhead\":0,\"arrowwidth\":1},\"autotypenumbers\":\"strict\",\"coloraxis\":{\"colorbar\":{\"outlinewidth\":0,\"ticks\":\"\"}},\"colorscale\":{\"diverging\":[[0,\"#8e0152\"],[0.1,\"#c51b7d\"],[0.2,\"#de77ae\"],[0.3,\"#f1b6da\"],[0.4,\"#fde0ef\"],[0.5,\"#f7f7f7\"],[0.6,\"#e6f5d0\"],[0.7,\"#b8e186\"],[0.8,\"#7fbc41\"],[0.9,\"#4d9221\"],[1,\"#276419\"]],\"sequential\":[[0.0,\"#0d0887\"],[0.1111111111111111,\"#46039f\"],[0.2222222222222222,\"#7201a8\"],[0.3333333333333333,\"#9c179e\"],[0.4444444444444444,\"#bd3786\"],[0.5555555555555556,\"#d8576b\"],[0.6666666666666666,\"#ed7953\"],[0.7777777777777778,\"#fb9f3a\"],[0.8888888888888888,\"#fdca26\"],[1.0,\"#f0f921\"]],\"sequentialminus\":[[0.0,\"#0d0887\"],[0.1111111111111111,\"#46039f\"],[0.2222222222222222,\"#7201a8\"],[0.3333333333333333,\"#9c179e\"],[0.4444444444444444,\"#bd3786\"],[0.5555555555555556,\"#d8576b\"],[0.6666666666666666,\"#ed7953\"],[0.7777777777777778,\"#fb9f3a\"],[0.8888888888888888,\"#fdca26\"],[1.0,\"#f0f921\"]]},\"colorway\":[\"#636efa\",\"#EF553B\",\"#00cc96\",\"#ab63fa\",\"#FFA15A\",\"#19d3f3\",\"#FF6692\",\"#B6E880\",\"#FF97FF\",\"#FECB52\"],\"font\":{\"color\":\"#2a3f5f\"},\"geo\":{\"bgcolor\":\"white\",\"lakecolor\":\"white\",\"landcolor\":\"#E5ECF6\",\"showlakes\":true,\"showland\":true,\"subunitcolor\":\"white\"},\"hoverlabel\":{\"align\":\"left\"},\"hovermode\":\"closest\",\"mapbox\":{\"style\":\"light\"},\"paper_bgcolor\":\"white\",\"plot_bgcolor\":\"#E5ECF6\",\"polar\":{\"angularaxis\":{\"gridcolor\":\"white\",\"linecolor\":\"white\",\"ticks\":\"\"},\"bgcolor\":\"#E5ECF6\",\"radialaxis\":{\"gridcolor\":\"white\",\"linecolor\":\"white\",\"ticks\":\"\"}},\"scene\":{\"xaxis\":{\"backgroundcolor\":\"#E5ECF6\",\"gridcolor\":\"white\",\"gridwidth\":2,\"linecolor\":\"white\",\"showbackground\":true,\"ticks\":\"\",\"zerolinecolor\":\"white\"},\"yaxis\":{\"backgroundcolor\":\"#E5ECF6\",\"gridcolor\":\"white\",\"gridwidth\":2,\"linecolor\":\"white\",\"showbackground\":true,\"ticks\":\"\",\"zerolinecolor\":\"white\"},\"zaxis\":{\"backgroundcolor\":\"#E5ECF6\",\"gridcolor\":\"white\",\"gridwidth\":2,\"linecolor\":\"white\",\"showbackground\":true,\"ticks\":\"\",\"zerolinecolor\":\"white\"}},\"shapedefaults\":{\"line\":{\"color\":\"#2a3f5f\"}},\"ternary\":{\"aaxis\":{\"gridcolor\":\"white\",\"linecolor\":\"white\",\"ticks\":\"\"},\"baxis\":{\"gridcolor\":\"white\",\"linecolor\":\"white\",\"ticks\":\"\"},\"bgcolor\":\"#E5ECF6\",\"caxis\":{\"gridcolor\":\"white\",\"linecolor\":\"white\",\"ticks\":\"\"}},\"title\":{\"x\":0.05},\"xaxis\":{\"automargin\":true,\"gridcolor\":\"white\",\"linecolor\":\"white\",\"ticks\":\"\",\"title\":{\"standoff\":15},\"zerolinecolor\":\"white\",\"zerolinewidth\":2},\"yaxis\":{\"automargin\":true,\"gridcolor\":\"white\",\"linecolor\":\"white\",\"ticks\":\"\",\"title\":{\"standoff\":15},\"zerolinecolor\":\"white\",\"zerolinewidth\":2}}},\"title\":{\"text\":\"Boolean Logic for the AND Problem\"},\"xaxis\":{\"title\":{\"text\":\"x1\"}},\"yaxis\":{\"title\":{\"text\":\"x2\"}}},                        {\"responsive\": true}                    ).then(function(){\n",
       "                            \n",
       "var gd = document.getElementById('94b7f1a9-cb37-4db1-8e67-07c0e46372ee');\n",
       "var x = new MutationObserver(function (mutations, observer) {{\n",
       "        var display = window.getComputedStyle(gd).display;\n",
       "        if (!display || display === 'none') {{\n",
       "            console.log([gd, 'removed!']);\n",
       "            Plotly.purge(gd);\n",
       "            observer.disconnect();\n",
       "        }}\n",
       "}});\n",
       "\n",
       "// Listen for the removal of the full notebook cells\n",
       "var notebookContainer = gd.closest('#notebook-container');\n",
       "if (notebookContainer) {{\n",
       "    x.observe(notebookContainer, {childList: true});\n",
       "}}\n",
       "\n",
       "// Listen for the clearing of the current output cell\n",
       "var outputEl = gd.closest('.output');\n",
       "if (outputEl) {{\n",
       "    x.observe(outputEl, {childList: true});\n",
       "}}\n",
       "\n",
       "                        })                };                });            </script>        </div>"
      ]
     },
     "metadata": {},
     "output_type": "display_data"
    }
   ],
   "source": [
    "# draw the last boundary line using the new weights from above\n",
    "x_pred = (-1 * (1 * -1.1094743 + x1 * 0.73406263))/ 0.43282016\n",
    "fig = go.Figure()\n",
    "# fig.add_trace(go.Scatter(x=x1, y=x2, fill='tozeroy', line_color = 'red', mode='lines'))\n",
    "fig.add_trace(go.Scatter(x = x1[:3], y =x2[:3], mode ='markers',\n",
    "                    marker = dict(color ='black', size = 20), name = '- data point'))\n",
    "fig.add_trace(go.Scatter(x = x1[3:], y =x2[3:], mode ='markers',\n",
    "                    marker = dict(color ='green', size = 20), name = '+ data point'))\n",
    "fig.add_trace(go.Scatter(x=x1, y=x_pred, line_color = 'black', mode='lines',\n",
    "                             line = dict(width = 5),   name = 'last predicted line'))\n",
    "fig.update_layout(xaxis_title = \"x1\", yaxis_title = \"x2\", title=\"Boolean Logic for the AND Problem\",\n",
    "                legend_title = \"True/False Data Points & Boundary Line\")\n",
    "\n",
    "fig.show()"
   ]
  },
  {
   "cell_type": "code",
   "execution_count": 19,
   "id": "58297dad",
   "metadata": {},
   "outputs": [
    {
     "data": {
      "text/plain": [
       "[array([-27.13349368, -27.13349368, -12.9368134 , -12.9368134 ]),\n",
       " array([-14.94586403, -14.94586403, -12.9368134 , -12.9368134 ]),\n",
       " array([ -2.75823438,  -2.75823438, -12.9368134 , -12.9368134 ]),\n",
       " array([ 0.7150182 ,  0.7150182 , -0.05680958, -0.05680958]),\n",
       " array([ 0.7150182 ,  0.7150182 , -0.98098095, -0.98098095]),\n",
       " array([ 1.63918957,  1.63918957, -0.05680958, -0.05680958]),\n",
       " array([ 0.85189375,  0.85189375, -0.02952418, -0.02952418]),\n",
       " array([2.56336093, 2.56336093, 0.86736178, 0.86736178])]"
      ]
     },
     "execution_count": 19,
     "metadata": {},
     "output_type": "execute_result"
    }
   ],
   "source": [
    "len(outputs)\n",
    "outputs"
   ]
  },
  {
   "cell_type": "code",
   "execution_count": 20,
   "id": "a0fae04f",
   "metadata": {},
   "outputs": [
    {
     "data": {
      "application/vnd.plotly.v1+json": {
       "config": {
        "plotlyServerURL": "https://plot.ly"
       },
       "data": [
        {
         "marker": {
          "color": "black",
          "size": 20
         },
         "mode": "markers",
         "name": "False",
         "type": "scatter",
         "x": [
          0,
          0,
          1
         ],
         "y": [
          0,
          1,
          0
         ]
        },
        {
         "marker": {
          "color": "green",
          "size": 20
         },
         "mode": "markers",
         "name": "True",
         "type": "scatter",
         "x": [
          1
         ],
         "y": [
          1
         ]
        },
        {
         "line": {
          "color": "red",
          "width": 5
         },
         "mode": "lines",
         "name": "first line",
         "type": "scatter",
         "x": [
          0,
          0,
          1,
          1
         ],
         "y": [
          -27.13349368155148,
          -27.13349368155148,
          -12.936813399762913,
          -12.936813399762913
         ]
        },
        {
         "line": {
          "color": "green",
          "width": 2
         },
         "mode": "lines",
         "name": "line1",
         "type": "scatter",
         "x": [
          0,
          0,
          1,
          1
         ],
         "y": [
          -14.945864030545044,
          -14.945864030545044,
          -12.936813399762913,
          -12.936813399762913
         ]
        },
        {
         "line": {
          "color": "blue",
          "width": 2
         },
         "mode": "lines",
         "name": "line2",
         "type": "scatter",
         "x": [
          0,
          0,
          1,
          1
         ],
         "y": [
          -2.7582343795386075,
          -2.7582343795386075,
          -12.936813399762913,
          -12.936813399762913
         ]
        },
        {
         "line": {
          "color": "gray",
          "width": 2
         },
         "mode": "lines",
         "name": "line3",
         "type": "scatter",
         "x": [
          0,
          0,
          1,
          1
         ],
         "y": [
          0.715018204256912,
          0.715018204256912,
          -0.05680958357056238,
          -0.05680958357056238
         ]
        },
        {
         "line": {
          "color": "yellow",
          "width": 2
         },
         "mode": "lines",
         "name": "line4",
         "type": "scatter",
         "x": [
          0,
          0,
          1,
          1
         ],
         "y": [
          0.715018204256912,
          0.715018204256912,
          -0.9809809451826408,
          -0.9809809451826408
         ]
        },
        {
         "line": {
          "color": "purple",
          "width": 2
         },
         "mode": "lines",
         "name": "line5",
         "type": "scatter",
         "x": [
          0,
          0,
          1,
          1
         ],
         "y": [
          1.6391895658689903,
          1.6391895658689903,
          -0.05680958357056238,
          -0.05680958357056238
         ]
        },
        {
         "line": {
          "color": "violet",
          "width": 2
         },
         "mode": "lines",
         "name": "line6",
         "type": "scatter",
         "x": [
          0,
          0,
          1,
          1
         ],
         "y": [
          0.8518937546683321,
          0.8518937546683321,
          -0.029524181007957152,
          -0.029524181007957152
         ]
        },
        {
         "line": {
          "color": "black",
          "width": 5
         },
         "mode": "lines",
         "name": "last line",
         "type": "scatter",
         "x": [
          0,
          0,
          1,
          1
         ],
         "y": [
          2.5633609274810687,
          2.5633609274810687,
          0.867361778041516,
          0.867361778041516
         ]
        }
       ],
       "layout": {
        "legend": {
         "title": {
          "text": "True/False Data Points & Boundary Lines"
         }
        },
        "template": {
         "data": {
          "bar": [
           {
            "error_x": {
             "color": "#2a3f5f"
            },
            "error_y": {
             "color": "#2a3f5f"
            },
            "marker": {
             "line": {
              "color": "#E5ECF6",
              "width": 0.5
             },
             "pattern": {
              "fillmode": "overlay",
              "size": 10,
              "solidity": 0.2
             }
            },
            "type": "bar"
           }
          ],
          "barpolar": [
           {
            "marker": {
             "line": {
              "color": "#E5ECF6",
              "width": 0.5
             },
             "pattern": {
              "fillmode": "overlay",
              "size": 10,
              "solidity": 0.2
             }
            },
            "type": "barpolar"
           }
          ],
          "carpet": [
           {
            "aaxis": {
             "endlinecolor": "#2a3f5f",
             "gridcolor": "white",
             "linecolor": "white",
             "minorgridcolor": "white",
             "startlinecolor": "#2a3f5f"
            },
            "baxis": {
             "endlinecolor": "#2a3f5f",
             "gridcolor": "white",
             "linecolor": "white",
             "minorgridcolor": "white",
             "startlinecolor": "#2a3f5f"
            },
            "type": "carpet"
           }
          ],
          "choropleth": [
           {
            "colorbar": {
             "outlinewidth": 0,
             "ticks": ""
            },
            "type": "choropleth"
           }
          ],
          "contour": [
           {
            "colorbar": {
             "outlinewidth": 0,
             "ticks": ""
            },
            "colorscale": [
             [
              0,
              "#0d0887"
             ],
             [
              0.1111111111111111,
              "#46039f"
             ],
             [
              0.2222222222222222,
              "#7201a8"
             ],
             [
              0.3333333333333333,
              "#9c179e"
             ],
             [
              0.4444444444444444,
              "#bd3786"
             ],
             [
              0.5555555555555556,
              "#d8576b"
             ],
             [
              0.6666666666666666,
              "#ed7953"
             ],
             [
              0.7777777777777778,
              "#fb9f3a"
             ],
             [
              0.8888888888888888,
              "#fdca26"
             ],
             [
              1,
              "#f0f921"
             ]
            ],
            "type": "contour"
           }
          ],
          "contourcarpet": [
           {
            "colorbar": {
             "outlinewidth": 0,
             "ticks": ""
            },
            "type": "contourcarpet"
           }
          ],
          "heatmap": [
           {
            "colorbar": {
             "outlinewidth": 0,
             "ticks": ""
            },
            "colorscale": [
             [
              0,
              "#0d0887"
             ],
             [
              0.1111111111111111,
              "#46039f"
             ],
             [
              0.2222222222222222,
              "#7201a8"
             ],
             [
              0.3333333333333333,
              "#9c179e"
             ],
             [
              0.4444444444444444,
              "#bd3786"
             ],
             [
              0.5555555555555556,
              "#d8576b"
             ],
             [
              0.6666666666666666,
              "#ed7953"
             ],
             [
              0.7777777777777778,
              "#fb9f3a"
             ],
             [
              0.8888888888888888,
              "#fdca26"
             ],
             [
              1,
              "#f0f921"
             ]
            ],
            "type": "heatmap"
           }
          ],
          "heatmapgl": [
           {
            "colorbar": {
             "outlinewidth": 0,
             "ticks": ""
            },
            "colorscale": [
             [
              0,
              "#0d0887"
             ],
             [
              0.1111111111111111,
              "#46039f"
             ],
             [
              0.2222222222222222,
              "#7201a8"
             ],
             [
              0.3333333333333333,
              "#9c179e"
             ],
             [
              0.4444444444444444,
              "#bd3786"
             ],
             [
              0.5555555555555556,
              "#d8576b"
             ],
             [
              0.6666666666666666,
              "#ed7953"
             ],
             [
              0.7777777777777778,
              "#fb9f3a"
             ],
             [
              0.8888888888888888,
              "#fdca26"
             ],
             [
              1,
              "#f0f921"
             ]
            ],
            "type": "heatmapgl"
           }
          ],
          "histogram": [
           {
            "marker": {
             "pattern": {
              "fillmode": "overlay",
              "size": 10,
              "solidity": 0.2
             }
            },
            "type": "histogram"
           }
          ],
          "histogram2d": [
           {
            "colorbar": {
             "outlinewidth": 0,
             "ticks": ""
            },
            "colorscale": [
             [
              0,
              "#0d0887"
             ],
             [
              0.1111111111111111,
              "#46039f"
             ],
             [
              0.2222222222222222,
              "#7201a8"
             ],
             [
              0.3333333333333333,
              "#9c179e"
             ],
             [
              0.4444444444444444,
              "#bd3786"
             ],
             [
              0.5555555555555556,
              "#d8576b"
             ],
             [
              0.6666666666666666,
              "#ed7953"
             ],
             [
              0.7777777777777778,
              "#fb9f3a"
             ],
             [
              0.8888888888888888,
              "#fdca26"
             ],
             [
              1,
              "#f0f921"
             ]
            ],
            "type": "histogram2d"
           }
          ],
          "histogram2dcontour": [
           {
            "colorbar": {
             "outlinewidth": 0,
             "ticks": ""
            },
            "colorscale": [
             [
              0,
              "#0d0887"
             ],
             [
              0.1111111111111111,
              "#46039f"
             ],
             [
              0.2222222222222222,
              "#7201a8"
             ],
             [
              0.3333333333333333,
              "#9c179e"
             ],
             [
              0.4444444444444444,
              "#bd3786"
             ],
             [
              0.5555555555555556,
              "#d8576b"
             ],
             [
              0.6666666666666666,
              "#ed7953"
             ],
             [
              0.7777777777777778,
              "#fb9f3a"
             ],
             [
              0.8888888888888888,
              "#fdca26"
             ],
             [
              1,
              "#f0f921"
             ]
            ],
            "type": "histogram2dcontour"
           }
          ],
          "mesh3d": [
           {
            "colorbar": {
             "outlinewidth": 0,
             "ticks": ""
            },
            "type": "mesh3d"
           }
          ],
          "parcoords": [
           {
            "line": {
             "colorbar": {
              "outlinewidth": 0,
              "ticks": ""
             }
            },
            "type": "parcoords"
           }
          ],
          "pie": [
           {
            "automargin": true,
            "type": "pie"
           }
          ],
          "scatter": [
           {
            "marker": {
             "colorbar": {
              "outlinewidth": 0,
              "ticks": ""
             }
            },
            "type": "scatter"
           }
          ],
          "scatter3d": [
           {
            "line": {
             "colorbar": {
              "outlinewidth": 0,
              "ticks": ""
             }
            },
            "marker": {
             "colorbar": {
              "outlinewidth": 0,
              "ticks": ""
             }
            },
            "type": "scatter3d"
           }
          ],
          "scattercarpet": [
           {
            "marker": {
             "colorbar": {
              "outlinewidth": 0,
              "ticks": ""
             }
            },
            "type": "scattercarpet"
           }
          ],
          "scattergeo": [
           {
            "marker": {
             "colorbar": {
              "outlinewidth": 0,
              "ticks": ""
             }
            },
            "type": "scattergeo"
           }
          ],
          "scattergl": [
           {
            "marker": {
             "colorbar": {
              "outlinewidth": 0,
              "ticks": ""
             }
            },
            "type": "scattergl"
           }
          ],
          "scattermapbox": [
           {
            "marker": {
             "colorbar": {
              "outlinewidth": 0,
              "ticks": ""
             }
            },
            "type": "scattermapbox"
           }
          ],
          "scatterpolar": [
           {
            "marker": {
             "colorbar": {
              "outlinewidth": 0,
              "ticks": ""
             }
            },
            "type": "scatterpolar"
           }
          ],
          "scatterpolargl": [
           {
            "marker": {
             "colorbar": {
              "outlinewidth": 0,
              "ticks": ""
             }
            },
            "type": "scatterpolargl"
           }
          ],
          "scatterternary": [
           {
            "marker": {
             "colorbar": {
              "outlinewidth": 0,
              "ticks": ""
             }
            },
            "type": "scatterternary"
           }
          ],
          "surface": [
           {
            "colorbar": {
             "outlinewidth": 0,
             "ticks": ""
            },
            "colorscale": [
             [
              0,
              "#0d0887"
             ],
             [
              0.1111111111111111,
              "#46039f"
             ],
             [
              0.2222222222222222,
              "#7201a8"
             ],
             [
              0.3333333333333333,
              "#9c179e"
             ],
             [
              0.4444444444444444,
              "#bd3786"
             ],
             [
              0.5555555555555556,
              "#d8576b"
             ],
             [
              0.6666666666666666,
              "#ed7953"
             ],
             [
              0.7777777777777778,
              "#fb9f3a"
             ],
             [
              0.8888888888888888,
              "#fdca26"
             ],
             [
              1,
              "#f0f921"
             ]
            ],
            "type": "surface"
           }
          ],
          "table": [
           {
            "cells": {
             "fill": {
              "color": "#EBF0F8"
             },
             "line": {
              "color": "white"
             }
            },
            "header": {
             "fill": {
              "color": "#C8D4E3"
             },
             "line": {
              "color": "white"
             }
            },
            "type": "table"
           }
          ]
         },
         "layout": {
          "annotationdefaults": {
           "arrowcolor": "#2a3f5f",
           "arrowhead": 0,
           "arrowwidth": 1
          },
          "autotypenumbers": "strict",
          "coloraxis": {
           "colorbar": {
            "outlinewidth": 0,
            "ticks": ""
           }
          },
          "colorscale": {
           "diverging": [
            [
             0,
             "#8e0152"
            ],
            [
             0.1,
             "#c51b7d"
            ],
            [
             0.2,
             "#de77ae"
            ],
            [
             0.3,
             "#f1b6da"
            ],
            [
             0.4,
             "#fde0ef"
            ],
            [
             0.5,
             "#f7f7f7"
            ],
            [
             0.6,
             "#e6f5d0"
            ],
            [
             0.7,
             "#b8e186"
            ],
            [
             0.8,
             "#7fbc41"
            ],
            [
             0.9,
             "#4d9221"
            ],
            [
             1,
             "#276419"
            ]
           ],
           "sequential": [
            [
             0,
             "#0d0887"
            ],
            [
             0.1111111111111111,
             "#46039f"
            ],
            [
             0.2222222222222222,
             "#7201a8"
            ],
            [
             0.3333333333333333,
             "#9c179e"
            ],
            [
             0.4444444444444444,
             "#bd3786"
            ],
            [
             0.5555555555555556,
             "#d8576b"
            ],
            [
             0.6666666666666666,
             "#ed7953"
            ],
            [
             0.7777777777777778,
             "#fb9f3a"
            ],
            [
             0.8888888888888888,
             "#fdca26"
            ],
            [
             1,
             "#f0f921"
            ]
           ],
           "sequentialminus": [
            [
             0,
             "#0d0887"
            ],
            [
             0.1111111111111111,
             "#46039f"
            ],
            [
             0.2222222222222222,
             "#7201a8"
            ],
            [
             0.3333333333333333,
             "#9c179e"
            ],
            [
             0.4444444444444444,
             "#bd3786"
            ],
            [
             0.5555555555555556,
             "#d8576b"
            ],
            [
             0.6666666666666666,
             "#ed7953"
            ],
            [
             0.7777777777777778,
             "#fb9f3a"
            ],
            [
             0.8888888888888888,
             "#fdca26"
            ],
            [
             1,
             "#f0f921"
            ]
           ]
          },
          "colorway": [
           "#636efa",
           "#EF553B",
           "#00cc96",
           "#ab63fa",
           "#FFA15A",
           "#19d3f3",
           "#FF6692",
           "#B6E880",
           "#FF97FF",
           "#FECB52"
          ],
          "font": {
           "color": "#2a3f5f"
          },
          "geo": {
           "bgcolor": "white",
           "lakecolor": "white",
           "landcolor": "#E5ECF6",
           "showlakes": true,
           "showland": true,
           "subunitcolor": "white"
          },
          "hoverlabel": {
           "align": "left"
          },
          "hovermode": "closest",
          "mapbox": {
           "style": "light"
          },
          "paper_bgcolor": "white",
          "plot_bgcolor": "#E5ECF6",
          "polar": {
           "angularaxis": {
            "gridcolor": "white",
            "linecolor": "white",
            "ticks": ""
           },
           "bgcolor": "#E5ECF6",
           "radialaxis": {
            "gridcolor": "white",
            "linecolor": "white",
            "ticks": ""
           }
          },
          "scene": {
           "xaxis": {
            "backgroundcolor": "#E5ECF6",
            "gridcolor": "white",
            "gridwidth": 2,
            "linecolor": "white",
            "showbackground": true,
            "ticks": "",
            "zerolinecolor": "white"
           },
           "yaxis": {
            "backgroundcolor": "#E5ECF6",
            "gridcolor": "white",
            "gridwidth": 2,
            "linecolor": "white",
            "showbackground": true,
            "ticks": "",
            "zerolinecolor": "white"
           },
           "zaxis": {
            "backgroundcolor": "#E5ECF6",
            "gridcolor": "white",
            "gridwidth": 2,
            "linecolor": "white",
            "showbackground": true,
            "ticks": "",
            "zerolinecolor": "white"
           }
          },
          "shapedefaults": {
           "line": {
            "color": "#2a3f5f"
           }
          },
          "ternary": {
           "aaxis": {
            "gridcolor": "white",
            "linecolor": "white",
            "ticks": ""
           },
           "baxis": {
            "gridcolor": "white",
            "linecolor": "white",
            "ticks": ""
           },
           "bgcolor": "#E5ECF6",
           "caxis": {
            "gridcolor": "white",
            "linecolor": "white",
            "ticks": ""
           }
          },
          "title": {
           "x": 0.05
          },
          "xaxis": {
           "automargin": true,
           "gridcolor": "white",
           "linecolor": "white",
           "ticks": "",
           "title": {
            "standoff": 15
           },
           "zerolinecolor": "white",
           "zerolinewidth": 2
          },
          "yaxis": {
           "automargin": true,
           "gridcolor": "white",
           "linecolor": "white",
           "ticks": "",
           "title": {
            "standoff": 15
           },
           "zerolinecolor": "white",
           "zerolinewidth": 2
          }
         }
        },
        "title": {
         "text": "Implementation of the Perceptron Algorithm for the Logical AND Problem"
        },
        "xaxis": {
         "title": {
          "text": "x1"
         }
        },
        "yaxis": {
         "tickvals": [
          -25,
          -20,
          -15,
          -10,
          -5,
          0,
          0.5,
          1,
          1.5,
          2,
          2.5,
          3
         ],
         "title": {
          "text": "x2"
         }
        }
       }
      },
      "text/html": [
       "<div>                            <div id=\"cc4cb62d-4f41-47e2-97ac-4365841cfdcc\" class=\"plotly-graph-div\" style=\"height:525px; width:100%;\"></div>            <script type=\"text/javascript\">                require([\"plotly\"], function(Plotly) {                    window.PLOTLYENV=window.PLOTLYENV || {};                                    if (document.getElementById(\"cc4cb62d-4f41-47e2-97ac-4365841cfdcc\")) {                    Plotly.newPlot(                        \"cc4cb62d-4f41-47e2-97ac-4365841cfdcc\",                        [{\"marker\":{\"color\":\"black\",\"size\":20},\"mode\":\"markers\",\"name\":\"False\",\"type\":\"scatter\",\"x\":[0,0,1],\"y\":[0,1,0]},{\"marker\":{\"color\":\"green\",\"size\":20},\"mode\":\"markers\",\"name\":\"True\",\"type\":\"scatter\",\"x\":[1],\"y\":[1]},{\"line\":{\"color\":\"red\",\"width\":5},\"mode\":\"lines\",\"name\":\"first line\",\"type\":\"scatter\",\"x\":[0,0,1,1],\"y\":[-27.13349368155148,-27.13349368155148,-12.936813399762913,-12.936813399762913]},{\"line\":{\"color\":\"green\",\"width\":2},\"mode\":\"lines\",\"name\":\"line1\",\"type\":\"scatter\",\"x\":[0,0,1,1],\"y\":[-14.945864030545044,-14.945864030545044,-12.936813399762913,-12.936813399762913]},{\"line\":{\"color\":\"blue\",\"width\":2},\"mode\":\"lines\",\"name\":\"line2\",\"type\":\"scatter\",\"x\":[0,0,1,1],\"y\":[-2.7582343795386075,-2.7582343795386075,-12.936813399762913,-12.936813399762913]},{\"line\":{\"color\":\"gray\",\"width\":2},\"mode\":\"lines\",\"name\":\"line3\",\"type\":\"scatter\",\"x\":[0,0,1,1],\"y\":[0.715018204256912,0.715018204256912,-0.05680958357056238,-0.05680958357056238]},{\"line\":{\"color\":\"yellow\",\"width\":2},\"mode\":\"lines\",\"name\":\"line4\",\"type\":\"scatter\",\"x\":[0,0,1,1],\"y\":[0.715018204256912,0.715018204256912,-0.9809809451826408,-0.9809809451826408]},{\"line\":{\"color\":\"purple\",\"width\":2},\"mode\":\"lines\",\"name\":\"line5\",\"type\":\"scatter\",\"x\":[0,0,1,1],\"y\":[1.6391895658689903,1.6391895658689903,-0.05680958357056238,-0.05680958357056238]},{\"line\":{\"color\":\"violet\",\"width\":2},\"mode\":\"lines\",\"name\":\"line6\",\"type\":\"scatter\",\"x\":[0,0,1,1],\"y\":[0.8518937546683321,0.8518937546683321,-0.029524181007957152,-0.029524181007957152]},{\"line\":{\"color\":\"black\",\"width\":5},\"mode\":\"lines\",\"name\":\"last line\",\"type\":\"scatter\",\"x\":[0,0,1,1],\"y\":[2.5633609274810687,2.5633609274810687,0.867361778041516,0.867361778041516]}],                        {\"legend\":{\"title\":{\"text\":\"True/False Data Points & Boundary Lines\"}},\"template\":{\"data\":{\"bar\":[{\"error_x\":{\"color\":\"#2a3f5f\"},\"error_y\":{\"color\":\"#2a3f5f\"},\"marker\":{\"line\":{\"color\":\"#E5ECF6\",\"width\":0.5},\"pattern\":{\"fillmode\":\"overlay\",\"size\":10,\"solidity\":0.2}},\"type\":\"bar\"}],\"barpolar\":[{\"marker\":{\"line\":{\"color\":\"#E5ECF6\",\"width\":0.5},\"pattern\":{\"fillmode\":\"overlay\",\"size\":10,\"solidity\":0.2}},\"type\":\"barpolar\"}],\"carpet\":[{\"aaxis\":{\"endlinecolor\":\"#2a3f5f\",\"gridcolor\":\"white\",\"linecolor\":\"white\",\"minorgridcolor\":\"white\",\"startlinecolor\":\"#2a3f5f\"},\"baxis\":{\"endlinecolor\":\"#2a3f5f\",\"gridcolor\":\"white\",\"linecolor\":\"white\",\"minorgridcolor\":\"white\",\"startlinecolor\":\"#2a3f5f\"},\"type\":\"carpet\"}],\"choropleth\":[{\"colorbar\":{\"outlinewidth\":0,\"ticks\":\"\"},\"type\":\"choropleth\"}],\"contour\":[{\"colorbar\":{\"outlinewidth\":0,\"ticks\":\"\"},\"colorscale\":[[0.0,\"#0d0887\"],[0.1111111111111111,\"#46039f\"],[0.2222222222222222,\"#7201a8\"],[0.3333333333333333,\"#9c179e\"],[0.4444444444444444,\"#bd3786\"],[0.5555555555555556,\"#d8576b\"],[0.6666666666666666,\"#ed7953\"],[0.7777777777777778,\"#fb9f3a\"],[0.8888888888888888,\"#fdca26\"],[1.0,\"#f0f921\"]],\"type\":\"contour\"}],\"contourcarpet\":[{\"colorbar\":{\"outlinewidth\":0,\"ticks\":\"\"},\"type\":\"contourcarpet\"}],\"heatmap\":[{\"colorbar\":{\"outlinewidth\":0,\"ticks\":\"\"},\"colorscale\":[[0.0,\"#0d0887\"],[0.1111111111111111,\"#46039f\"],[0.2222222222222222,\"#7201a8\"],[0.3333333333333333,\"#9c179e\"],[0.4444444444444444,\"#bd3786\"],[0.5555555555555556,\"#d8576b\"],[0.6666666666666666,\"#ed7953\"],[0.7777777777777778,\"#fb9f3a\"],[0.8888888888888888,\"#fdca26\"],[1.0,\"#f0f921\"]],\"type\":\"heatmap\"}],\"heatmapgl\":[{\"colorbar\":{\"outlinewidth\":0,\"ticks\":\"\"},\"colorscale\":[[0.0,\"#0d0887\"],[0.1111111111111111,\"#46039f\"],[0.2222222222222222,\"#7201a8\"],[0.3333333333333333,\"#9c179e\"],[0.4444444444444444,\"#bd3786\"],[0.5555555555555556,\"#d8576b\"],[0.6666666666666666,\"#ed7953\"],[0.7777777777777778,\"#fb9f3a\"],[0.8888888888888888,\"#fdca26\"],[1.0,\"#f0f921\"]],\"type\":\"heatmapgl\"}],\"histogram\":[{\"marker\":{\"pattern\":{\"fillmode\":\"overlay\",\"size\":10,\"solidity\":0.2}},\"type\":\"histogram\"}],\"histogram2d\":[{\"colorbar\":{\"outlinewidth\":0,\"ticks\":\"\"},\"colorscale\":[[0.0,\"#0d0887\"],[0.1111111111111111,\"#46039f\"],[0.2222222222222222,\"#7201a8\"],[0.3333333333333333,\"#9c179e\"],[0.4444444444444444,\"#bd3786\"],[0.5555555555555556,\"#d8576b\"],[0.6666666666666666,\"#ed7953\"],[0.7777777777777778,\"#fb9f3a\"],[0.8888888888888888,\"#fdca26\"],[1.0,\"#f0f921\"]],\"type\":\"histogram2d\"}],\"histogram2dcontour\":[{\"colorbar\":{\"outlinewidth\":0,\"ticks\":\"\"},\"colorscale\":[[0.0,\"#0d0887\"],[0.1111111111111111,\"#46039f\"],[0.2222222222222222,\"#7201a8\"],[0.3333333333333333,\"#9c179e\"],[0.4444444444444444,\"#bd3786\"],[0.5555555555555556,\"#d8576b\"],[0.6666666666666666,\"#ed7953\"],[0.7777777777777778,\"#fb9f3a\"],[0.8888888888888888,\"#fdca26\"],[1.0,\"#f0f921\"]],\"type\":\"histogram2dcontour\"}],\"mesh3d\":[{\"colorbar\":{\"outlinewidth\":0,\"ticks\":\"\"},\"type\":\"mesh3d\"}],\"parcoords\":[{\"line\":{\"colorbar\":{\"outlinewidth\":0,\"ticks\":\"\"}},\"type\":\"parcoords\"}],\"pie\":[{\"automargin\":true,\"type\":\"pie\"}],\"scatter\":[{\"marker\":{\"colorbar\":{\"outlinewidth\":0,\"ticks\":\"\"}},\"type\":\"scatter\"}],\"scatter3d\":[{\"line\":{\"colorbar\":{\"outlinewidth\":0,\"ticks\":\"\"}},\"marker\":{\"colorbar\":{\"outlinewidth\":0,\"ticks\":\"\"}},\"type\":\"scatter3d\"}],\"scattercarpet\":[{\"marker\":{\"colorbar\":{\"outlinewidth\":0,\"ticks\":\"\"}},\"type\":\"scattercarpet\"}],\"scattergeo\":[{\"marker\":{\"colorbar\":{\"outlinewidth\":0,\"ticks\":\"\"}},\"type\":\"scattergeo\"}],\"scattergl\":[{\"marker\":{\"colorbar\":{\"outlinewidth\":0,\"ticks\":\"\"}},\"type\":\"scattergl\"}],\"scattermapbox\":[{\"marker\":{\"colorbar\":{\"outlinewidth\":0,\"ticks\":\"\"}},\"type\":\"scattermapbox\"}],\"scatterpolar\":[{\"marker\":{\"colorbar\":{\"outlinewidth\":0,\"ticks\":\"\"}},\"type\":\"scatterpolar\"}],\"scatterpolargl\":[{\"marker\":{\"colorbar\":{\"outlinewidth\":0,\"ticks\":\"\"}},\"type\":\"scatterpolargl\"}],\"scatterternary\":[{\"marker\":{\"colorbar\":{\"outlinewidth\":0,\"ticks\":\"\"}},\"type\":\"scatterternary\"}],\"surface\":[{\"colorbar\":{\"outlinewidth\":0,\"ticks\":\"\"},\"colorscale\":[[0.0,\"#0d0887\"],[0.1111111111111111,\"#46039f\"],[0.2222222222222222,\"#7201a8\"],[0.3333333333333333,\"#9c179e\"],[0.4444444444444444,\"#bd3786\"],[0.5555555555555556,\"#d8576b\"],[0.6666666666666666,\"#ed7953\"],[0.7777777777777778,\"#fb9f3a\"],[0.8888888888888888,\"#fdca26\"],[1.0,\"#f0f921\"]],\"type\":\"surface\"}],\"table\":[{\"cells\":{\"fill\":{\"color\":\"#EBF0F8\"},\"line\":{\"color\":\"white\"}},\"header\":{\"fill\":{\"color\":\"#C8D4E3\"},\"line\":{\"color\":\"white\"}},\"type\":\"table\"}]},\"layout\":{\"annotationdefaults\":{\"arrowcolor\":\"#2a3f5f\",\"arrowhead\":0,\"arrowwidth\":1},\"autotypenumbers\":\"strict\",\"coloraxis\":{\"colorbar\":{\"outlinewidth\":0,\"ticks\":\"\"}},\"colorscale\":{\"diverging\":[[0,\"#8e0152\"],[0.1,\"#c51b7d\"],[0.2,\"#de77ae\"],[0.3,\"#f1b6da\"],[0.4,\"#fde0ef\"],[0.5,\"#f7f7f7\"],[0.6,\"#e6f5d0\"],[0.7,\"#b8e186\"],[0.8,\"#7fbc41\"],[0.9,\"#4d9221\"],[1,\"#276419\"]],\"sequential\":[[0.0,\"#0d0887\"],[0.1111111111111111,\"#46039f\"],[0.2222222222222222,\"#7201a8\"],[0.3333333333333333,\"#9c179e\"],[0.4444444444444444,\"#bd3786\"],[0.5555555555555556,\"#d8576b\"],[0.6666666666666666,\"#ed7953\"],[0.7777777777777778,\"#fb9f3a\"],[0.8888888888888888,\"#fdca26\"],[1.0,\"#f0f921\"]],\"sequentialminus\":[[0.0,\"#0d0887\"],[0.1111111111111111,\"#46039f\"],[0.2222222222222222,\"#7201a8\"],[0.3333333333333333,\"#9c179e\"],[0.4444444444444444,\"#bd3786\"],[0.5555555555555556,\"#d8576b\"],[0.6666666666666666,\"#ed7953\"],[0.7777777777777778,\"#fb9f3a\"],[0.8888888888888888,\"#fdca26\"],[1.0,\"#f0f921\"]]},\"colorway\":[\"#636efa\",\"#EF553B\",\"#00cc96\",\"#ab63fa\",\"#FFA15A\",\"#19d3f3\",\"#FF6692\",\"#B6E880\",\"#FF97FF\",\"#FECB52\"],\"font\":{\"color\":\"#2a3f5f\"},\"geo\":{\"bgcolor\":\"white\",\"lakecolor\":\"white\",\"landcolor\":\"#E5ECF6\",\"showlakes\":true,\"showland\":true,\"subunitcolor\":\"white\"},\"hoverlabel\":{\"align\":\"left\"},\"hovermode\":\"closest\",\"mapbox\":{\"style\":\"light\"},\"paper_bgcolor\":\"white\",\"plot_bgcolor\":\"#E5ECF6\",\"polar\":{\"angularaxis\":{\"gridcolor\":\"white\",\"linecolor\":\"white\",\"ticks\":\"\"},\"bgcolor\":\"#E5ECF6\",\"radialaxis\":{\"gridcolor\":\"white\",\"linecolor\":\"white\",\"ticks\":\"\"}},\"scene\":{\"xaxis\":{\"backgroundcolor\":\"#E5ECF6\",\"gridcolor\":\"white\",\"gridwidth\":2,\"linecolor\":\"white\",\"showbackground\":true,\"ticks\":\"\",\"zerolinecolor\":\"white\"},\"yaxis\":{\"backgroundcolor\":\"#E5ECF6\",\"gridcolor\":\"white\",\"gridwidth\":2,\"linecolor\":\"white\",\"showbackground\":true,\"ticks\":\"\",\"zerolinecolor\":\"white\"},\"zaxis\":{\"backgroundcolor\":\"#E5ECF6\",\"gridcolor\":\"white\",\"gridwidth\":2,\"linecolor\":\"white\",\"showbackground\":true,\"ticks\":\"\",\"zerolinecolor\":\"white\"}},\"shapedefaults\":{\"line\":{\"color\":\"#2a3f5f\"}},\"ternary\":{\"aaxis\":{\"gridcolor\":\"white\",\"linecolor\":\"white\",\"ticks\":\"\"},\"baxis\":{\"gridcolor\":\"white\",\"linecolor\":\"white\",\"ticks\":\"\"},\"bgcolor\":\"#E5ECF6\",\"caxis\":{\"gridcolor\":\"white\",\"linecolor\":\"white\",\"ticks\":\"\"}},\"title\":{\"x\":0.05},\"xaxis\":{\"automargin\":true,\"gridcolor\":\"white\",\"linecolor\":\"white\",\"ticks\":\"\",\"title\":{\"standoff\":15},\"zerolinecolor\":\"white\",\"zerolinewidth\":2},\"yaxis\":{\"automargin\":true,\"gridcolor\":\"white\",\"linecolor\":\"white\",\"ticks\":\"\",\"title\":{\"standoff\":15},\"zerolinecolor\":\"white\",\"zerolinewidth\":2}}},\"title\":{\"text\":\"Implementation of the Perceptron Algorithm for the Logical AND Problem\"},\"xaxis\":{\"title\":{\"text\":\"x1\"}},\"yaxis\":{\"tickvals\":[-25,-20,-15,-10,-5,0,0.5,1,1.5,2,2.5,3.0],\"title\":{\"text\":\"x2\"}}},                        {\"responsive\": true}                    ).then(function(){\n",
       "                            \n",
       "var gd = document.getElementById('cc4cb62d-4f41-47e2-97ac-4365841cfdcc');\n",
       "var x = new MutationObserver(function (mutations, observer) {{\n",
       "        var display = window.getComputedStyle(gd).display;\n",
       "        if (!display || display === 'none') {{\n",
       "            console.log([gd, 'removed!']);\n",
       "            Plotly.purge(gd);\n",
       "            observer.disconnect();\n",
       "        }}\n",
       "}});\n",
       "\n",
       "// Listen for the removal of the full notebook cells\n",
       "var notebookContainer = gd.closest('#notebook-container');\n",
       "if (notebookContainer) {{\n",
       "    x.observe(notebookContainer, {childList: true});\n",
       "}}\n",
       "\n",
       "// Listen for the clearing of the current output cell\n",
       "var outputEl = gd.closest('.output');\n",
       "if (outputEl) {{\n",
       "    x.observe(outputEl, {childList: true});\n",
       "}}\n",
       "\n",
       "                        })                };                });            </script>        </div>"
      ]
     },
     "metadata": {},
     "output_type": "display_data"
    }
   ],
   "source": [
    "fig = go.Figure()\n",
    "colors = ['red', 'green', 'blue', 'gray', 'yellow', 'purple', 'violet', 'black']\n",
    "fig.add_trace(go.Scatter(x = x1[:3], y =x2[:3], mode ='markers',\n",
    "                    marker = dict(color ='black', size = 20), name = 'False'))\n",
    "fig.add_trace(go.Scatter(x = x1[3:], y =x2[3:], mode ='markers',\n",
    "                    marker = dict(color ='green', size = 20), name = 'True'))\n",
    "for ind in range(len(outputs)):\n",
    "    if ind == 0:\n",
    "        fig.add_trace(go.Scatter(x=x1, y=outputs[ind], line_color = 'red', mode='lines',\n",
    "                                line = dict(width = 5), name = 'first line'))\n",
    "    elif ind == 7:\n",
    "        fig.add_trace(go.Scatter(x=x1, y=outputs[ind], line_color = 'black', mode='lines',\n",
    "                                line = dict(width = 5), name = 'last line'))\n",
    "    else:\n",
    "        fig.add_trace(go.Scatter(x=x1, y=outputs[ind], line_color = colors[ind], mode='lines',\n",
    "                                line = dict(width = 2), name = f'line{ind}'))\n",
    "fig.update_layout(xaxis_title = \"x1\", yaxis_title = \"x2\", title=\"Implementation of the Perceptron Algorithm for the Logical AND Problem\",\n",
    "                legend_title = \"True/False Data Points & Boundary Lines\")\n",
    "fig.update_yaxes(tickvals=[-25, -20, -15, -10, -5, 0, 0.5, 1, 1.5, 2, 2.5, 3.0])\n",
    "\n",
    "fig.show()"
   ]
  },
  {
   "cell_type": "markdown",
   "id": "2fd9af00",
   "metadata": {},
   "source": [
    "# Perceptron Trick with One Example "
   ]
  },
  {
   "cell_type": "markdown",
   "id": "77ca6eec",
   "metadata": {},
   "source": [
    "Imagine a boundary line of the form:\n",
    "\n",
    "$$ 3x_1 + 4x_2 - 10 =0$$\n",
    "\n",
    "And a misclassified blue point at (1,1). How will you adjust the parameters to correctly  classify this point."
   ]
  },
  {
   "cell_type": "code",
   "execution_count": 24,
   "id": "2e0182c0",
   "metadata": {
    "lines_to_next_cell": 2
   },
   "outputs": [
    {
     "data": {
      "application/vnd.plotly.v1+json": {
       "config": {
        "plotlyServerURL": "https://plot.ly"
       },
       "data": [
        {
         "marker": {
          "color": "blue",
          "size": 20
         },
         "mode": "markers",
         "name": "+1 data point",
         "type": "scatter",
         "x": [
          1
         ],
         "y": [
          1
         ]
        },
        {
         "fill": "tozeroy",
         "line": {
          "color": "red",
          "width": 5
         },
         "mode": "lines",
         "name": "negative data point region",
         "type": "scatter",
         "x": [
          0,
          0.061224489795918366,
          0.12244897959183673,
          0.18367346938775508,
          0.24489795918367346,
          0.30612244897959184,
          0.36734693877551017,
          0.42857142857142855,
          0.4897959183673469,
          0.5510204081632653,
          0.6122448979591837,
          0.673469387755102,
          0.7346938775510203,
          0.7959183673469388,
          0.8571428571428571,
          0.9183673469387755,
          0.9795918367346939,
          1.0408163265306123,
          1.1020408163265305,
          1.163265306122449,
          1.2244897959183674,
          1.2857142857142856,
          1.346938775510204,
          1.4081632653061225,
          1.4693877551020407,
          1.530612244897959,
          1.5918367346938775,
          1.653061224489796,
          1.7142857142857142,
          1.7755102040816326,
          1.836734693877551,
          1.8979591836734693,
          1.9591836734693877,
          2.020408163265306,
          2.0816326530612246,
          2.142857142857143,
          2.204081632653061,
          2.2653061224489797,
          2.326530612244898,
          2.387755102040816,
          2.4489795918367347,
          2.510204081632653,
          2.571428571428571,
          2.63265306122449,
          2.693877551020408,
          2.7551020408163263,
          2.816326530612245,
          2.877551020408163,
          2.9387755102040813,
          3
         ],
         "y": [
          2.5,
          2.454081632653061,
          2.4081632653061225,
          2.362244897959184,
          2.316326530612245,
          2.270408163265306,
          2.2244897959183674,
          2.178571428571429,
          2.13265306122449,
          2.086734693877551,
          2.0408163265306123,
          1.9948979591836735,
          1.9489795918367347,
          1.903061224489796,
          1.8571428571428572,
          1.8112244897959182,
          1.7653061224489797,
          1.7193877551020407,
          1.6734693877551021,
          1.6275510204081634,
          1.5816326530612246,
          1.5357142857142858,
          1.489795918367347,
          1.443877551020408,
          1.3979591836734695,
          1.3520408163265307,
          1.306122448979592,
          1.260204081632653,
          1.2142857142857144,
          1.1683673469387754,
          1.1224489795918366,
          1.076530612244898,
          1.0306122448979593,
          0.9846938775510206,
          0.9387755102040816,
          0.8928571428571428,
          0.8469387755102042,
          0.8010204081632653,
          0.7551020408163267,
          0.7091836734693879,
          0.6632653061224489,
          0.6173469387755102,
          0.5714285714285716,
          0.5255102040816326,
          0.4795918367346941,
          0.4336734693877551,
          0.3877551020408161,
          0.34183673469387754,
          0.295918367346939,
          0.25
         ]
        }
       ],
       "layout": {
        "template": {
         "data": {
          "bar": [
           {
            "error_x": {
             "color": "#2a3f5f"
            },
            "error_y": {
             "color": "#2a3f5f"
            },
            "marker": {
             "line": {
              "color": "#E5ECF6",
              "width": 0.5
             },
             "pattern": {
              "fillmode": "overlay",
              "size": 10,
              "solidity": 0.2
             }
            },
            "type": "bar"
           }
          ],
          "barpolar": [
           {
            "marker": {
             "line": {
              "color": "#E5ECF6",
              "width": 0.5
             },
             "pattern": {
              "fillmode": "overlay",
              "size": 10,
              "solidity": 0.2
             }
            },
            "type": "barpolar"
           }
          ],
          "carpet": [
           {
            "aaxis": {
             "endlinecolor": "#2a3f5f",
             "gridcolor": "white",
             "linecolor": "white",
             "minorgridcolor": "white",
             "startlinecolor": "#2a3f5f"
            },
            "baxis": {
             "endlinecolor": "#2a3f5f",
             "gridcolor": "white",
             "linecolor": "white",
             "minorgridcolor": "white",
             "startlinecolor": "#2a3f5f"
            },
            "type": "carpet"
           }
          ],
          "choropleth": [
           {
            "colorbar": {
             "outlinewidth": 0,
             "ticks": ""
            },
            "type": "choropleth"
           }
          ],
          "contour": [
           {
            "colorbar": {
             "outlinewidth": 0,
             "ticks": ""
            },
            "colorscale": [
             [
              0,
              "#0d0887"
             ],
             [
              0.1111111111111111,
              "#46039f"
             ],
             [
              0.2222222222222222,
              "#7201a8"
             ],
             [
              0.3333333333333333,
              "#9c179e"
             ],
             [
              0.4444444444444444,
              "#bd3786"
             ],
             [
              0.5555555555555556,
              "#d8576b"
             ],
             [
              0.6666666666666666,
              "#ed7953"
             ],
             [
              0.7777777777777778,
              "#fb9f3a"
             ],
             [
              0.8888888888888888,
              "#fdca26"
             ],
             [
              1,
              "#f0f921"
             ]
            ],
            "type": "contour"
           }
          ],
          "contourcarpet": [
           {
            "colorbar": {
             "outlinewidth": 0,
             "ticks": ""
            },
            "type": "contourcarpet"
           }
          ],
          "heatmap": [
           {
            "colorbar": {
             "outlinewidth": 0,
             "ticks": ""
            },
            "colorscale": [
             [
              0,
              "#0d0887"
             ],
             [
              0.1111111111111111,
              "#46039f"
             ],
             [
              0.2222222222222222,
              "#7201a8"
             ],
             [
              0.3333333333333333,
              "#9c179e"
             ],
             [
              0.4444444444444444,
              "#bd3786"
             ],
             [
              0.5555555555555556,
              "#d8576b"
             ],
             [
              0.6666666666666666,
              "#ed7953"
             ],
             [
              0.7777777777777778,
              "#fb9f3a"
             ],
             [
              0.8888888888888888,
              "#fdca26"
             ],
             [
              1,
              "#f0f921"
             ]
            ],
            "type": "heatmap"
           }
          ],
          "heatmapgl": [
           {
            "colorbar": {
             "outlinewidth": 0,
             "ticks": ""
            },
            "colorscale": [
             [
              0,
              "#0d0887"
             ],
             [
              0.1111111111111111,
              "#46039f"
             ],
             [
              0.2222222222222222,
              "#7201a8"
             ],
             [
              0.3333333333333333,
              "#9c179e"
             ],
             [
              0.4444444444444444,
              "#bd3786"
             ],
             [
              0.5555555555555556,
              "#d8576b"
             ],
             [
              0.6666666666666666,
              "#ed7953"
             ],
             [
              0.7777777777777778,
              "#fb9f3a"
             ],
             [
              0.8888888888888888,
              "#fdca26"
             ],
             [
              1,
              "#f0f921"
             ]
            ],
            "type": "heatmapgl"
           }
          ],
          "histogram": [
           {
            "marker": {
             "pattern": {
              "fillmode": "overlay",
              "size": 10,
              "solidity": 0.2
             }
            },
            "type": "histogram"
           }
          ],
          "histogram2d": [
           {
            "colorbar": {
             "outlinewidth": 0,
             "ticks": ""
            },
            "colorscale": [
             [
              0,
              "#0d0887"
             ],
             [
              0.1111111111111111,
              "#46039f"
             ],
             [
              0.2222222222222222,
              "#7201a8"
             ],
             [
              0.3333333333333333,
              "#9c179e"
             ],
             [
              0.4444444444444444,
              "#bd3786"
             ],
             [
              0.5555555555555556,
              "#d8576b"
             ],
             [
              0.6666666666666666,
              "#ed7953"
             ],
             [
              0.7777777777777778,
              "#fb9f3a"
             ],
             [
              0.8888888888888888,
              "#fdca26"
             ],
             [
              1,
              "#f0f921"
             ]
            ],
            "type": "histogram2d"
           }
          ],
          "histogram2dcontour": [
           {
            "colorbar": {
             "outlinewidth": 0,
             "ticks": ""
            },
            "colorscale": [
             [
              0,
              "#0d0887"
             ],
             [
              0.1111111111111111,
              "#46039f"
             ],
             [
              0.2222222222222222,
              "#7201a8"
             ],
             [
              0.3333333333333333,
              "#9c179e"
             ],
             [
              0.4444444444444444,
              "#bd3786"
             ],
             [
              0.5555555555555556,
              "#d8576b"
             ],
             [
              0.6666666666666666,
              "#ed7953"
             ],
             [
              0.7777777777777778,
              "#fb9f3a"
             ],
             [
              0.8888888888888888,
              "#fdca26"
             ],
             [
              1,
              "#f0f921"
             ]
            ],
            "type": "histogram2dcontour"
           }
          ],
          "mesh3d": [
           {
            "colorbar": {
             "outlinewidth": 0,
             "ticks": ""
            },
            "type": "mesh3d"
           }
          ],
          "parcoords": [
           {
            "line": {
             "colorbar": {
              "outlinewidth": 0,
              "ticks": ""
             }
            },
            "type": "parcoords"
           }
          ],
          "pie": [
           {
            "automargin": true,
            "type": "pie"
           }
          ],
          "scatter": [
           {
            "marker": {
             "colorbar": {
              "outlinewidth": 0,
              "ticks": ""
             }
            },
            "type": "scatter"
           }
          ],
          "scatter3d": [
           {
            "line": {
             "colorbar": {
              "outlinewidth": 0,
              "ticks": ""
             }
            },
            "marker": {
             "colorbar": {
              "outlinewidth": 0,
              "ticks": ""
             }
            },
            "type": "scatter3d"
           }
          ],
          "scattercarpet": [
           {
            "marker": {
             "colorbar": {
              "outlinewidth": 0,
              "ticks": ""
             }
            },
            "type": "scattercarpet"
           }
          ],
          "scattergeo": [
           {
            "marker": {
             "colorbar": {
              "outlinewidth": 0,
              "ticks": ""
             }
            },
            "type": "scattergeo"
           }
          ],
          "scattergl": [
           {
            "marker": {
             "colorbar": {
              "outlinewidth": 0,
              "ticks": ""
             }
            },
            "type": "scattergl"
           }
          ],
          "scattermapbox": [
           {
            "marker": {
             "colorbar": {
              "outlinewidth": 0,
              "ticks": ""
             }
            },
            "type": "scattermapbox"
           }
          ],
          "scatterpolar": [
           {
            "marker": {
             "colorbar": {
              "outlinewidth": 0,
              "ticks": ""
             }
            },
            "type": "scatterpolar"
           }
          ],
          "scatterpolargl": [
           {
            "marker": {
             "colorbar": {
              "outlinewidth": 0,
              "ticks": ""
             }
            },
            "type": "scatterpolargl"
           }
          ],
          "scatterternary": [
           {
            "marker": {
             "colorbar": {
              "outlinewidth": 0,
              "ticks": ""
             }
            },
            "type": "scatterternary"
           }
          ],
          "surface": [
           {
            "colorbar": {
             "outlinewidth": 0,
             "ticks": ""
            },
            "colorscale": [
             [
              0,
              "#0d0887"
             ],
             [
              0.1111111111111111,
              "#46039f"
             ],
             [
              0.2222222222222222,
              "#7201a8"
             ],
             [
              0.3333333333333333,
              "#9c179e"
             ],
             [
              0.4444444444444444,
              "#bd3786"
             ],
             [
              0.5555555555555556,
              "#d8576b"
             ],
             [
              0.6666666666666666,
              "#ed7953"
             ],
             [
              0.7777777777777778,
              "#fb9f3a"
             ],
             [
              0.8888888888888888,
              "#fdca26"
             ],
             [
              1,
              "#f0f921"
             ]
            ],
            "type": "surface"
           }
          ],
          "table": [
           {
            "cells": {
             "fill": {
              "color": "#EBF0F8"
             },
             "line": {
              "color": "white"
             }
            },
            "header": {
             "fill": {
              "color": "#C8D4E3"
             },
             "line": {
              "color": "white"
             }
            },
            "type": "table"
           }
          ]
         },
         "layout": {
          "annotationdefaults": {
           "arrowcolor": "#2a3f5f",
           "arrowhead": 0,
           "arrowwidth": 1
          },
          "autotypenumbers": "strict",
          "coloraxis": {
           "colorbar": {
            "outlinewidth": 0,
            "ticks": ""
           }
          },
          "colorscale": {
           "diverging": [
            [
             0,
             "#8e0152"
            ],
            [
             0.1,
             "#c51b7d"
            ],
            [
             0.2,
             "#de77ae"
            ],
            [
             0.3,
             "#f1b6da"
            ],
            [
             0.4,
             "#fde0ef"
            ],
            [
             0.5,
             "#f7f7f7"
            ],
            [
             0.6,
             "#e6f5d0"
            ],
            [
             0.7,
             "#b8e186"
            ],
            [
             0.8,
             "#7fbc41"
            ],
            [
             0.9,
             "#4d9221"
            ],
            [
             1,
             "#276419"
            ]
           ],
           "sequential": [
            [
             0,
             "#0d0887"
            ],
            [
             0.1111111111111111,
             "#46039f"
            ],
            [
             0.2222222222222222,
             "#7201a8"
            ],
            [
             0.3333333333333333,
             "#9c179e"
            ],
            [
             0.4444444444444444,
             "#bd3786"
            ],
            [
             0.5555555555555556,
             "#d8576b"
            ],
            [
             0.6666666666666666,
             "#ed7953"
            ],
            [
             0.7777777777777778,
             "#fb9f3a"
            ],
            [
             0.8888888888888888,
             "#fdca26"
            ],
            [
             1,
             "#f0f921"
            ]
           ],
           "sequentialminus": [
            [
             0,
             "#0d0887"
            ],
            [
             0.1111111111111111,
             "#46039f"
            ],
            [
             0.2222222222222222,
             "#7201a8"
            ],
            [
             0.3333333333333333,
             "#9c179e"
            ],
            [
             0.4444444444444444,
             "#bd3786"
            ],
            [
             0.5555555555555556,
             "#d8576b"
            ],
            [
             0.6666666666666666,
             "#ed7953"
            ],
            [
             0.7777777777777778,
             "#fb9f3a"
            ],
            [
             0.8888888888888888,
             "#fdca26"
            ],
            [
             1,
             "#f0f921"
            ]
           ]
          },
          "colorway": [
           "#636efa",
           "#EF553B",
           "#00cc96",
           "#ab63fa",
           "#FFA15A",
           "#19d3f3",
           "#FF6692",
           "#B6E880",
           "#FF97FF",
           "#FECB52"
          ],
          "font": {
           "color": "#2a3f5f"
          },
          "geo": {
           "bgcolor": "white",
           "lakecolor": "white",
           "landcolor": "#E5ECF6",
           "showlakes": true,
           "showland": true,
           "subunitcolor": "white"
          },
          "hoverlabel": {
           "align": "left"
          },
          "hovermode": "closest",
          "mapbox": {
           "style": "light"
          },
          "paper_bgcolor": "white",
          "plot_bgcolor": "#E5ECF6",
          "polar": {
           "angularaxis": {
            "gridcolor": "white",
            "linecolor": "white",
            "ticks": ""
           },
           "bgcolor": "#E5ECF6",
           "radialaxis": {
            "gridcolor": "white",
            "linecolor": "white",
            "ticks": ""
           }
          },
          "scene": {
           "xaxis": {
            "backgroundcolor": "#E5ECF6",
            "gridcolor": "white",
            "gridwidth": 2,
            "linecolor": "white",
            "showbackground": true,
            "ticks": "",
            "zerolinecolor": "white"
           },
           "yaxis": {
            "backgroundcolor": "#E5ECF6",
            "gridcolor": "white",
            "gridwidth": 2,
            "linecolor": "white",
            "showbackground": true,
            "ticks": "",
            "zerolinecolor": "white"
           },
           "zaxis": {
            "backgroundcolor": "#E5ECF6",
            "gridcolor": "white",
            "gridwidth": 2,
            "linecolor": "white",
            "showbackground": true,
            "ticks": "",
            "zerolinecolor": "white"
           }
          },
          "shapedefaults": {
           "line": {
            "color": "#2a3f5f"
           }
          },
          "ternary": {
           "aaxis": {
            "gridcolor": "white",
            "linecolor": "white",
            "ticks": ""
           },
           "baxis": {
            "gridcolor": "white",
            "linecolor": "white",
            "ticks": ""
           },
           "bgcolor": "#E5ECF6",
           "caxis": {
            "gridcolor": "white",
            "linecolor": "white",
            "ticks": ""
           }
          },
          "title": {
           "x": 0.05
          },
          "xaxis": {
           "automargin": true,
           "gridcolor": "white",
           "linecolor": "white",
           "ticks": "",
           "title": {
            "standoff": 15
           },
           "zerolinecolor": "white",
           "zerolinewidth": 2
          },
          "yaxis": {
           "automargin": true,
           "gridcolor": "white",
           "linecolor": "white",
           "ticks": "",
           "title": {
            "standoff": 15
           },
           "zerolinecolor": "white",
           "zerolinewidth": 2
          }
         }
        }
       }
      },
      "text/html": [
       "<div>                            <div id=\"84d0dcaf-c10e-47cc-b6e5-c607f11a57fe\" class=\"plotly-graph-div\" style=\"height:525px; width:100%;\"></div>            <script type=\"text/javascript\">                require([\"plotly\"], function(Plotly) {                    window.PLOTLYENV=window.PLOTLYENV || {};                                    if (document.getElementById(\"84d0dcaf-c10e-47cc-b6e5-c607f11a57fe\")) {                    Plotly.newPlot(                        \"84d0dcaf-c10e-47cc-b6e5-c607f11a57fe\",                        [{\"marker\":{\"color\":\"blue\",\"size\":20},\"mode\":\"markers\",\"name\":\"+1 data point\",\"type\":\"scatter\",\"x\":[1],\"y\":[1]},{\"fill\":\"tozeroy\",\"line\":{\"color\":\"red\",\"width\":5},\"mode\":\"lines\",\"name\":\"negative data point region\",\"type\":\"scatter\",\"x\":[0.0,0.061224489795918366,0.12244897959183673,0.18367346938775508,0.24489795918367346,0.30612244897959184,0.36734693877551017,0.42857142857142855,0.4897959183673469,0.5510204081632653,0.6122448979591837,0.673469387755102,0.7346938775510203,0.7959183673469388,0.8571428571428571,0.9183673469387755,0.9795918367346939,1.0408163265306123,1.1020408163265305,1.163265306122449,1.2244897959183674,1.2857142857142856,1.346938775510204,1.4081632653061225,1.4693877551020407,1.530612244897959,1.5918367346938775,1.653061224489796,1.7142857142857142,1.7755102040816326,1.836734693877551,1.8979591836734693,1.9591836734693877,2.020408163265306,2.0816326530612246,2.142857142857143,2.204081632653061,2.2653061224489797,2.326530612244898,2.387755102040816,2.4489795918367347,2.510204081632653,2.571428571428571,2.63265306122449,2.693877551020408,2.7551020408163263,2.816326530612245,2.877551020408163,2.9387755102040813,3.0],\"y\":[2.5,2.454081632653061,2.4081632653061225,2.362244897959184,2.316326530612245,2.270408163265306,2.2244897959183674,2.178571428571429,2.13265306122449,2.086734693877551,2.0408163265306123,1.9948979591836735,1.9489795918367347,1.903061224489796,1.8571428571428572,1.8112244897959182,1.7653061224489797,1.7193877551020407,1.6734693877551021,1.6275510204081634,1.5816326530612246,1.5357142857142858,1.489795918367347,1.443877551020408,1.3979591836734695,1.3520408163265307,1.306122448979592,1.260204081632653,1.2142857142857144,1.1683673469387754,1.1224489795918366,1.076530612244898,1.0306122448979593,0.9846938775510206,0.9387755102040816,0.8928571428571428,0.8469387755102042,0.8010204081632653,0.7551020408163267,0.7091836734693879,0.6632653061224489,0.6173469387755102,0.5714285714285716,0.5255102040816326,0.4795918367346941,0.4336734693877551,0.3877551020408161,0.34183673469387754,0.295918367346939,0.25]}],                        {\"template\":{\"data\":{\"bar\":[{\"error_x\":{\"color\":\"#2a3f5f\"},\"error_y\":{\"color\":\"#2a3f5f\"},\"marker\":{\"line\":{\"color\":\"#E5ECF6\",\"width\":0.5},\"pattern\":{\"fillmode\":\"overlay\",\"size\":10,\"solidity\":0.2}},\"type\":\"bar\"}],\"barpolar\":[{\"marker\":{\"line\":{\"color\":\"#E5ECF6\",\"width\":0.5},\"pattern\":{\"fillmode\":\"overlay\",\"size\":10,\"solidity\":0.2}},\"type\":\"barpolar\"}],\"carpet\":[{\"aaxis\":{\"endlinecolor\":\"#2a3f5f\",\"gridcolor\":\"white\",\"linecolor\":\"white\",\"minorgridcolor\":\"white\",\"startlinecolor\":\"#2a3f5f\"},\"baxis\":{\"endlinecolor\":\"#2a3f5f\",\"gridcolor\":\"white\",\"linecolor\":\"white\",\"minorgridcolor\":\"white\",\"startlinecolor\":\"#2a3f5f\"},\"type\":\"carpet\"}],\"choropleth\":[{\"colorbar\":{\"outlinewidth\":0,\"ticks\":\"\"},\"type\":\"choropleth\"}],\"contour\":[{\"colorbar\":{\"outlinewidth\":0,\"ticks\":\"\"},\"colorscale\":[[0.0,\"#0d0887\"],[0.1111111111111111,\"#46039f\"],[0.2222222222222222,\"#7201a8\"],[0.3333333333333333,\"#9c179e\"],[0.4444444444444444,\"#bd3786\"],[0.5555555555555556,\"#d8576b\"],[0.6666666666666666,\"#ed7953\"],[0.7777777777777778,\"#fb9f3a\"],[0.8888888888888888,\"#fdca26\"],[1.0,\"#f0f921\"]],\"type\":\"contour\"}],\"contourcarpet\":[{\"colorbar\":{\"outlinewidth\":0,\"ticks\":\"\"},\"type\":\"contourcarpet\"}],\"heatmap\":[{\"colorbar\":{\"outlinewidth\":0,\"ticks\":\"\"},\"colorscale\":[[0.0,\"#0d0887\"],[0.1111111111111111,\"#46039f\"],[0.2222222222222222,\"#7201a8\"],[0.3333333333333333,\"#9c179e\"],[0.4444444444444444,\"#bd3786\"],[0.5555555555555556,\"#d8576b\"],[0.6666666666666666,\"#ed7953\"],[0.7777777777777778,\"#fb9f3a\"],[0.8888888888888888,\"#fdca26\"],[1.0,\"#f0f921\"]],\"type\":\"heatmap\"}],\"heatmapgl\":[{\"colorbar\":{\"outlinewidth\":0,\"ticks\":\"\"},\"colorscale\":[[0.0,\"#0d0887\"],[0.1111111111111111,\"#46039f\"],[0.2222222222222222,\"#7201a8\"],[0.3333333333333333,\"#9c179e\"],[0.4444444444444444,\"#bd3786\"],[0.5555555555555556,\"#d8576b\"],[0.6666666666666666,\"#ed7953\"],[0.7777777777777778,\"#fb9f3a\"],[0.8888888888888888,\"#fdca26\"],[1.0,\"#f0f921\"]],\"type\":\"heatmapgl\"}],\"histogram\":[{\"marker\":{\"pattern\":{\"fillmode\":\"overlay\",\"size\":10,\"solidity\":0.2}},\"type\":\"histogram\"}],\"histogram2d\":[{\"colorbar\":{\"outlinewidth\":0,\"ticks\":\"\"},\"colorscale\":[[0.0,\"#0d0887\"],[0.1111111111111111,\"#46039f\"],[0.2222222222222222,\"#7201a8\"],[0.3333333333333333,\"#9c179e\"],[0.4444444444444444,\"#bd3786\"],[0.5555555555555556,\"#d8576b\"],[0.6666666666666666,\"#ed7953\"],[0.7777777777777778,\"#fb9f3a\"],[0.8888888888888888,\"#fdca26\"],[1.0,\"#f0f921\"]],\"type\":\"histogram2d\"}],\"histogram2dcontour\":[{\"colorbar\":{\"outlinewidth\":0,\"ticks\":\"\"},\"colorscale\":[[0.0,\"#0d0887\"],[0.1111111111111111,\"#46039f\"],[0.2222222222222222,\"#7201a8\"],[0.3333333333333333,\"#9c179e\"],[0.4444444444444444,\"#bd3786\"],[0.5555555555555556,\"#d8576b\"],[0.6666666666666666,\"#ed7953\"],[0.7777777777777778,\"#fb9f3a\"],[0.8888888888888888,\"#fdca26\"],[1.0,\"#f0f921\"]],\"type\":\"histogram2dcontour\"}],\"mesh3d\":[{\"colorbar\":{\"outlinewidth\":0,\"ticks\":\"\"},\"type\":\"mesh3d\"}],\"parcoords\":[{\"line\":{\"colorbar\":{\"outlinewidth\":0,\"ticks\":\"\"}},\"type\":\"parcoords\"}],\"pie\":[{\"automargin\":true,\"type\":\"pie\"}],\"scatter\":[{\"marker\":{\"colorbar\":{\"outlinewidth\":0,\"ticks\":\"\"}},\"type\":\"scatter\"}],\"scatter3d\":[{\"line\":{\"colorbar\":{\"outlinewidth\":0,\"ticks\":\"\"}},\"marker\":{\"colorbar\":{\"outlinewidth\":0,\"ticks\":\"\"}},\"type\":\"scatter3d\"}],\"scattercarpet\":[{\"marker\":{\"colorbar\":{\"outlinewidth\":0,\"ticks\":\"\"}},\"type\":\"scattercarpet\"}],\"scattergeo\":[{\"marker\":{\"colorbar\":{\"outlinewidth\":0,\"ticks\":\"\"}},\"type\":\"scattergeo\"}],\"scattergl\":[{\"marker\":{\"colorbar\":{\"outlinewidth\":0,\"ticks\":\"\"}},\"type\":\"scattergl\"}],\"scattermapbox\":[{\"marker\":{\"colorbar\":{\"outlinewidth\":0,\"ticks\":\"\"}},\"type\":\"scattermapbox\"}],\"scatterpolar\":[{\"marker\":{\"colorbar\":{\"outlinewidth\":0,\"ticks\":\"\"}},\"type\":\"scatterpolar\"}],\"scatterpolargl\":[{\"marker\":{\"colorbar\":{\"outlinewidth\":0,\"ticks\":\"\"}},\"type\":\"scatterpolargl\"}],\"scatterternary\":[{\"marker\":{\"colorbar\":{\"outlinewidth\":0,\"ticks\":\"\"}},\"type\":\"scatterternary\"}],\"surface\":[{\"colorbar\":{\"outlinewidth\":0,\"ticks\":\"\"},\"colorscale\":[[0.0,\"#0d0887\"],[0.1111111111111111,\"#46039f\"],[0.2222222222222222,\"#7201a8\"],[0.3333333333333333,\"#9c179e\"],[0.4444444444444444,\"#bd3786\"],[0.5555555555555556,\"#d8576b\"],[0.6666666666666666,\"#ed7953\"],[0.7777777777777778,\"#fb9f3a\"],[0.8888888888888888,\"#fdca26\"],[1.0,\"#f0f921\"]],\"type\":\"surface\"}],\"table\":[{\"cells\":{\"fill\":{\"color\":\"#EBF0F8\"},\"line\":{\"color\":\"white\"}},\"header\":{\"fill\":{\"color\":\"#C8D4E3\"},\"line\":{\"color\":\"white\"}},\"type\":\"table\"}]},\"layout\":{\"annotationdefaults\":{\"arrowcolor\":\"#2a3f5f\",\"arrowhead\":0,\"arrowwidth\":1},\"autotypenumbers\":\"strict\",\"coloraxis\":{\"colorbar\":{\"outlinewidth\":0,\"ticks\":\"\"}},\"colorscale\":{\"diverging\":[[0,\"#8e0152\"],[0.1,\"#c51b7d\"],[0.2,\"#de77ae\"],[0.3,\"#f1b6da\"],[0.4,\"#fde0ef\"],[0.5,\"#f7f7f7\"],[0.6,\"#e6f5d0\"],[0.7,\"#b8e186\"],[0.8,\"#7fbc41\"],[0.9,\"#4d9221\"],[1,\"#276419\"]],\"sequential\":[[0.0,\"#0d0887\"],[0.1111111111111111,\"#46039f\"],[0.2222222222222222,\"#7201a8\"],[0.3333333333333333,\"#9c179e\"],[0.4444444444444444,\"#bd3786\"],[0.5555555555555556,\"#d8576b\"],[0.6666666666666666,\"#ed7953\"],[0.7777777777777778,\"#fb9f3a\"],[0.8888888888888888,\"#fdca26\"],[1.0,\"#f0f921\"]],\"sequentialminus\":[[0.0,\"#0d0887\"],[0.1111111111111111,\"#46039f\"],[0.2222222222222222,\"#7201a8\"],[0.3333333333333333,\"#9c179e\"],[0.4444444444444444,\"#bd3786\"],[0.5555555555555556,\"#d8576b\"],[0.6666666666666666,\"#ed7953\"],[0.7777777777777778,\"#fb9f3a\"],[0.8888888888888888,\"#fdca26\"],[1.0,\"#f0f921\"]]},\"colorway\":[\"#636efa\",\"#EF553B\",\"#00cc96\",\"#ab63fa\",\"#FFA15A\",\"#19d3f3\",\"#FF6692\",\"#B6E880\",\"#FF97FF\",\"#FECB52\"],\"font\":{\"color\":\"#2a3f5f\"},\"geo\":{\"bgcolor\":\"white\",\"lakecolor\":\"white\",\"landcolor\":\"#E5ECF6\",\"showlakes\":true,\"showland\":true,\"subunitcolor\":\"white\"},\"hoverlabel\":{\"align\":\"left\"},\"hovermode\":\"closest\",\"mapbox\":{\"style\":\"light\"},\"paper_bgcolor\":\"white\",\"plot_bgcolor\":\"#E5ECF6\",\"polar\":{\"angularaxis\":{\"gridcolor\":\"white\",\"linecolor\":\"white\",\"ticks\":\"\"},\"bgcolor\":\"#E5ECF6\",\"radialaxis\":{\"gridcolor\":\"white\",\"linecolor\":\"white\",\"ticks\":\"\"}},\"scene\":{\"xaxis\":{\"backgroundcolor\":\"#E5ECF6\",\"gridcolor\":\"white\",\"gridwidth\":2,\"linecolor\":\"white\",\"showbackground\":true,\"ticks\":\"\",\"zerolinecolor\":\"white\"},\"yaxis\":{\"backgroundcolor\":\"#E5ECF6\",\"gridcolor\":\"white\",\"gridwidth\":2,\"linecolor\":\"white\",\"showbackground\":true,\"ticks\":\"\",\"zerolinecolor\":\"white\"},\"zaxis\":{\"backgroundcolor\":\"#E5ECF6\",\"gridcolor\":\"white\",\"gridwidth\":2,\"linecolor\":\"white\",\"showbackground\":true,\"ticks\":\"\",\"zerolinecolor\":\"white\"}},\"shapedefaults\":{\"line\":{\"color\":\"#2a3f5f\"}},\"ternary\":{\"aaxis\":{\"gridcolor\":\"white\",\"linecolor\":\"white\",\"ticks\":\"\"},\"baxis\":{\"gridcolor\":\"white\",\"linecolor\":\"white\",\"ticks\":\"\"},\"bgcolor\":\"#E5ECF6\",\"caxis\":{\"gridcolor\":\"white\",\"linecolor\":\"white\",\"ticks\":\"\"}},\"title\":{\"x\":0.05},\"xaxis\":{\"automargin\":true,\"gridcolor\":\"white\",\"linecolor\":\"white\",\"ticks\":\"\",\"title\":{\"standoff\":15},\"zerolinecolor\":\"white\",\"zerolinewidth\":2},\"yaxis\":{\"automargin\":true,\"gridcolor\":\"white\",\"linecolor\":\"white\",\"ticks\":\"\",\"title\":{\"standoff\":15},\"zerolinecolor\":\"white\",\"zerolinewidth\":2}}}},                        {\"responsive\": true}                    ).then(function(){\n",
       "                            \n",
       "var gd = document.getElementById('84d0dcaf-c10e-47cc-b6e5-c607f11a57fe');\n",
       "var x = new MutationObserver(function (mutations, observer) {{\n",
       "        var display = window.getComputedStyle(gd).display;\n",
       "        if (!display || display === 'none') {{\n",
       "            console.log([gd, 'removed!']);\n",
       "            Plotly.purge(gd);\n",
       "            observer.disconnect();\n",
       "        }}\n",
       "}});\n",
       "\n",
       "// Listen for the removal of the full notebook cells\n",
       "var notebookContainer = gd.closest('#notebook-container');\n",
       "if (notebookContainer) {{\n",
       "    x.observe(notebookContainer, {childList: true});\n",
       "}}\n",
       "\n",
       "// Listen for the clearing of the current output cell\n",
       "var outputEl = gd.closest('.output');\n",
       "if (outputEl) {{\n",
       "    x.observe(outputEl, {childList: true});\n",
       "}}\n",
       "\n",
       "                        })                };                });            </script>        </div>"
      ]
     },
     "metadata": {},
     "output_type": "display_data"
    }
   ],
   "source": [
    "x1 = np.linspace(0, 3)\n",
    "x2 = (-3 * x1 + 10)/4\n",
    "fig = go.Figure()\n",
    "# fig.add_trace(go.Scatter(x=x1, y=x2, fill='tozeroy', line_color = 'red', mode='lines'))\n",
    "fig.add_trace(go.Scatter(x = [1], y =[1], mode ='markers',\n",
    "                    marker = dict(color ='blue', size = 20), name = '+1 data point'))\n",
    "fig.add_trace(go.Scatter(x=x1, y=x2, fill='tozeroy', line_color = 'red', mode='lines',\n",
    "                             line = dict(width = 5),   name = 'negative data point region'))\n",
    "fig.show()"
   ]
  },
  {
   "cell_type": "code",
   "execution_count": 22,
   "id": "432baa12",
   "metadata": {},
   "outputs": [
    {
     "data": {
      "application/vnd.plotly.v1+json": {
       "config": {
        "plotlyServerURL": "https://plot.ly"
       },
       "data": [
        {
         "line": {
          "color": "red",
          "width": 5
         },
         "mode": "lines",
         "name": "negative data point region",
         "type": "scatter",
         "x": [
          0,
          0.061224489795918366,
          0.12244897959183673,
          0.18367346938775508,
          0.24489795918367346,
          0.30612244897959184,
          0.36734693877551017,
          0.42857142857142855,
          0.4897959183673469,
          0.5510204081632653,
          0.6122448979591837,
          0.673469387755102,
          0.7346938775510203,
          0.7959183673469388,
          0.8571428571428571,
          0.9183673469387755,
          0.9795918367346939,
          1.0408163265306123,
          1.1020408163265305,
          1.163265306122449,
          1.2244897959183674,
          1.2857142857142856,
          1.346938775510204,
          1.4081632653061225,
          1.4693877551020407,
          1.530612244897959,
          1.5918367346938775,
          1.653061224489796,
          1.7142857142857142,
          1.7755102040816326,
          1.836734693877551,
          1.8979591836734693,
          1.9591836734693877,
          2.020408163265306,
          2.0816326530612246,
          2.142857142857143,
          2.204081632653061,
          2.2653061224489797,
          2.326530612244898,
          2.387755102040816,
          2.4489795918367347,
          2.510204081632653,
          2.571428571428571,
          2.63265306122449,
          2.693877551020408,
          2.7551020408163263,
          2.816326530612245,
          2.877551020408163,
          2.9387755102040813,
          3
         ],
         "y": [
          2.5,
          2.454081632653061,
          2.4081632653061225,
          2.362244897959184,
          2.316326530612245,
          2.270408163265306,
          2.2244897959183674,
          2.178571428571429,
          2.13265306122449,
          2.086734693877551,
          2.0408163265306123,
          1.9948979591836735,
          1.9489795918367347,
          1.903061224489796,
          1.8571428571428572,
          1.8112244897959182,
          1.7653061224489797,
          1.7193877551020407,
          1.6734693877551021,
          1.6275510204081634,
          1.5816326530612246,
          1.5357142857142858,
          1.489795918367347,
          1.443877551020408,
          1.3979591836734695,
          1.3520408163265307,
          1.306122448979592,
          1.260204081632653,
          1.2142857142857144,
          1.1683673469387754,
          1.1224489795918366,
          1.076530612244898,
          1.0306122448979593,
          0.9846938775510206,
          0.9387755102040816,
          0.8928571428571428,
          0.8469387755102042,
          0.8010204081632653,
          0.7551020408163267,
          0.7091836734693879,
          0.6632653061224489,
          0.6173469387755102,
          0.5714285714285716,
          0.5255102040816326,
          0.4795918367346941,
          0.4336734693877551,
          0.3877551020408161,
          0.34183673469387754,
          0.295918367346939,
          0.25
         ]
        },
        {
         "line": {
          "color": "gray"
         },
         "mode": "lines",
         "type": "scatter",
         "x": [
          0,
          0.061224489795918366,
          0.12244897959183673,
          0.18367346938775508,
          0.24489795918367346,
          0.30612244897959184,
          0.36734693877551017,
          0.42857142857142855,
          0.4897959183673469,
          0.5510204081632653,
          0.6122448979591837,
          0.673469387755102,
          0.7346938775510203,
          0.7959183673469388,
          0.8571428571428571,
          0.9183673469387755,
          0.9795918367346939,
          1.0408163265306123,
          1.1020408163265305,
          1.163265306122449,
          1.2244897959183674,
          1.2857142857142856,
          1.346938775510204,
          1.4081632653061225,
          1.4693877551020407,
          1.530612244897959,
          1.5918367346938775,
          1.653061224489796,
          1.7142857142857142,
          1.7755102040816326,
          1.836734693877551,
          1.8979591836734693,
          1.9591836734693877,
          2.020408163265306,
          2.0816326530612246,
          2.142857142857143,
          2.204081632653061,
          2.2653061224489797,
          2.326530612244898,
          2.387755102040816,
          2.4489795918367347,
          2.510204081632653,
          2.571428571428571,
          2.63265306122449,
          2.693877551020408,
          2.7551020408163263,
          2.816326530612245,
          2.877551020408163,
          2.9387755102040813,
          3
         ],
         "y": [
          2.414634146341464,
          2.368342458934794,
          2.322050771528124,
          2.2757590841214537,
          2.2294673967147838,
          2.183175709308114,
          2.1368840219014436,
          2.0905923344947737,
          2.0443006470881038,
          1.9980089596814337,
          1.9517172722747638,
          1.9054255848680939,
          1.859133897461424,
          1.8128422100547539,
          1.766550522648084,
          1.7202588352414139,
          1.673967147834744,
          1.6276754604280737,
          1.581383773021404,
          1.5350920856147339,
          1.488800398208064,
          1.4425087108013939,
          1.396217023394724,
          1.349925335988054,
          1.303633648581384,
          1.2573419611747139,
          1.211050273768044,
          1.164758586361374,
          1.118466898954704,
          1.0721752115480339,
          1.025883524141364,
          0.979591836734694,
          0.9333001493280241,
          0.8870084619213541,
          0.840716774514684,
          0.794425087108014,
          0.7481333997013443,
          0.7018417122946741,
          0.6555500248880042,
          0.6092583374813342,
          0.5629666500746641,
          0.5166749626679941,
          0.47038327526132434,
          0.4240915878546542,
          0.3777999004479842,
          0.3315082130413143,
          0.28521652563464434,
          0.2389248382279744,
          0.19263315082130444,
          0.14634146341463408
         ]
        },
        {
         "line": {
          "color": "gray"
         },
         "mode": "lines",
         "type": "scatter",
         "x": [
          0,
          0.061224489795918366,
          0.12244897959183673,
          0.18367346938775508,
          0.24489795918367346,
          0.30612244897959184,
          0.36734693877551017,
          0.42857142857142855,
          0.4897959183673469,
          0.5510204081632653,
          0.6122448979591837,
          0.673469387755102,
          0.7346938775510203,
          0.7959183673469388,
          0.8571428571428571,
          0.9183673469387755,
          0.9795918367346939,
          1.0408163265306123,
          1.1020408163265305,
          1.163265306122449,
          1.2244897959183674,
          1.2857142857142856,
          1.346938775510204,
          1.4081632653061225,
          1.4693877551020407,
          1.530612244897959,
          1.5918367346938775,
          1.653061224489796,
          1.7142857142857142,
          1.7755102040816326,
          1.836734693877551,
          1.8979591836734693,
          1.9591836734693877,
          2.020408163265306,
          2.0816326530612246,
          2.142857142857143,
          2.204081632653061,
          2.2653061224489797,
          2.326530612244898,
          2.387755102040816,
          2.4489795918367347,
          2.510204081632653,
          2.571428571428571,
          2.63265306122449,
          2.693877551020408,
          2.7551020408163263,
          2.816326530612245,
          2.877551020408163,
          2.9387755102040813,
          3
         ],
         "y": [
          2.333333333333334,
          2.286686103012634,
          2.2400388726919345,
          2.193391642371235,
          2.146744412050535,
          2.1000971817298355,
          2.0534499514091356,
          2.0068027210884356,
          1.9601554907677359,
          1.9135082604470366,
          1.8668610301263366,
          1.820213799805637,
          1.7735665694849374,
          1.7269193391642375,
          1.680272108843538,
          1.6336248785228382,
          1.5869776482021383,
          1.5403304178814385,
          1.493683187560739,
          1.4470359572400393,
          1.4003887269193394,
          1.3537414965986398,
          1.3070942662779401,
          1.2604470359572404,
          1.2137998056365409,
          1.167152575315841,
          1.1205053449951412,
          1.0738581146744415,
          1.0272108843537417,
          0.980563654033042,
          0.9339164237123423,
          0.8872691933916427,
          0.8406219630709428,
          0.7939747327502434,
          0.7473275024295434,
          0.7006802721088436,
          0.6540330417881443,
          0.6073858114674442,
          0.5607385811467446,
          0.5140913508260452,
          0.46744412050534506,
          0.42079689018464544,
          0.374149659863946,
          0.32750242954324615,
          0.2808551992225463,
          0.23420796890184686,
          0.18756073858114702,
          0.14091350826044716,
          0.09426627793974773,
          0.04761904761904746
         ]
        },
        {
         "line": {
          "color": "gray"
         },
         "mode": "lines",
         "type": "scatter",
         "x": [
          0,
          0.061224489795918366,
          0.12244897959183673,
          0.18367346938775508,
          0.24489795918367346,
          0.30612244897959184,
          0.36734693877551017,
          0.42857142857142855,
          0.4897959183673469,
          0.5510204081632653,
          0.6122448979591837,
          0.673469387755102,
          0.7346938775510203,
          0.7959183673469388,
          0.8571428571428571,
          0.9183673469387755,
          0.9795918367346939,
          1.0408163265306123,
          1.1020408163265305,
          1.163265306122449,
          1.2244897959183674,
          1.2857142857142856,
          1.346938775510204,
          1.4081632653061225,
          1.4693877551020407,
          1.530612244897959,
          1.5918367346938775,
          1.653061224489796,
          1.7142857142857142,
          1.7755102040816326,
          1.836734693877551,
          1.8979591836734693,
          1.9591836734693877,
          2.020408163265306,
          2.0816326530612246,
          2.142857142857143,
          2.204081632653061,
          2.2653061224489797,
          2.326530612244898,
          2.387755102040816,
          2.4489795918367347,
          2.510204081632653,
          2.571428571428571,
          2.63265306122449,
          2.693877551020408,
          2.7551020408163263,
          2.816326530612245,
          2.877551020408163,
          2.9387755102040813,
          3
         ],
         "y": [
          2.255813953488373,
          2.208827717133366,
          2.1618414807783584,
          2.1148552444233513,
          2.0678690080683446,
          2.0208827717133375,
          1.9738965353583304,
          1.926910299003323,
          1.8799240626483158,
          1.8329378262933087,
          1.7859515899383014,
          1.7389653535832945,
          1.6919791172282874,
          1.64499288087328,
          1.598006644518273,
          1.551020408163266,
          1.5040341718082588,
          1.4570479354532515,
          1.4100616990982444,
          1.3630754627432373,
          1.3160892263882302,
          1.2691029900332231,
          1.2221167536782158,
          1.175130517323209,
          1.1281442809682019,
          1.0811580446131945,
          1.0341718082581874,
          0.9871855719031802,
          0.9401993355481731,
          0.8932130991931659,
          0.846226862838159,
          0.7992406264831519,
          0.7522543901281447,
          0.7052681537731377,
          0.6582819174181302,
          0.6112956810631232,
          0.5643094447081162,
          0.517323208353109,
          0.4703369719981019,
          0.4233507356430949,
          0.37636449928808746,
          0.3293782629330804,
          0.2823920265780734,
          0.23540579022306596,
          0.18841955386805895,
          0.1414333175130519,
          0.09444708115804488,
          0.04746084480303787,
          0.0004746084480308455,
          -0.04651162790697659
         ]
        },
        {
         "line": {
          "color": "gray"
         },
         "mode": "lines",
         "type": "scatter",
         "x": [
          0,
          0.061224489795918366,
          0.12244897959183673,
          0.18367346938775508,
          0.24489795918367346,
          0.30612244897959184,
          0.36734693877551017,
          0.42857142857142855,
          0.4897959183673469,
          0.5510204081632653,
          0.6122448979591837,
          0.673469387755102,
          0.7346938775510203,
          0.7959183673469388,
          0.8571428571428571,
          0.9183673469387755,
          0.9795918367346939,
          1.0408163265306123,
          1.1020408163265305,
          1.163265306122449,
          1.2244897959183674,
          1.2857142857142856,
          1.346938775510204,
          1.4081632653061225,
          1.4693877551020407,
          1.530612244897959,
          1.5918367346938775,
          1.653061224489796,
          1.7142857142857142,
          1.7755102040816326,
          1.836734693877551,
          1.8979591836734693,
          1.9591836734693877,
          2.020408163265306,
          2.0816326530612246,
          2.142857142857143,
          2.204081632653061,
          2.2653061224489797,
          2.326530612244898,
          2.387755102040816,
          2.4489795918367347,
          2.510204081632653,
          2.571428571428571,
          2.63265306122449,
          2.693877551020408,
          2.7551020408163263,
          2.816326530612245,
          2.877551020408163,
          2.9387755102040813,
          3
         ],
         "y": [
          2.181818181818183,
          2.134508348794064,
          2.0871985157699453,
          2.0398886827458265,
          1.992578849721708,
          1.9452690166975892,
          1.8979591836734704,
          1.8506493506493515,
          1.8033395176252327,
          1.756029684601114,
          1.7087198515769952,
          1.6614100185528766,
          1.6141001855287578,
          1.566790352504639,
          1.5194805194805203,
          1.4721706864564015,
          1.4248608534322826,
          1.3775510204081638,
          1.3302411873840454,
          1.2829313543599266,
          1.2356215213358077,
          1.1883116883116889,
          1.1410018552875703,
          1.0936920222634514,
          1.0463821892393326,
          0.9990723562152138,
          0.951762523191095,
          0.9044526901669763,
          0.8571428571428577,
          0.8098330241187388,
          0.76252319109462,
          0.7152133580705013,
          0.6679035250463825,
          0.6205936920222639,
          0.5732838589981449,
          0.5259740259740263,
          0.4786641929499077,
          0.4313543599257887,
          0.38404452690167007,
          0.33673469387755145,
          0.2894248608534326,
          0.2421150278293138,
          0.19480519480519498,
          0.14749536178107617,
          0.10018552875695776,
          0.052875695732838936,
          0.005565862708720122,
          -0.04174397031539869,
          -0.08905380333951751,
          -0.13636363636363633
         ]
        },
        {
         "line": {
          "color": "gray"
         },
         "mode": "lines",
         "type": "scatter",
         "x": [
          0,
          0.061224489795918366,
          0.12244897959183673,
          0.18367346938775508,
          0.24489795918367346,
          0.30612244897959184,
          0.36734693877551017,
          0.42857142857142855,
          0.4897959183673469,
          0.5510204081632653,
          0.6122448979591837,
          0.673469387755102,
          0.7346938775510203,
          0.7959183673469388,
          0.8571428571428571,
          0.9183673469387755,
          0.9795918367346939,
          1.0408163265306123,
          1.1020408163265305,
          1.163265306122449,
          1.2244897959183674,
          1.2857142857142856,
          1.346938775510204,
          1.4081632653061225,
          1.4693877551020407,
          1.530612244897959,
          1.5918367346938775,
          1.653061224489796,
          1.7142857142857142,
          1.7755102040816326,
          1.836734693877551,
          1.8979591836734693,
          1.9591836734693877,
          2.020408163265306,
          2.0816326530612246,
          2.142857142857143,
          2.204081632653061,
          2.2653061224489797,
          2.326530612244898,
          2.387755102040816,
          2.4489795918367347,
          2.510204081632653,
          2.571428571428571,
          2.63265306122449,
          2.693877551020408,
          2.7551020408163263,
          2.816326530612245,
          2.877551020408163,
          2.9387755102040813,
          3
         ],
         "y": [
          2.1111111111111125,
          2.063492063492065,
          2.015873015873017,
          1.9682539682539695,
          1.9206349206349216,
          1.8730158730158741,
          1.8253968253968262,
          1.7777777777777788,
          1.7301587301587311,
          1.6825396825396834,
          1.6349206349206358,
          1.587301587301588,
          1.5396825396825407,
          1.492063492063493,
          1.4444444444444453,
          1.3968253968253976,
          1.3492063492063502,
          1.3015873015873023,
          1.2539682539682548,
          1.2063492063492072,
          1.1587301587301595,
          1.111111111111112,
          1.0634920634920644,
          1.0158730158730167,
          0.9682539682539689,
          0.9206349206349212,
          0.8730158730158736,
          0.8253968253968259,
          0.7777777777777785,
          0.7301587301587306,
          0.682539682539683,
          0.6349206349206354,
          0.5873015873015878,
          0.5396825396825401,
          0.49206349206349226,
          0.4444444444444448,
          0.39682539682539736,
          0.34920634920634946,
          0.3015873015873018,
          0.25396825396825434,
          0.20634920634920648,
          0.15873015873015903,
          0.11111111111111155,
          0.06349206349206368,
          0.01587301587301622,
          -0.03174603174603125,
          -0.07936507936507911,
          -0.12698412698412698,
          -0.17460317460317445,
          -0.22222222222222232
         ]
        },
        {
         "line": {
          "color": "gray"
         },
         "mode": "lines",
         "type": "scatter",
         "x": [
          0,
          0.061224489795918366,
          0.12244897959183673,
          0.18367346938775508,
          0.24489795918367346,
          0.30612244897959184,
          0.36734693877551017,
          0.42857142857142855,
          0.4897959183673469,
          0.5510204081632653,
          0.6122448979591837,
          0.673469387755102,
          0.7346938775510203,
          0.7959183673469388,
          0.8571428571428571,
          0.9183673469387755,
          0.9795918367346939,
          1.0408163265306123,
          1.1020408163265305,
          1.163265306122449,
          1.2244897959183674,
          1.2857142857142856,
          1.346938775510204,
          1.4081632653061225,
          1.4693877551020407,
          1.530612244897959,
          1.5918367346938775,
          1.653061224489796,
          1.7142857142857142,
          1.7755102040816326,
          1.836734693877551,
          1.8979591836734693,
          1.9591836734693877,
          2.020408163265306,
          2.0816326530612246,
          2.142857142857143,
          2.204081632653061,
          2.2653061224489797,
          2.326530612244898,
          2.387755102040816,
          2.4489795918367347,
          2.510204081632653,
          2.571428571428571,
          2.63265306122449,
          2.693877551020408,
          2.7551020408163263,
          2.816326530612245,
          2.877551020408163,
          2.9387755102040813,
          3
         ],
         "y": [
          2.0434782608695667,
          1.995563442768413,
          1.9476486246672595,
          1.899733806566106,
          1.8518189884649525,
          1.803904170363799,
          1.7559893522626455,
          1.708074534161492,
          1.6601597160603385,
          1.612244897959185,
          1.5643300798580313,
          1.5164152617568778,
          1.4685004436557243,
          1.4205856255545706,
          1.3726708074534173,
          1.3247559893522636,
          1.27684117125111,
          1.2289263531499566,
          1.1810115350488033,
          1.1330967169476496,
          1.085181898846496,
          1.0372670807453426,
          0.989352262644189,
          0.9414374445430355,
          0.8935226264418819,
          0.8456078083407284,
          0.7976929902395746,
          0.7497781721384211,
          0.7018633540372679,
          0.6539485359361141,
          0.6060337178349605,
          0.5581188997338072,
          0.5102040816326535,
          0.4622892635315002,
          0.41437444543034646,
          0.36645962732919296,
          0.3185448092280396,
          0.2706299911268859,
          0.2227151730257324,
          0.17480035492457888,
          0.12688553682342535,
          0.07897071872227182,
          0.031055900621118303,
          -0.01685891748003522,
          -0.06477373558118875,
          -0.11268855368234226,
          -0.1606033717834958,
          -0.20851818988464932,
          -0.2564330079858028,
          -0.3043478260869564
         ]
        },
        {
         "line": {
          "color": "gray"
         },
         "mode": "lines",
         "type": "scatter",
         "x": [
          0,
          0.061224489795918366,
          0.12244897959183673,
          0.18367346938775508,
          0.24489795918367346,
          0.30612244897959184,
          0.36734693877551017,
          0.42857142857142855,
          0.4897959183673469,
          0.5510204081632653,
          0.6122448979591837,
          0.673469387755102,
          0.7346938775510203,
          0.7959183673469388,
          0.8571428571428571,
          0.9183673469387755,
          0.9795918367346939,
          1.0408163265306123,
          1.1020408163265305,
          1.163265306122449,
          1.2244897959183674,
          1.2857142857142856,
          1.346938775510204,
          1.4081632653061225,
          1.4693877551020407,
          1.530612244897959,
          1.5918367346938775,
          1.653061224489796,
          1.7142857142857142,
          1.7755102040816326,
          1.836734693877551,
          1.8979591836734693,
          1.9591836734693877,
          2.020408163265306,
          2.0816326530612246,
          2.142857142857143,
          2.204081632653061,
          2.2653061224489797,
          2.326530612244898,
          2.387755102040816,
          2.4489795918367347,
          2.510204081632653,
          2.571428571428571,
          2.63265306122449,
          2.693877551020408,
          2.7551020408163263,
          2.816326530612245,
          2.877551020408163,
          2.9387755102040813,
          3
         ],
         "y": [
          1.9787234042553208,
          1.930525401650023,
          1.8823273990447258,
          1.8341293964394283,
          1.785931393834131,
          1.7377333912288333,
          1.689535388623536,
          1.6413373860182385,
          1.593139383412941,
          1.5449413808076435,
          1.496743378202346,
          1.4485453755970485,
          1.4003473729917513,
          1.3521493703864536,
          1.3039513677811563,
          1.2557533651758588,
          1.207555362570561,
          1.1593573599652638,
          1.1111593573599663,
          1.0629613547546688,
          1.0147633521493713,
          0.966565349544074,
          0.9183673469387764,
          0.8701693443334789,
          0.8219713417281815,
          0.7737733391228839,
          0.7255753365175864,
          0.6773773339122888,
          0.6291793313069917,
          0.580981328701694,
          0.5327833260963966,
          0.4845853234910992,
          0.43638732088580173,
          0.3881893182805043,
          0.3399913156752067,
          0.29179331306990924,
          0.24359531046461183,
          0.19539730785931422,
          0.14719930525401698,
          0.09900130264871936,
          0.05080330004342174,
          0.002605297438124502,
          -0.04559270516717274,
          -0.09379070777247073,
          -0.14198871037776797,
          -0.19018671298306522,
          -0.23838471558836283,
          -0.28658271819366044,
          -0.33478072079895765,
          -0.3829787234042553
         ]
        },
        {
         "line": {
          "color": "gray"
         },
         "mode": "lines",
         "type": "scatter",
         "x": [
          0,
          0.061224489795918366,
          0.12244897959183673,
          0.18367346938775508,
          0.24489795918367346,
          0.30612244897959184,
          0.36734693877551017,
          0.42857142857142855,
          0.4897959183673469,
          0.5510204081632653,
          0.6122448979591837,
          0.673469387755102,
          0.7346938775510203,
          0.7959183673469388,
          0.8571428571428571,
          0.9183673469387755,
          0.9795918367346939,
          1.0408163265306123,
          1.1020408163265305,
          1.163265306122449,
          1.2244897959183674,
          1.2857142857142856,
          1.346938775510204,
          1.4081632653061225,
          1.4693877551020407,
          1.530612244897959,
          1.5918367346938775,
          1.653061224489796,
          1.7142857142857142,
          1.7755102040816326,
          1.836734693877551,
          1.8979591836734693,
          1.9591836734693877,
          2.020408163265306,
          2.0816326530612246,
          2.142857142857143,
          2.204081632653061,
          2.2653061224489797,
          2.326530612244898,
          2.387755102040816,
          2.4489795918367347,
          2.510204081632653,
          2.571428571428571,
          2.63265306122449,
          2.693877551020408,
          2.7551020408163263,
          2.816326530612245,
          2.877551020408163,
          2.9387755102040813,
          3
         ],
         "y": [
          1.9166666666666683,
          1.8681972789115664,
          1.8197278911564645,
          1.771258503401362,
          1.72278911564626,
          1.674319727891158,
          1.625850340136056,
          1.5773809523809539,
          1.5289115646258518,
          1.4804421768707496,
          1.4319727891156475,
          1.3835034013605456,
          1.3350340136054437,
          1.2865646258503411,
          1.2380952380952392,
          1.1896258503401373,
          1.1411564625850352,
          1.092687074829933,
          1.044217687074831,
          0.9957482993197289,
          0.9472789115646268,
          0.8988095238095248,
          0.8503401360544227,
          0.8018707482993207,
          0.7534013605442187,
          0.7049319727891165,
          0.6564625850340143,
          0.6079931972789123,
          0.5595238095238103,
          0.5110544217687081,
          0.46258503401360607,
          0.41411564625850406,
          0.3656462585034019,
          0.31717687074829987,
          0.2687074829931977,
          0.2202380952380957,
          0.1717687074829937,
          0.12329931972789132,
          0.07482993197278932,
          0.026360544217687683,
          -0.02210884353741469,
          -0.0705782312925167,
          -0.1190476190476187,
          -0.16751700680272108,
          -0.21598639455782306,
          -0.26445578231292505,
          -0.31292517006802706,
          -0.36139455782312907,
          -0.4098639455782311,
          -0.4583333333333335
         ]
        },
        {
         "line": {
          "color": "gray"
         },
         "mode": "lines",
         "type": "scatter",
         "x": [
          0,
          0.061224489795918366,
          0.12244897959183673,
          0.18367346938775508,
          0.24489795918367346,
          0.30612244897959184,
          0.36734693877551017,
          0.42857142857142855,
          0.4897959183673469,
          0.5510204081632653,
          0.6122448979591837,
          0.673469387755102,
          0.7346938775510203,
          0.7959183673469388,
          0.8571428571428571,
          0.9183673469387755,
          0.9795918367346939,
          1.0408163265306123,
          1.1020408163265305,
          1.163265306122449,
          1.2244897959183674,
          1.2857142857142856,
          1.346938775510204,
          1.4081632653061225,
          1.4693877551020407,
          1.530612244897959,
          1.5918367346938775,
          1.653061224489796,
          1.7142857142857142,
          1.7755102040816326,
          1.836734693877551,
          1.8979591836734693,
          1.9591836734693877,
          2.020408163265306,
          2.0816326530612246,
          2.142857142857143,
          2.204081632653061,
          2.2653061224489797,
          2.326530612244898,
          2.387755102040816,
          2.4489795918367347,
          2.510204081632653,
          2.571428571428571,
          2.63265306122449,
          2.693877551020408,
          2.7551020408163263,
          2.816326530612245,
          2.877551020408163,
          2.9387755102040813,
          3
         ],
         "y": [
          1.857142857142859,
          1.8084131611828422,
          1.7596834652228255,
          1.710953769262809,
          1.6622240733027922,
          1.6134943773427755,
          1.564764681382759,
          1.5160349854227422,
          1.4673052894627254,
          1.4185755935027087,
          1.369845897542692,
          1.3211162015826752,
          1.2723865056226589,
          1.223656809662642,
          1.1749271137026251,
          1.1261974177426084,
          1.0774677217825919,
          1.0287380258225751,
          0.9800083298625585,
          0.9312786339025417,
          0.8825489379425249,
          0.8338192419825083,
          0.7850895460224916,
          0.736359850062475,
          0.6876301541024583,
          0.6389004581424416,
          0.5901707621824248,
          0.5414410662224081,
          0.4927113702623914,
          0.4439816743023746,
          0.39525197834235787,
          0.3465222823823413,
          0.29779258642232465,
          0.24906289046230806,
          0.20033319450229112,
          0.15160349854227434,
          0.10287380258225792,
          0.054144106622241145,
          0.005414410662224368,
          -0.04331528529779205,
          -0.09204498125780919,
          -0.1407746772178256,
          -0.18950437317784238,
          -0.23823406913785916,
          -0.2869637650978759,
          -0.33569346105789233,
          -0.38442315701790913,
          -0.4331528529779259,
          -0.4818825489379423,
          -0.5306122448979594
         ]
        },
        {
         "line": {
          "color": "gray"
         },
         "mode": "lines",
         "type": "scatter",
         "x": [
          0,
          0.061224489795918366,
          0.12244897959183673,
          0.18367346938775508,
          0.24489795918367346,
          0.30612244897959184,
          0.36734693877551017,
          0.42857142857142855,
          0.4897959183673469,
          0.5510204081632653,
          0.6122448979591837,
          0.673469387755102,
          0.7346938775510203,
          0.7959183673469388,
          0.8571428571428571,
          0.9183673469387755,
          0.9795918367346939,
          1.0408163265306123,
          1.1020408163265305,
          1.163265306122449,
          1.2244897959183674,
          1.2857142857142856,
          1.346938775510204,
          1.4081632653061225,
          1.4693877551020407,
          1.530612244897959,
          1.5918367346938775,
          1.653061224489796,
          1.7142857142857142,
          1.7755102040816326,
          1.836734693877551,
          1.8979591836734693,
          1.9591836734693877,
          2.020408163265306,
          2.0816326530612246,
          2.142857142857143,
          2.204081632653061,
          2.2653061224489797,
          2.326530612244898,
          2.387755102040816,
          2.4489795918367347,
          2.510204081632653,
          2.571428571428571,
          2.63265306122449,
          2.693877551020408,
          2.7551020408163263,
          2.816326530612245,
          2.877551020408163,
          2.9387755102040813,
          3
         ],
         "y": [
          1.800000000000002,
          1.7510204081632674,
          1.7020408163265324,
          1.6530612244897978,
          1.604081632653063,
          1.5551020408163283,
          1.5061224489795937,
          1.4571428571428588,
          1.408163265306124,
          1.3591836734693894,
          1.3102040816326546,
          1.26122448979592,
          1.2122448979591853,
          1.1632653061224503,
          1.1142857142857157,
          1.0653061224489808,
          1.0163265306122462,
          0.9673469387755114,
          0.9183673469387768,
          0.869387755102042,
          0.8204081632653072,
          0.7714285714285726,
          0.7224489795918378,
          0.673469387755103,
          0.6244897959183684,
          0.5755102040816334,
          0.5265306122448987,
          0.47755102040816394,
          0.4285714285714293,
          0.37959183673469454,
          0.33061224489795976,
          0.28163265306122515,
          0.23265306122449037,
          0.18367346938775575,
          0.13469387755102077,
          0.08571428571428619,
          0.03673469387755158,
          -0.012244897959183385,
          -0.06122448979591799,
          -0.11020408163265259,
          -0.15918367346938755,
          -0.20816326530612217,
          -0.2571428571428568,
          -0.30612244897959173,
          -0.35510204081632635,
          -0.40408163265306096,
          -0.4530612244897959,
          -0.5020408163265305,
          -0.5510204081632651,
          -0.6000000000000004
         ]
        },
        {
         "line": {
          "color": "gray"
         },
         "mode": "lines",
         "type": "scatter",
         "x": [
          0,
          0.061224489795918366,
          0.12244897959183673,
          0.18367346938775508,
          0.24489795918367346,
          0.30612244897959184,
          0.36734693877551017,
          0.42857142857142855,
          0.4897959183673469,
          0.5510204081632653,
          0.6122448979591837,
          0.673469387755102,
          0.7346938775510203,
          0.7959183673469388,
          0.8571428571428571,
          0.9183673469387755,
          0.9795918367346939,
          1.0408163265306123,
          1.1020408163265305,
          1.163265306122449,
          1.2244897959183674,
          1.2857142857142856,
          1.346938775510204,
          1.4081632653061225,
          1.4693877551020407,
          1.530612244897959,
          1.5918367346938775,
          1.653061224489796,
          1.7142857142857142,
          1.7755102040816326,
          1.836734693877551,
          1.8979591836734693,
          1.9591836734693877,
          2.020408163265306,
          2.0816326530612246,
          2.142857142857143,
          2.204081632653061,
          2.2653061224489797,
          2.326530612244898,
          2.387755102040816,
          2.4489795918367347,
          2.510204081632653,
          2.571428571428571,
          2.63265306122449,
          2.693877551020408,
          2.7551020408163263,
          2.816326530612245,
          2.877551020408163,
          2.9387755102040813,
          3
         ],
         "y": [
          1.7450980392156883,
          1.6958783513405382,
          1.6466586634653881,
          1.597438975590238,
          1.548219287715088,
          1.4989995998399377,
          1.4497799119647878,
          1.4005602240896378,
          1.3513405362144877,
          1.3021208483393374,
          1.2529011604641873,
          1.2036814725890375,
          1.1544617847138872,
          1.105242096838737,
          1.056022408963587,
          1.006802721088437,
          0.9575830332132867,
          0.9083633453381367,
          0.8591436574629865,
          0.8099239695878364,
          0.7607042817126863,
          0.7114845938375364,
          0.6622649059623862,
          0.6130452180872359,
          0.5638255302120859,
          0.5146058423369358,
          0.4653861544617857,
          0.4161664665866354,
          0.3669467787114855,
          0.3177270908363354,
          0.26850740296118525,
          0.21928771508603528,
          0.17006802721088518,
          0.12084833933573505,
          0.07162865146058493,
          0.02240896358543481,
          -0.026810724289715315,
          -0.07603041216486543,
          -0.12525010004001555,
          -0.17446978791516532,
          -0.2236894757903158,
          -0.2729091636654659,
          -0.3221288515406157,
          -0.3713485394157662,
          -0.4205682272909159,
          -0.46978791516606605,
          -0.5190076030412165,
          -0.5682272909163663,
          -0.6174469787915164,
          -0.6666666666666665
         ]
        },
        {
         "line": {
          "color": "gray"
         },
         "mode": "lines",
         "type": "scatter",
         "x": [
          0,
          0.061224489795918366,
          0.12244897959183673,
          0.18367346938775508,
          0.24489795918367346,
          0.30612244897959184,
          0.36734693877551017,
          0.42857142857142855,
          0.4897959183673469,
          0.5510204081632653,
          0.6122448979591837,
          0.673469387755102,
          0.7346938775510203,
          0.7959183673469388,
          0.8571428571428571,
          0.9183673469387755,
          0.9795918367346939,
          1.0408163265306123,
          1.1020408163265305,
          1.163265306122449,
          1.2244897959183674,
          1.2857142857142856,
          1.346938775510204,
          1.4081632653061225,
          1.4693877551020407,
          1.530612244897959,
          1.5918367346938775,
          1.653061224489796,
          1.7142857142857142,
          1.7755102040816326,
          1.836734693877551,
          1.8979591836734693,
          1.9591836734693877,
          2.020408163265306,
          2.0816326530612246,
          2.142857142857143,
          2.204081632653061,
          2.2653061224489797,
          2.326530612244898,
          2.387755102040816,
          2.4489795918367347,
          2.510204081632653,
          2.571428571428571,
          2.63265306122449,
          2.693877551020408,
          2.7551020408163263,
          2.816326530612245,
          2.877551020408163,
          2.9387755102040813,
          3
         ],
         "y": [
          1.6923076923076945,
          1.6428571428571448,
          1.5934065934065955,
          1.5439560439560458,
          1.4945054945054965,
          1.445054945054947,
          1.3956043956043975,
          1.346153846153848,
          1.2967032967032985,
          1.247252747252749,
          1.1978021978021995,
          1.14835164835165,
          1.0989010989011008,
          1.049450549450551,
          1.0000000000000018,
          0.9505494505494521,
          0.9010989010989026,
          0.8516483516483531,
          0.8021978021978038,
          0.7527472527472541,
          0.7032967032967046,
          0.6538461538461553,
          0.6043956043956057,
          0.5549450549450562,
          0.5054945054945068,
          0.4560439560439572,
          0.4065934065934077,
          0.3571428571428582,
          0.3076923076923087,
          0.25824175824175927,
          0.20879120879120977,
          0.15934065934066027,
          0.10989010989011061,
          0.0604395604395613,
          0.010989010989011642,
          -0.03846153846153767,
          -0.08791208791208699,
          -0.13736263736263665,
          -0.18681318681318632,
          -0.23626373626373562,
          -0.28571428571428525,
          -0.3351648351648346,
          -0.3846153846153839,
          -0.4340659340659336,
          -0.48351648351648324,
          -0.5329670329670325,
          -0.5824175824175822,
          -0.6318681318681315,
          -0.6813186813186808,
          -0.7307692307692308
         ]
        },
        {
         "line": {
          "color": "black",
          "width": 5
         },
         "mode": "lines",
         "type": "scatter",
         "x": [
          0,
          0.061224489795918366,
          0.12244897959183673,
          0.18367346938775508,
          0.24489795918367346,
          0.30612244897959184,
          0.36734693877551017,
          0.42857142857142855,
          0.4897959183673469,
          0.5510204081632653,
          0.6122448979591837,
          0.673469387755102,
          0.7346938775510203,
          0.7959183673469388,
          0.8571428571428571,
          0.9183673469387755,
          0.9795918367346939,
          1.0408163265306123,
          1.1020408163265305,
          1.163265306122449,
          1.2244897959183674,
          1.2857142857142856,
          1.346938775510204,
          1.4081632653061225,
          1.4693877551020407,
          1.530612244897959,
          1.5918367346938775,
          1.653061224489796,
          1.7142857142857142,
          1.7755102040816326,
          1.836734693877551,
          1.8979591836734693,
          1.9591836734693877,
          2.020408163265306,
          2.0816326530612246,
          2.142857142857143,
          2.204081632653061,
          2.2653061224489797,
          2.326530612244898,
          2.387755102040816,
          2.4489795918367347,
          2.510204081632653,
          2.571428571428571,
          2.63265306122449,
          2.693877551020408,
          2.7551020408163263,
          2.816326530612245,
          2.877551020408163,
          2.9387755102040813,
          3
         ],
         "y": [
          1.6415094339622665,
          1.5918367346938798,
          1.5421640354254933,
          1.4924913361571066,
          1.44281863688872,
          1.3931459376203332,
          1.3434732383519465,
          1.29380053908356,
          1.2441278398151732,
          1.1944551405467867,
          1.1447824412784,
          1.0951097420100133,
          1.0454370427416269,
          0.9957643434732402,
          0.9460916442048536,
          0.8964189449364668,
          0.8467462456680802,
          0.7970735463996935,
          0.747400847131307,
          0.6977281478629204,
          0.6480554485945336,
          0.5983827493261471,
          0.5487100500577603,
          0.4990373507893737,
          0.44936465152098715,
          0.3996919522526005,
          0.35001925298421377,
          0.30034655371582714,
          0.2506738544474405,
          0.20100115517905393,
          0.15132845591066713,
          0.10165575664228052,
          0.051983057373893915,
          0.002310358105507305,
          -0.0473623411628793,
          -0.09703504043126591,
          -0.14670773969965253,
          -0.19638043896803947,
          -0.24605313823642574,
          -0.29572583750481235,
          -0.3453985367731993,
          -0.3950712360415859,
          -0.4447439353099722,
          -0.49441663457835916,
          -0.5440893338467457,
          -0.593762033115132,
          -0.643434732383519,
          -0.6931074316519056,
          -0.7427801309202922,
          -0.7924528301886788
         ]
        },
        {
         "marker": {
          "color": "blue",
          "size": 20
         },
         "mode": "markers",
         "name": "+1 data point",
         "type": "scatter",
         "x": [
          1
         ],
         "y": [
          1
         ]
        }
       ],
       "layout": {
        "template": {
         "data": {
          "bar": [
           {
            "error_x": {
             "color": "#2a3f5f"
            },
            "error_y": {
             "color": "#2a3f5f"
            },
            "marker": {
             "line": {
              "color": "#E5ECF6",
              "width": 0.5
             },
             "pattern": {
              "fillmode": "overlay",
              "size": 10,
              "solidity": 0.2
             }
            },
            "type": "bar"
           }
          ],
          "barpolar": [
           {
            "marker": {
             "line": {
              "color": "#E5ECF6",
              "width": 0.5
             },
             "pattern": {
              "fillmode": "overlay",
              "size": 10,
              "solidity": 0.2
             }
            },
            "type": "barpolar"
           }
          ],
          "carpet": [
           {
            "aaxis": {
             "endlinecolor": "#2a3f5f",
             "gridcolor": "white",
             "linecolor": "white",
             "minorgridcolor": "white",
             "startlinecolor": "#2a3f5f"
            },
            "baxis": {
             "endlinecolor": "#2a3f5f",
             "gridcolor": "white",
             "linecolor": "white",
             "minorgridcolor": "white",
             "startlinecolor": "#2a3f5f"
            },
            "type": "carpet"
           }
          ],
          "choropleth": [
           {
            "colorbar": {
             "outlinewidth": 0,
             "ticks": ""
            },
            "type": "choropleth"
           }
          ],
          "contour": [
           {
            "colorbar": {
             "outlinewidth": 0,
             "ticks": ""
            },
            "colorscale": [
             [
              0,
              "#0d0887"
             ],
             [
              0.1111111111111111,
              "#46039f"
             ],
             [
              0.2222222222222222,
              "#7201a8"
             ],
             [
              0.3333333333333333,
              "#9c179e"
             ],
             [
              0.4444444444444444,
              "#bd3786"
             ],
             [
              0.5555555555555556,
              "#d8576b"
             ],
             [
              0.6666666666666666,
              "#ed7953"
             ],
             [
              0.7777777777777778,
              "#fb9f3a"
             ],
             [
              0.8888888888888888,
              "#fdca26"
             ],
             [
              1,
              "#f0f921"
             ]
            ],
            "type": "contour"
           }
          ],
          "contourcarpet": [
           {
            "colorbar": {
             "outlinewidth": 0,
             "ticks": ""
            },
            "type": "contourcarpet"
           }
          ],
          "heatmap": [
           {
            "colorbar": {
             "outlinewidth": 0,
             "ticks": ""
            },
            "colorscale": [
             [
              0,
              "#0d0887"
             ],
             [
              0.1111111111111111,
              "#46039f"
             ],
             [
              0.2222222222222222,
              "#7201a8"
             ],
             [
              0.3333333333333333,
              "#9c179e"
             ],
             [
              0.4444444444444444,
              "#bd3786"
             ],
             [
              0.5555555555555556,
              "#d8576b"
             ],
             [
              0.6666666666666666,
              "#ed7953"
             ],
             [
              0.7777777777777778,
              "#fb9f3a"
             ],
             [
              0.8888888888888888,
              "#fdca26"
             ],
             [
              1,
              "#f0f921"
             ]
            ],
            "type": "heatmap"
           }
          ],
          "heatmapgl": [
           {
            "colorbar": {
             "outlinewidth": 0,
             "ticks": ""
            },
            "colorscale": [
             [
              0,
              "#0d0887"
             ],
             [
              0.1111111111111111,
              "#46039f"
             ],
             [
              0.2222222222222222,
              "#7201a8"
             ],
             [
              0.3333333333333333,
              "#9c179e"
             ],
             [
              0.4444444444444444,
              "#bd3786"
             ],
             [
              0.5555555555555556,
              "#d8576b"
             ],
             [
              0.6666666666666666,
              "#ed7953"
             ],
             [
              0.7777777777777778,
              "#fb9f3a"
             ],
             [
              0.8888888888888888,
              "#fdca26"
             ],
             [
              1,
              "#f0f921"
             ]
            ],
            "type": "heatmapgl"
           }
          ],
          "histogram": [
           {
            "marker": {
             "pattern": {
              "fillmode": "overlay",
              "size": 10,
              "solidity": 0.2
             }
            },
            "type": "histogram"
           }
          ],
          "histogram2d": [
           {
            "colorbar": {
             "outlinewidth": 0,
             "ticks": ""
            },
            "colorscale": [
             [
              0,
              "#0d0887"
             ],
             [
              0.1111111111111111,
              "#46039f"
             ],
             [
              0.2222222222222222,
              "#7201a8"
             ],
             [
              0.3333333333333333,
              "#9c179e"
             ],
             [
              0.4444444444444444,
              "#bd3786"
             ],
             [
              0.5555555555555556,
              "#d8576b"
             ],
             [
              0.6666666666666666,
              "#ed7953"
             ],
             [
              0.7777777777777778,
              "#fb9f3a"
             ],
             [
              0.8888888888888888,
              "#fdca26"
             ],
             [
              1,
              "#f0f921"
             ]
            ],
            "type": "histogram2d"
           }
          ],
          "histogram2dcontour": [
           {
            "colorbar": {
             "outlinewidth": 0,
             "ticks": ""
            },
            "colorscale": [
             [
              0,
              "#0d0887"
             ],
             [
              0.1111111111111111,
              "#46039f"
             ],
             [
              0.2222222222222222,
              "#7201a8"
             ],
             [
              0.3333333333333333,
              "#9c179e"
             ],
             [
              0.4444444444444444,
              "#bd3786"
             ],
             [
              0.5555555555555556,
              "#d8576b"
             ],
             [
              0.6666666666666666,
              "#ed7953"
             ],
             [
              0.7777777777777778,
              "#fb9f3a"
             ],
             [
              0.8888888888888888,
              "#fdca26"
             ],
             [
              1,
              "#f0f921"
             ]
            ],
            "type": "histogram2dcontour"
           }
          ],
          "mesh3d": [
           {
            "colorbar": {
             "outlinewidth": 0,
             "ticks": ""
            },
            "type": "mesh3d"
           }
          ],
          "parcoords": [
           {
            "line": {
             "colorbar": {
              "outlinewidth": 0,
              "ticks": ""
             }
            },
            "type": "parcoords"
           }
          ],
          "pie": [
           {
            "automargin": true,
            "type": "pie"
           }
          ],
          "scatter": [
           {
            "marker": {
             "colorbar": {
              "outlinewidth": 0,
              "ticks": ""
             }
            },
            "type": "scatter"
           }
          ],
          "scatter3d": [
           {
            "line": {
             "colorbar": {
              "outlinewidth": 0,
              "ticks": ""
             }
            },
            "marker": {
             "colorbar": {
              "outlinewidth": 0,
              "ticks": ""
             }
            },
            "type": "scatter3d"
           }
          ],
          "scattercarpet": [
           {
            "marker": {
             "colorbar": {
              "outlinewidth": 0,
              "ticks": ""
             }
            },
            "type": "scattercarpet"
           }
          ],
          "scattergeo": [
           {
            "marker": {
             "colorbar": {
              "outlinewidth": 0,
              "ticks": ""
             }
            },
            "type": "scattergeo"
           }
          ],
          "scattergl": [
           {
            "marker": {
             "colorbar": {
              "outlinewidth": 0,
              "ticks": ""
             }
            },
            "type": "scattergl"
           }
          ],
          "scattermapbox": [
           {
            "marker": {
             "colorbar": {
              "outlinewidth": 0,
              "ticks": ""
             }
            },
            "type": "scattermapbox"
           }
          ],
          "scatterpolar": [
           {
            "marker": {
             "colorbar": {
              "outlinewidth": 0,
              "ticks": ""
             }
            },
            "type": "scatterpolar"
           }
          ],
          "scatterpolargl": [
           {
            "marker": {
             "colorbar": {
              "outlinewidth": 0,
              "ticks": ""
             }
            },
            "type": "scatterpolargl"
           }
          ],
          "scatterternary": [
           {
            "marker": {
             "colorbar": {
              "outlinewidth": 0,
              "ticks": ""
             }
            },
            "type": "scatterternary"
           }
          ],
          "surface": [
           {
            "colorbar": {
             "outlinewidth": 0,
             "ticks": ""
            },
            "colorscale": [
             [
              0,
              "#0d0887"
             ],
             [
              0.1111111111111111,
              "#46039f"
             ],
             [
              0.2222222222222222,
              "#7201a8"
             ],
             [
              0.3333333333333333,
              "#9c179e"
             ],
             [
              0.4444444444444444,
              "#bd3786"
             ],
             [
              0.5555555555555556,
              "#d8576b"
             ],
             [
              0.6666666666666666,
              "#ed7953"
             ],
             [
              0.7777777777777778,
              "#fb9f3a"
             ],
             [
              0.8888888888888888,
              "#fdca26"
             ],
             [
              1,
              "#f0f921"
             ]
            ],
            "type": "surface"
           }
          ],
          "table": [
           {
            "cells": {
             "fill": {
              "color": "#EBF0F8"
             },
             "line": {
              "color": "white"
             }
            },
            "header": {
             "fill": {
              "color": "#C8D4E3"
             },
             "line": {
              "color": "white"
             }
            },
            "type": "table"
           }
          ]
         },
         "layout": {
          "annotationdefaults": {
           "arrowcolor": "#2a3f5f",
           "arrowhead": 0,
           "arrowwidth": 1
          },
          "autotypenumbers": "strict",
          "coloraxis": {
           "colorbar": {
            "outlinewidth": 0,
            "ticks": ""
           }
          },
          "colorscale": {
           "diverging": [
            [
             0,
             "#8e0152"
            ],
            [
             0.1,
             "#c51b7d"
            ],
            [
             0.2,
             "#de77ae"
            ],
            [
             0.3,
             "#f1b6da"
            ],
            [
             0.4,
             "#fde0ef"
            ],
            [
             0.5,
             "#f7f7f7"
            ],
            [
             0.6,
             "#e6f5d0"
            ],
            [
             0.7,
             "#b8e186"
            ],
            [
             0.8,
             "#7fbc41"
            ],
            [
             0.9,
             "#4d9221"
            ],
            [
             1,
             "#276419"
            ]
           ],
           "sequential": [
            [
             0,
             "#0d0887"
            ],
            [
             0.1111111111111111,
             "#46039f"
            ],
            [
             0.2222222222222222,
             "#7201a8"
            ],
            [
             0.3333333333333333,
             "#9c179e"
            ],
            [
             0.4444444444444444,
             "#bd3786"
            ],
            [
             0.5555555555555556,
             "#d8576b"
            ],
            [
             0.6666666666666666,
             "#ed7953"
            ],
            [
             0.7777777777777778,
             "#fb9f3a"
            ],
            [
             0.8888888888888888,
             "#fdca26"
            ],
            [
             1,
             "#f0f921"
            ]
           ],
           "sequentialminus": [
            [
             0,
             "#0d0887"
            ],
            [
             0.1111111111111111,
             "#46039f"
            ],
            [
             0.2222222222222222,
             "#7201a8"
            ],
            [
             0.3333333333333333,
             "#9c179e"
            ],
            [
             0.4444444444444444,
             "#bd3786"
            ],
            [
             0.5555555555555556,
             "#d8576b"
            ],
            [
             0.6666666666666666,
             "#ed7953"
            ],
            [
             0.7777777777777778,
             "#fb9f3a"
            ],
            [
             0.8888888888888888,
             "#fdca26"
            ],
            [
             1,
             "#f0f921"
            ]
           ]
          },
          "colorway": [
           "#636efa",
           "#EF553B",
           "#00cc96",
           "#ab63fa",
           "#FFA15A",
           "#19d3f3",
           "#FF6692",
           "#B6E880",
           "#FF97FF",
           "#FECB52"
          ],
          "font": {
           "color": "#2a3f5f"
          },
          "geo": {
           "bgcolor": "white",
           "lakecolor": "white",
           "landcolor": "#E5ECF6",
           "showlakes": true,
           "showland": true,
           "subunitcolor": "white"
          },
          "hoverlabel": {
           "align": "left"
          },
          "hovermode": "closest",
          "mapbox": {
           "style": "light"
          },
          "paper_bgcolor": "white",
          "plot_bgcolor": "#E5ECF6",
          "polar": {
           "angularaxis": {
            "gridcolor": "white",
            "linecolor": "white",
            "ticks": ""
           },
           "bgcolor": "#E5ECF6",
           "radialaxis": {
            "gridcolor": "white",
            "linecolor": "white",
            "ticks": ""
           }
          },
          "scene": {
           "xaxis": {
            "backgroundcolor": "#E5ECF6",
            "gridcolor": "white",
            "gridwidth": 2,
            "linecolor": "white",
            "showbackground": true,
            "ticks": "",
            "zerolinecolor": "white"
           },
           "yaxis": {
            "backgroundcolor": "#E5ECF6",
            "gridcolor": "white",
            "gridwidth": 2,
            "linecolor": "white",
            "showbackground": true,
            "ticks": "",
            "zerolinecolor": "white"
           },
           "zaxis": {
            "backgroundcolor": "#E5ECF6",
            "gridcolor": "white",
            "gridwidth": 2,
            "linecolor": "white",
            "showbackground": true,
            "ticks": "",
            "zerolinecolor": "white"
           }
          },
          "shapedefaults": {
           "line": {
            "color": "#2a3f5f"
           }
          },
          "ternary": {
           "aaxis": {
            "gridcolor": "white",
            "linecolor": "white",
            "ticks": ""
           },
           "baxis": {
            "gridcolor": "white",
            "linecolor": "white",
            "ticks": ""
           },
           "bgcolor": "#E5ECF6",
           "caxis": {
            "gridcolor": "white",
            "linecolor": "white",
            "ticks": ""
           }
          },
          "title": {
           "x": 0.05
          },
          "xaxis": {
           "automargin": true,
           "gridcolor": "white",
           "linecolor": "white",
           "ticks": "",
           "title": {
            "standoff": 15
           },
           "zerolinecolor": "white",
           "zerolinewidth": 2
          },
          "yaxis": {
           "automargin": true,
           "gridcolor": "white",
           "linecolor": "white",
           "ticks": "",
           "title": {
            "standoff": 15
           },
           "zerolinecolor": "white",
           "zerolinewidth": 2
          }
         }
        }
       }
      },
      "text/html": [
       "<div>                            <div id=\"549be44c-6603-40d8-934b-b59940776c2b\" class=\"plotly-graph-div\" style=\"height:525px; width:100%;\"></div>            <script type=\"text/javascript\">                require([\"plotly\"], function(Plotly) {                    window.PLOTLYENV=window.PLOTLYENV || {};                                    if (document.getElementById(\"549be44c-6603-40d8-934b-b59940776c2b\")) {                    Plotly.newPlot(                        \"549be44c-6603-40d8-934b-b59940776c2b\",                        [{\"line\":{\"color\":\"red\",\"width\":5},\"mode\":\"lines\",\"name\":\"negative data point region\",\"type\":\"scatter\",\"x\":[0.0,0.061224489795918366,0.12244897959183673,0.18367346938775508,0.24489795918367346,0.30612244897959184,0.36734693877551017,0.42857142857142855,0.4897959183673469,0.5510204081632653,0.6122448979591837,0.673469387755102,0.7346938775510203,0.7959183673469388,0.8571428571428571,0.9183673469387755,0.9795918367346939,1.0408163265306123,1.1020408163265305,1.163265306122449,1.2244897959183674,1.2857142857142856,1.346938775510204,1.4081632653061225,1.4693877551020407,1.530612244897959,1.5918367346938775,1.653061224489796,1.7142857142857142,1.7755102040816326,1.836734693877551,1.8979591836734693,1.9591836734693877,2.020408163265306,2.0816326530612246,2.142857142857143,2.204081632653061,2.2653061224489797,2.326530612244898,2.387755102040816,2.4489795918367347,2.510204081632653,2.571428571428571,2.63265306122449,2.693877551020408,2.7551020408163263,2.816326530612245,2.877551020408163,2.9387755102040813,3.0],\"y\":[2.5,2.454081632653061,2.4081632653061225,2.362244897959184,2.316326530612245,2.270408163265306,2.2244897959183674,2.178571428571429,2.13265306122449,2.086734693877551,2.0408163265306123,1.9948979591836735,1.9489795918367347,1.903061224489796,1.8571428571428572,1.8112244897959182,1.7653061224489797,1.7193877551020407,1.6734693877551021,1.6275510204081634,1.5816326530612246,1.5357142857142858,1.489795918367347,1.443877551020408,1.3979591836734695,1.3520408163265307,1.306122448979592,1.260204081632653,1.2142857142857144,1.1683673469387754,1.1224489795918366,1.076530612244898,1.0306122448979593,0.9846938775510206,0.9387755102040816,0.8928571428571428,0.8469387755102042,0.8010204081632653,0.7551020408163267,0.7091836734693879,0.6632653061224489,0.6173469387755102,0.5714285714285716,0.5255102040816326,0.4795918367346941,0.4336734693877551,0.3877551020408161,0.34183673469387754,0.295918367346939,0.25]},{\"line\":{\"color\":\"gray\"},\"mode\":\"lines\",\"type\":\"scatter\",\"x\":[0.0,0.061224489795918366,0.12244897959183673,0.18367346938775508,0.24489795918367346,0.30612244897959184,0.36734693877551017,0.42857142857142855,0.4897959183673469,0.5510204081632653,0.6122448979591837,0.673469387755102,0.7346938775510203,0.7959183673469388,0.8571428571428571,0.9183673469387755,0.9795918367346939,1.0408163265306123,1.1020408163265305,1.163265306122449,1.2244897959183674,1.2857142857142856,1.346938775510204,1.4081632653061225,1.4693877551020407,1.530612244897959,1.5918367346938775,1.653061224489796,1.7142857142857142,1.7755102040816326,1.836734693877551,1.8979591836734693,1.9591836734693877,2.020408163265306,2.0816326530612246,2.142857142857143,2.204081632653061,2.2653061224489797,2.326530612244898,2.387755102040816,2.4489795918367347,2.510204081632653,2.571428571428571,2.63265306122449,2.693877551020408,2.7551020408163263,2.816326530612245,2.877551020408163,2.9387755102040813,3.0],\"y\":[2.414634146341464,2.368342458934794,2.322050771528124,2.2757590841214537,2.2294673967147838,2.183175709308114,2.1368840219014436,2.0905923344947737,2.0443006470881038,1.9980089596814337,1.9517172722747638,1.9054255848680939,1.859133897461424,1.8128422100547539,1.766550522648084,1.7202588352414139,1.673967147834744,1.6276754604280737,1.581383773021404,1.5350920856147339,1.488800398208064,1.4425087108013939,1.396217023394724,1.349925335988054,1.303633648581384,1.2573419611747139,1.211050273768044,1.164758586361374,1.118466898954704,1.0721752115480339,1.025883524141364,0.979591836734694,0.9333001493280241,0.8870084619213541,0.840716774514684,0.794425087108014,0.7481333997013443,0.7018417122946741,0.6555500248880042,0.6092583374813342,0.5629666500746641,0.5166749626679941,0.47038327526132434,0.4240915878546542,0.3777999004479842,0.3315082130413143,0.28521652563464434,0.2389248382279744,0.19263315082130444,0.14634146341463408]},{\"line\":{\"color\":\"gray\"},\"mode\":\"lines\",\"type\":\"scatter\",\"x\":[0.0,0.061224489795918366,0.12244897959183673,0.18367346938775508,0.24489795918367346,0.30612244897959184,0.36734693877551017,0.42857142857142855,0.4897959183673469,0.5510204081632653,0.6122448979591837,0.673469387755102,0.7346938775510203,0.7959183673469388,0.8571428571428571,0.9183673469387755,0.9795918367346939,1.0408163265306123,1.1020408163265305,1.163265306122449,1.2244897959183674,1.2857142857142856,1.346938775510204,1.4081632653061225,1.4693877551020407,1.530612244897959,1.5918367346938775,1.653061224489796,1.7142857142857142,1.7755102040816326,1.836734693877551,1.8979591836734693,1.9591836734693877,2.020408163265306,2.0816326530612246,2.142857142857143,2.204081632653061,2.2653061224489797,2.326530612244898,2.387755102040816,2.4489795918367347,2.510204081632653,2.571428571428571,2.63265306122449,2.693877551020408,2.7551020408163263,2.816326530612245,2.877551020408163,2.9387755102040813,3.0],\"y\":[2.333333333333334,2.286686103012634,2.2400388726919345,2.193391642371235,2.146744412050535,2.1000971817298355,2.0534499514091356,2.0068027210884356,1.9601554907677359,1.9135082604470366,1.8668610301263366,1.820213799805637,1.7735665694849374,1.7269193391642375,1.680272108843538,1.6336248785228382,1.5869776482021383,1.5403304178814385,1.493683187560739,1.4470359572400393,1.4003887269193394,1.3537414965986398,1.3070942662779401,1.2604470359572404,1.2137998056365409,1.167152575315841,1.1205053449951412,1.0738581146744415,1.0272108843537417,0.980563654033042,0.9339164237123423,0.8872691933916427,0.8406219630709428,0.7939747327502434,0.7473275024295434,0.7006802721088436,0.6540330417881443,0.6073858114674442,0.5607385811467446,0.5140913508260452,0.46744412050534506,0.42079689018464544,0.374149659863946,0.32750242954324615,0.2808551992225463,0.23420796890184686,0.18756073858114702,0.14091350826044716,0.09426627793974773,0.04761904761904746]},{\"line\":{\"color\":\"gray\"},\"mode\":\"lines\",\"type\":\"scatter\",\"x\":[0.0,0.061224489795918366,0.12244897959183673,0.18367346938775508,0.24489795918367346,0.30612244897959184,0.36734693877551017,0.42857142857142855,0.4897959183673469,0.5510204081632653,0.6122448979591837,0.673469387755102,0.7346938775510203,0.7959183673469388,0.8571428571428571,0.9183673469387755,0.9795918367346939,1.0408163265306123,1.1020408163265305,1.163265306122449,1.2244897959183674,1.2857142857142856,1.346938775510204,1.4081632653061225,1.4693877551020407,1.530612244897959,1.5918367346938775,1.653061224489796,1.7142857142857142,1.7755102040816326,1.836734693877551,1.8979591836734693,1.9591836734693877,2.020408163265306,2.0816326530612246,2.142857142857143,2.204081632653061,2.2653061224489797,2.326530612244898,2.387755102040816,2.4489795918367347,2.510204081632653,2.571428571428571,2.63265306122449,2.693877551020408,2.7551020408163263,2.816326530612245,2.877551020408163,2.9387755102040813,3.0],\"y\":[2.255813953488373,2.208827717133366,2.1618414807783584,2.1148552444233513,2.0678690080683446,2.0208827717133375,1.9738965353583304,1.926910299003323,1.8799240626483158,1.8329378262933087,1.7859515899383014,1.7389653535832945,1.6919791172282874,1.64499288087328,1.598006644518273,1.551020408163266,1.5040341718082588,1.4570479354532515,1.4100616990982444,1.3630754627432373,1.3160892263882302,1.2691029900332231,1.2221167536782158,1.175130517323209,1.1281442809682019,1.0811580446131945,1.0341718082581874,0.9871855719031802,0.9401993355481731,0.8932130991931659,0.846226862838159,0.7992406264831519,0.7522543901281447,0.7052681537731377,0.6582819174181302,0.6112956810631232,0.5643094447081162,0.517323208353109,0.4703369719981019,0.4233507356430949,0.37636449928808746,0.3293782629330804,0.2823920265780734,0.23540579022306596,0.18841955386805895,0.1414333175130519,0.09444708115804488,0.04746084480303787,0.0004746084480308455,-0.04651162790697659]},{\"line\":{\"color\":\"gray\"},\"mode\":\"lines\",\"type\":\"scatter\",\"x\":[0.0,0.061224489795918366,0.12244897959183673,0.18367346938775508,0.24489795918367346,0.30612244897959184,0.36734693877551017,0.42857142857142855,0.4897959183673469,0.5510204081632653,0.6122448979591837,0.673469387755102,0.7346938775510203,0.7959183673469388,0.8571428571428571,0.9183673469387755,0.9795918367346939,1.0408163265306123,1.1020408163265305,1.163265306122449,1.2244897959183674,1.2857142857142856,1.346938775510204,1.4081632653061225,1.4693877551020407,1.530612244897959,1.5918367346938775,1.653061224489796,1.7142857142857142,1.7755102040816326,1.836734693877551,1.8979591836734693,1.9591836734693877,2.020408163265306,2.0816326530612246,2.142857142857143,2.204081632653061,2.2653061224489797,2.326530612244898,2.387755102040816,2.4489795918367347,2.510204081632653,2.571428571428571,2.63265306122449,2.693877551020408,2.7551020408163263,2.816326530612245,2.877551020408163,2.9387755102040813,3.0],\"y\":[2.181818181818183,2.134508348794064,2.0871985157699453,2.0398886827458265,1.992578849721708,1.9452690166975892,1.8979591836734704,1.8506493506493515,1.8033395176252327,1.756029684601114,1.7087198515769952,1.6614100185528766,1.6141001855287578,1.566790352504639,1.5194805194805203,1.4721706864564015,1.4248608534322826,1.3775510204081638,1.3302411873840454,1.2829313543599266,1.2356215213358077,1.1883116883116889,1.1410018552875703,1.0936920222634514,1.0463821892393326,0.9990723562152138,0.951762523191095,0.9044526901669763,0.8571428571428577,0.8098330241187388,0.76252319109462,0.7152133580705013,0.6679035250463825,0.6205936920222639,0.5732838589981449,0.5259740259740263,0.4786641929499077,0.4313543599257887,0.38404452690167007,0.33673469387755145,0.2894248608534326,0.2421150278293138,0.19480519480519498,0.14749536178107617,0.10018552875695776,0.052875695732838936,0.005565862708720122,-0.04174397031539869,-0.08905380333951751,-0.13636363636363633]},{\"line\":{\"color\":\"gray\"},\"mode\":\"lines\",\"type\":\"scatter\",\"x\":[0.0,0.061224489795918366,0.12244897959183673,0.18367346938775508,0.24489795918367346,0.30612244897959184,0.36734693877551017,0.42857142857142855,0.4897959183673469,0.5510204081632653,0.6122448979591837,0.673469387755102,0.7346938775510203,0.7959183673469388,0.8571428571428571,0.9183673469387755,0.9795918367346939,1.0408163265306123,1.1020408163265305,1.163265306122449,1.2244897959183674,1.2857142857142856,1.346938775510204,1.4081632653061225,1.4693877551020407,1.530612244897959,1.5918367346938775,1.653061224489796,1.7142857142857142,1.7755102040816326,1.836734693877551,1.8979591836734693,1.9591836734693877,2.020408163265306,2.0816326530612246,2.142857142857143,2.204081632653061,2.2653061224489797,2.326530612244898,2.387755102040816,2.4489795918367347,2.510204081632653,2.571428571428571,2.63265306122449,2.693877551020408,2.7551020408163263,2.816326530612245,2.877551020408163,2.9387755102040813,3.0],\"y\":[2.1111111111111125,2.063492063492065,2.015873015873017,1.9682539682539695,1.9206349206349216,1.8730158730158741,1.8253968253968262,1.7777777777777788,1.7301587301587311,1.6825396825396834,1.6349206349206358,1.587301587301588,1.5396825396825407,1.492063492063493,1.4444444444444453,1.3968253968253976,1.3492063492063502,1.3015873015873023,1.2539682539682548,1.2063492063492072,1.1587301587301595,1.111111111111112,1.0634920634920644,1.0158730158730167,0.9682539682539689,0.9206349206349212,0.8730158730158736,0.8253968253968259,0.7777777777777785,0.7301587301587306,0.682539682539683,0.6349206349206354,0.5873015873015878,0.5396825396825401,0.49206349206349226,0.4444444444444448,0.39682539682539736,0.34920634920634946,0.3015873015873018,0.25396825396825434,0.20634920634920648,0.15873015873015903,0.11111111111111155,0.06349206349206368,0.01587301587301622,-0.03174603174603125,-0.07936507936507911,-0.12698412698412698,-0.17460317460317445,-0.22222222222222232]},{\"line\":{\"color\":\"gray\"},\"mode\":\"lines\",\"type\":\"scatter\",\"x\":[0.0,0.061224489795918366,0.12244897959183673,0.18367346938775508,0.24489795918367346,0.30612244897959184,0.36734693877551017,0.42857142857142855,0.4897959183673469,0.5510204081632653,0.6122448979591837,0.673469387755102,0.7346938775510203,0.7959183673469388,0.8571428571428571,0.9183673469387755,0.9795918367346939,1.0408163265306123,1.1020408163265305,1.163265306122449,1.2244897959183674,1.2857142857142856,1.346938775510204,1.4081632653061225,1.4693877551020407,1.530612244897959,1.5918367346938775,1.653061224489796,1.7142857142857142,1.7755102040816326,1.836734693877551,1.8979591836734693,1.9591836734693877,2.020408163265306,2.0816326530612246,2.142857142857143,2.204081632653061,2.2653061224489797,2.326530612244898,2.387755102040816,2.4489795918367347,2.510204081632653,2.571428571428571,2.63265306122449,2.693877551020408,2.7551020408163263,2.816326530612245,2.877551020408163,2.9387755102040813,3.0],\"y\":[2.0434782608695667,1.995563442768413,1.9476486246672595,1.899733806566106,1.8518189884649525,1.803904170363799,1.7559893522626455,1.708074534161492,1.6601597160603385,1.612244897959185,1.5643300798580313,1.5164152617568778,1.4685004436557243,1.4205856255545706,1.3726708074534173,1.3247559893522636,1.27684117125111,1.2289263531499566,1.1810115350488033,1.1330967169476496,1.085181898846496,1.0372670807453426,0.989352262644189,0.9414374445430355,0.8935226264418819,0.8456078083407284,0.7976929902395746,0.7497781721384211,0.7018633540372679,0.6539485359361141,0.6060337178349605,0.5581188997338072,0.5102040816326535,0.4622892635315002,0.41437444543034646,0.36645962732919296,0.3185448092280396,0.2706299911268859,0.2227151730257324,0.17480035492457888,0.12688553682342535,0.07897071872227182,0.031055900621118303,-0.01685891748003522,-0.06477373558118875,-0.11268855368234226,-0.1606033717834958,-0.20851818988464932,-0.2564330079858028,-0.3043478260869564]},{\"line\":{\"color\":\"gray\"},\"mode\":\"lines\",\"type\":\"scatter\",\"x\":[0.0,0.061224489795918366,0.12244897959183673,0.18367346938775508,0.24489795918367346,0.30612244897959184,0.36734693877551017,0.42857142857142855,0.4897959183673469,0.5510204081632653,0.6122448979591837,0.673469387755102,0.7346938775510203,0.7959183673469388,0.8571428571428571,0.9183673469387755,0.9795918367346939,1.0408163265306123,1.1020408163265305,1.163265306122449,1.2244897959183674,1.2857142857142856,1.346938775510204,1.4081632653061225,1.4693877551020407,1.530612244897959,1.5918367346938775,1.653061224489796,1.7142857142857142,1.7755102040816326,1.836734693877551,1.8979591836734693,1.9591836734693877,2.020408163265306,2.0816326530612246,2.142857142857143,2.204081632653061,2.2653061224489797,2.326530612244898,2.387755102040816,2.4489795918367347,2.510204081632653,2.571428571428571,2.63265306122449,2.693877551020408,2.7551020408163263,2.816326530612245,2.877551020408163,2.9387755102040813,3.0],\"y\":[1.9787234042553208,1.930525401650023,1.8823273990447258,1.8341293964394283,1.785931393834131,1.7377333912288333,1.689535388623536,1.6413373860182385,1.593139383412941,1.5449413808076435,1.496743378202346,1.4485453755970485,1.4003473729917513,1.3521493703864536,1.3039513677811563,1.2557533651758588,1.207555362570561,1.1593573599652638,1.1111593573599663,1.0629613547546688,1.0147633521493713,0.966565349544074,0.9183673469387764,0.8701693443334789,0.8219713417281815,0.7737733391228839,0.7255753365175864,0.6773773339122888,0.6291793313069917,0.580981328701694,0.5327833260963966,0.4845853234910992,0.43638732088580173,0.3881893182805043,0.3399913156752067,0.29179331306990924,0.24359531046461183,0.19539730785931422,0.14719930525401698,0.09900130264871936,0.05080330004342174,0.002605297438124502,-0.04559270516717274,-0.09379070777247073,-0.14198871037776797,-0.19018671298306522,-0.23838471558836283,-0.28658271819366044,-0.33478072079895765,-0.3829787234042553]},{\"line\":{\"color\":\"gray\"},\"mode\":\"lines\",\"type\":\"scatter\",\"x\":[0.0,0.061224489795918366,0.12244897959183673,0.18367346938775508,0.24489795918367346,0.30612244897959184,0.36734693877551017,0.42857142857142855,0.4897959183673469,0.5510204081632653,0.6122448979591837,0.673469387755102,0.7346938775510203,0.7959183673469388,0.8571428571428571,0.9183673469387755,0.9795918367346939,1.0408163265306123,1.1020408163265305,1.163265306122449,1.2244897959183674,1.2857142857142856,1.346938775510204,1.4081632653061225,1.4693877551020407,1.530612244897959,1.5918367346938775,1.653061224489796,1.7142857142857142,1.7755102040816326,1.836734693877551,1.8979591836734693,1.9591836734693877,2.020408163265306,2.0816326530612246,2.142857142857143,2.204081632653061,2.2653061224489797,2.326530612244898,2.387755102040816,2.4489795918367347,2.510204081632653,2.571428571428571,2.63265306122449,2.693877551020408,2.7551020408163263,2.816326530612245,2.877551020408163,2.9387755102040813,3.0],\"y\":[1.9166666666666683,1.8681972789115664,1.8197278911564645,1.771258503401362,1.72278911564626,1.674319727891158,1.625850340136056,1.5773809523809539,1.5289115646258518,1.4804421768707496,1.4319727891156475,1.3835034013605456,1.3350340136054437,1.2865646258503411,1.2380952380952392,1.1896258503401373,1.1411564625850352,1.092687074829933,1.044217687074831,0.9957482993197289,0.9472789115646268,0.8988095238095248,0.8503401360544227,0.8018707482993207,0.7534013605442187,0.7049319727891165,0.6564625850340143,0.6079931972789123,0.5595238095238103,0.5110544217687081,0.46258503401360607,0.41411564625850406,0.3656462585034019,0.31717687074829987,0.2687074829931977,0.2202380952380957,0.1717687074829937,0.12329931972789132,0.07482993197278932,0.026360544217687683,-0.02210884353741469,-0.0705782312925167,-0.1190476190476187,-0.16751700680272108,-0.21598639455782306,-0.26445578231292505,-0.31292517006802706,-0.36139455782312907,-0.4098639455782311,-0.4583333333333335]},{\"line\":{\"color\":\"gray\"},\"mode\":\"lines\",\"type\":\"scatter\",\"x\":[0.0,0.061224489795918366,0.12244897959183673,0.18367346938775508,0.24489795918367346,0.30612244897959184,0.36734693877551017,0.42857142857142855,0.4897959183673469,0.5510204081632653,0.6122448979591837,0.673469387755102,0.7346938775510203,0.7959183673469388,0.8571428571428571,0.9183673469387755,0.9795918367346939,1.0408163265306123,1.1020408163265305,1.163265306122449,1.2244897959183674,1.2857142857142856,1.346938775510204,1.4081632653061225,1.4693877551020407,1.530612244897959,1.5918367346938775,1.653061224489796,1.7142857142857142,1.7755102040816326,1.836734693877551,1.8979591836734693,1.9591836734693877,2.020408163265306,2.0816326530612246,2.142857142857143,2.204081632653061,2.2653061224489797,2.326530612244898,2.387755102040816,2.4489795918367347,2.510204081632653,2.571428571428571,2.63265306122449,2.693877551020408,2.7551020408163263,2.816326530612245,2.877551020408163,2.9387755102040813,3.0],\"y\":[1.857142857142859,1.8084131611828422,1.7596834652228255,1.710953769262809,1.6622240733027922,1.6134943773427755,1.564764681382759,1.5160349854227422,1.4673052894627254,1.4185755935027087,1.369845897542692,1.3211162015826752,1.2723865056226589,1.223656809662642,1.1749271137026251,1.1261974177426084,1.0774677217825919,1.0287380258225751,0.9800083298625585,0.9312786339025417,0.8825489379425249,0.8338192419825083,0.7850895460224916,0.736359850062475,0.6876301541024583,0.6389004581424416,0.5901707621824248,0.5414410662224081,0.4927113702623914,0.4439816743023746,0.39525197834235787,0.3465222823823413,0.29779258642232465,0.24906289046230806,0.20033319450229112,0.15160349854227434,0.10287380258225792,0.054144106622241145,0.005414410662224368,-0.04331528529779205,-0.09204498125780919,-0.1407746772178256,-0.18950437317784238,-0.23823406913785916,-0.2869637650978759,-0.33569346105789233,-0.38442315701790913,-0.4331528529779259,-0.4818825489379423,-0.5306122448979594]},{\"line\":{\"color\":\"gray\"},\"mode\":\"lines\",\"type\":\"scatter\",\"x\":[0.0,0.061224489795918366,0.12244897959183673,0.18367346938775508,0.24489795918367346,0.30612244897959184,0.36734693877551017,0.42857142857142855,0.4897959183673469,0.5510204081632653,0.6122448979591837,0.673469387755102,0.7346938775510203,0.7959183673469388,0.8571428571428571,0.9183673469387755,0.9795918367346939,1.0408163265306123,1.1020408163265305,1.163265306122449,1.2244897959183674,1.2857142857142856,1.346938775510204,1.4081632653061225,1.4693877551020407,1.530612244897959,1.5918367346938775,1.653061224489796,1.7142857142857142,1.7755102040816326,1.836734693877551,1.8979591836734693,1.9591836734693877,2.020408163265306,2.0816326530612246,2.142857142857143,2.204081632653061,2.2653061224489797,2.326530612244898,2.387755102040816,2.4489795918367347,2.510204081632653,2.571428571428571,2.63265306122449,2.693877551020408,2.7551020408163263,2.816326530612245,2.877551020408163,2.9387755102040813,3.0],\"y\":[1.800000000000002,1.7510204081632674,1.7020408163265324,1.6530612244897978,1.604081632653063,1.5551020408163283,1.5061224489795937,1.4571428571428588,1.408163265306124,1.3591836734693894,1.3102040816326546,1.26122448979592,1.2122448979591853,1.1632653061224503,1.1142857142857157,1.0653061224489808,1.0163265306122462,0.9673469387755114,0.9183673469387768,0.869387755102042,0.8204081632653072,0.7714285714285726,0.7224489795918378,0.673469387755103,0.6244897959183684,0.5755102040816334,0.5265306122448987,0.47755102040816394,0.4285714285714293,0.37959183673469454,0.33061224489795976,0.28163265306122515,0.23265306122449037,0.18367346938775575,0.13469387755102077,0.08571428571428619,0.03673469387755158,-0.012244897959183385,-0.06122448979591799,-0.11020408163265259,-0.15918367346938755,-0.20816326530612217,-0.2571428571428568,-0.30612244897959173,-0.35510204081632635,-0.40408163265306096,-0.4530612244897959,-0.5020408163265305,-0.5510204081632651,-0.6000000000000004]},{\"line\":{\"color\":\"gray\"},\"mode\":\"lines\",\"type\":\"scatter\",\"x\":[0.0,0.061224489795918366,0.12244897959183673,0.18367346938775508,0.24489795918367346,0.30612244897959184,0.36734693877551017,0.42857142857142855,0.4897959183673469,0.5510204081632653,0.6122448979591837,0.673469387755102,0.7346938775510203,0.7959183673469388,0.8571428571428571,0.9183673469387755,0.9795918367346939,1.0408163265306123,1.1020408163265305,1.163265306122449,1.2244897959183674,1.2857142857142856,1.346938775510204,1.4081632653061225,1.4693877551020407,1.530612244897959,1.5918367346938775,1.653061224489796,1.7142857142857142,1.7755102040816326,1.836734693877551,1.8979591836734693,1.9591836734693877,2.020408163265306,2.0816326530612246,2.142857142857143,2.204081632653061,2.2653061224489797,2.326530612244898,2.387755102040816,2.4489795918367347,2.510204081632653,2.571428571428571,2.63265306122449,2.693877551020408,2.7551020408163263,2.816326530612245,2.877551020408163,2.9387755102040813,3.0],\"y\":[1.7450980392156883,1.6958783513405382,1.6466586634653881,1.597438975590238,1.548219287715088,1.4989995998399377,1.4497799119647878,1.4005602240896378,1.3513405362144877,1.3021208483393374,1.2529011604641873,1.2036814725890375,1.1544617847138872,1.105242096838737,1.056022408963587,1.006802721088437,0.9575830332132867,0.9083633453381367,0.8591436574629865,0.8099239695878364,0.7607042817126863,0.7114845938375364,0.6622649059623862,0.6130452180872359,0.5638255302120859,0.5146058423369358,0.4653861544617857,0.4161664665866354,0.3669467787114855,0.3177270908363354,0.26850740296118525,0.21928771508603528,0.17006802721088518,0.12084833933573505,0.07162865146058493,0.02240896358543481,-0.026810724289715315,-0.07603041216486543,-0.12525010004001555,-0.17446978791516532,-0.2236894757903158,-0.2729091636654659,-0.3221288515406157,-0.3713485394157662,-0.4205682272909159,-0.46978791516606605,-0.5190076030412165,-0.5682272909163663,-0.6174469787915164,-0.6666666666666665]},{\"line\":{\"color\":\"gray\"},\"mode\":\"lines\",\"type\":\"scatter\",\"x\":[0.0,0.061224489795918366,0.12244897959183673,0.18367346938775508,0.24489795918367346,0.30612244897959184,0.36734693877551017,0.42857142857142855,0.4897959183673469,0.5510204081632653,0.6122448979591837,0.673469387755102,0.7346938775510203,0.7959183673469388,0.8571428571428571,0.9183673469387755,0.9795918367346939,1.0408163265306123,1.1020408163265305,1.163265306122449,1.2244897959183674,1.2857142857142856,1.346938775510204,1.4081632653061225,1.4693877551020407,1.530612244897959,1.5918367346938775,1.653061224489796,1.7142857142857142,1.7755102040816326,1.836734693877551,1.8979591836734693,1.9591836734693877,2.020408163265306,2.0816326530612246,2.142857142857143,2.204081632653061,2.2653061224489797,2.326530612244898,2.387755102040816,2.4489795918367347,2.510204081632653,2.571428571428571,2.63265306122449,2.693877551020408,2.7551020408163263,2.816326530612245,2.877551020408163,2.9387755102040813,3.0],\"y\":[1.6923076923076945,1.6428571428571448,1.5934065934065955,1.5439560439560458,1.4945054945054965,1.445054945054947,1.3956043956043975,1.346153846153848,1.2967032967032985,1.247252747252749,1.1978021978021995,1.14835164835165,1.0989010989011008,1.049450549450551,1.0000000000000018,0.9505494505494521,0.9010989010989026,0.8516483516483531,0.8021978021978038,0.7527472527472541,0.7032967032967046,0.6538461538461553,0.6043956043956057,0.5549450549450562,0.5054945054945068,0.4560439560439572,0.4065934065934077,0.3571428571428582,0.3076923076923087,0.25824175824175927,0.20879120879120977,0.15934065934066027,0.10989010989011061,0.0604395604395613,0.010989010989011642,-0.03846153846153767,-0.08791208791208699,-0.13736263736263665,-0.18681318681318632,-0.23626373626373562,-0.28571428571428525,-0.3351648351648346,-0.3846153846153839,-0.4340659340659336,-0.48351648351648324,-0.5329670329670325,-0.5824175824175822,-0.6318681318681315,-0.6813186813186808,-0.7307692307692308]},{\"line\":{\"color\":\"black\",\"width\":5},\"mode\":\"lines\",\"type\":\"scatter\",\"x\":[0.0,0.061224489795918366,0.12244897959183673,0.18367346938775508,0.24489795918367346,0.30612244897959184,0.36734693877551017,0.42857142857142855,0.4897959183673469,0.5510204081632653,0.6122448979591837,0.673469387755102,0.7346938775510203,0.7959183673469388,0.8571428571428571,0.9183673469387755,0.9795918367346939,1.0408163265306123,1.1020408163265305,1.163265306122449,1.2244897959183674,1.2857142857142856,1.346938775510204,1.4081632653061225,1.4693877551020407,1.530612244897959,1.5918367346938775,1.653061224489796,1.7142857142857142,1.7755102040816326,1.836734693877551,1.8979591836734693,1.9591836734693877,2.020408163265306,2.0816326530612246,2.142857142857143,2.204081632653061,2.2653061224489797,2.326530612244898,2.387755102040816,2.4489795918367347,2.510204081632653,2.571428571428571,2.63265306122449,2.693877551020408,2.7551020408163263,2.816326530612245,2.877551020408163,2.9387755102040813,3.0],\"y\":[1.6415094339622665,1.5918367346938798,1.5421640354254933,1.4924913361571066,1.44281863688872,1.3931459376203332,1.3434732383519465,1.29380053908356,1.2441278398151732,1.1944551405467867,1.1447824412784,1.0951097420100133,1.0454370427416269,0.9957643434732402,0.9460916442048536,0.8964189449364668,0.8467462456680802,0.7970735463996935,0.747400847131307,0.6977281478629204,0.6480554485945336,0.5983827493261471,0.5487100500577603,0.4990373507893737,0.44936465152098715,0.3996919522526005,0.35001925298421377,0.30034655371582714,0.2506738544474405,0.20100115517905393,0.15132845591066713,0.10165575664228052,0.051983057373893915,0.002310358105507305,-0.0473623411628793,-0.09703504043126591,-0.14670773969965253,-0.19638043896803947,-0.24605313823642574,-0.29572583750481235,-0.3453985367731993,-0.3950712360415859,-0.4447439353099722,-0.49441663457835916,-0.5440893338467457,-0.593762033115132,-0.643434732383519,-0.6931074316519056,-0.7427801309202922,-0.7924528301886788]},{\"marker\":{\"color\":\"blue\",\"size\":20},\"mode\":\"markers\",\"name\":\"+1 data point\",\"type\":\"scatter\",\"x\":[1],\"y\":[1]}],                        {\"template\":{\"data\":{\"bar\":[{\"error_x\":{\"color\":\"#2a3f5f\"},\"error_y\":{\"color\":\"#2a3f5f\"},\"marker\":{\"line\":{\"color\":\"#E5ECF6\",\"width\":0.5},\"pattern\":{\"fillmode\":\"overlay\",\"size\":10,\"solidity\":0.2}},\"type\":\"bar\"}],\"barpolar\":[{\"marker\":{\"line\":{\"color\":\"#E5ECF6\",\"width\":0.5},\"pattern\":{\"fillmode\":\"overlay\",\"size\":10,\"solidity\":0.2}},\"type\":\"barpolar\"}],\"carpet\":[{\"aaxis\":{\"endlinecolor\":\"#2a3f5f\",\"gridcolor\":\"white\",\"linecolor\":\"white\",\"minorgridcolor\":\"white\",\"startlinecolor\":\"#2a3f5f\"},\"baxis\":{\"endlinecolor\":\"#2a3f5f\",\"gridcolor\":\"white\",\"linecolor\":\"white\",\"minorgridcolor\":\"white\",\"startlinecolor\":\"#2a3f5f\"},\"type\":\"carpet\"}],\"choropleth\":[{\"colorbar\":{\"outlinewidth\":0,\"ticks\":\"\"},\"type\":\"choropleth\"}],\"contour\":[{\"colorbar\":{\"outlinewidth\":0,\"ticks\":\"\"},\"colorscale\":[[0.0,\"#0d0887\"],[0.1111111111111111,\"#46039f\"],[0.2222222222222222,\"#7201a8\"],[0.3333333333333333,\"#9c179e\"],[0.4444444444444444,\"#bd3786\"],[0.5555555555555556,\"#d8576b\"],[0.6666666666666666,\"#ed7953\"],[0.7777777777777778,\"#fb9f3a\"],[0.8888888888888888,\"#fdca26\"],[1.0,\"#f0f921\"]],\"type\":\"contour\"}],\"contourcarpet\":[{\"colorbar\":{\"outlinewidth\":0,\"ticks\":\"\"},\"type\":\"contourcarpet\"}],\"heatmap\":[{\"colorbar\":{\"outlinewidth\":0,\"ticks\":\"\"},\"colorscale\":[[0.0,\"#0d0887\"],[0.1111111111111111,\"#46039f\"],[0.2222222222222222,\"#7201a8\"],[0.3333333333333333,\"#9c179e\"],[0.4444444444444444,\"#bd3786\"],[0.5555555555555556,\"#d8576b\"],[0.6666666666666666,\"#ed7953\"],[0.7777777777777778,\"#fb9f3a\"],[0.8888888888888888,\"#fdca26\"],[1.0,\"#f0f921\"]],\"type\":\"heatmap\"}],\"heatmapgl\":[{\"colorbar\":{\"outlinewidth\":0,\"ticks\":\"\"},\"colorscale\":[[0.0,\"#0d0887\"],[0.1111111111111111,\"#46039f\"],[0.2222222222222222,\"#7201a8\"],[0.3333333333333333,\"#9c179e\"],[0.4444444444444444,\"#bd3786\"],[0.5555555555555556,\"#d8576b\"],[0.6666666666666666,\"#ed7953\"],[0.7777777777777778,\"#fb9f3a\"],[0.8888888888888888,\"#fdca26\"],[1.0,\"#f0f921\"]],\"type\":\"heatmapgl\"}],\"histogram\":[{\"marker\":{\"pattern\":{\"fillmode\":\"overlay\",\"size\":10,\"solidity\":0.2}},\"type\":\"histogram\"}],\"histogram2d\":[{\"colorbar\":{\"outlinewidth\":0,\"ticks\":\"\"},\"colorscale\":[[0.0,\"#0d0887\"],[0.1111111111111111,\"#46039f\"],[0.2222222222222222,\"#7201a8\"],[0.3333333333333333,\"#9c179e\"],[0.4444444444444444,\"#bd3786\"],[0.5555555555555556,\"#d8576b\"],[0.6666666666666666,\"#ed7953\"],[0.7777777777777778,\"#fb9f3a\"],[0.8888888888888888,\"#fdca26\"],[1.0,\"#f0f921\"]],\"type\":\"histogram2d\"}],\"histogram2dcontour\":[{\"colorbar\":{\"outlinewidth\":0,\"ticks\":\"\"},\"colorscale\":[[0.0,\"#0d0887\"],[0.1111111111111111,\"#46039f\"],[0.2222222222222222,\"#7201a8\"],[0.3333333333333333,\"#9c179e\"],[0.4444444444444444,\"#bd3786\"],[0.5555555555555556,\"#d8576b\"],[0.6666666666666666,\"#ed7953\"],[0.7777777777777778,\"#fb9f3a\"],[0.8888888888888888,\"#fdca26\"],[1.0,\"#f0f921\"]],\"type\":\"histogram2dcontour\"}],\"mesh3d\":[{\"colorbar\":{\"outlinewidth\":0,\"ticks\":\"\"},\"type\":\"mesh3d\"}],\"parcoords\":[{\"line\":{\"colorbar\":{\"outlinewidth\":0,\"ticks\":\"\"}},\"type\":\"parcoords\"}],\"pie\":[{\"automargin\":true,\"type\":\"pie\"}],\"scatter\":[{\"marker\":{\"colorbar\":{\"outlinewidth\":0,\"ticks\":\"\"}},\"type\":\"scatter\"}],\"scatter3d\":[{\"line\":{\"colorbar\":{\"outlinewidth\":0,\"ticks\":\"\"}},\"marker\":{\"colorbar\":{\"outlinewidth\":0,\"ticks\":\"\"}},\"type\":\"scatter3d\"}],\"scattercarpet\":[{\"marker\":{\"colorbar\":{\"outlinewidth\":0,\"ticks\":\"\"}},\"type\":\"scattercarpet\"}],\"scattergeo\":[{\"marker\":{\"colorbar\":{\"outlinewidth\":0,\"ticks\":\"\"}},\"type\":\"scattergeo\"}],\"scattergl\":[{\"marker\":{\"colorbar\":{\"outlinewidth\":0,\"ticks\":\"\"}},\"type\":\"scattergl\"}],\"scattermapbox\":[{\"marker\":{\"colorbar\":{\"outlinewidth\":0,\"ticks\":\"\"}},\"type\":\"scattermapbox\"}],\"scatterpolar\":[{\"marker\":{\"colorbar\":{\"outlinewidth\":0,\"ticks\":\"\"}},\"type\":\"scatterpolar\"}],\"scatterpolargl\":[{\"marker\":{\"colorbar\":{\"outlinewidth\":0,\"ticks\":\"\"}},\"type\":\"scatterpolargl\"}],\"scatterternary\":[{\"marker\":{\"colorbar\":{\"outlinewidth\":0,\"ticks\":\"\"}},\"type\":\"scatterternary\"}],\"surface\":[{\"colorbar\":{\"outlinewidth\":0,\"ticks\":\"\"},\"colorscale\":[[0.0,\"#0d0887\"],[0.1111111111111111,\"#46039f\"],[0.2222222222222222,\"#7201a8\"],[0.3333333333333333,\"#9c179e\"],[0.4444444444444444,\"#bd3786\"],[0.5555555555555556,\"#d8576b\"],[0.6666666666666666,\"#ed7953\"],[0.7777777777777778,\"#fb9f3a\"],[0.8888888888888888,\"#fdca26\"],[1.0,\"#f0f921\"]],\"type\":\"surface\"}],\"table\":[{\"cells\":{\"fill\":{\"color\":\"#EBF0F8\"},\"line\":{\"color\":\"white\"}},\"header\":{\"fill\":{\"color\":\"#C8D4E3\"},\"line\":{\"color\":\"white\"}},\"type\":\"table\"}]},\"layout\":{\"annotationdefaults\":{\"arrowcolor\":\"#2a3f5f\",\"arrowhead\":0,\"arrowwidth\":1},\"autotypenumbers\":\"strict\",\"coloraxis\":{\"colorbar\":{\"outlinewidth\":0,\"ticks\":\"\"}},\"colorscale\":{\"diverging\":[[0,\"#8e0152\"],[0.1,\"#c51b7d\"],[0.2,\"#de77ae\"],[0.3,\"#f1b6da\"],[0.4,\"#fde0ef\"],[0.5,\"#f7f7f7\"],[0.6,\"#e6f5d0\"],[0.7,\"#b8e186\"],[0.8,\"#7fbc41\"],[0.9,\"#4d9221\"],[1,\"#276419\"]],\"sequential\":[[0.0,\"#0d0887\"],[0.1111111111111111,\"#46039f\"],[0.2222222222222222,\"#7201a8\"],[0.3333333333333333,\"#9c179e\"],[0.4444444444444444,\"#bd3786\"],[0.5555555555555556,\"#d8576b\"],[0.6666666666666666,\"#ed7953\"],[0.7777777777777778,\"#fb9f3a\"],[0.8888888888888888,\"#fdca26\"],[1.0,\"#f0f921\"]],\"sequentialminus\":[[0.0,\"#0d0887\"],[0.1111111111111111,\"#46039f\"],[0.2222222222222222,\"#7201a8\"],[0.3333333333333333,\"#9c179e\"],[0.4444444444444444,\"#bd3786\"],[0.5555555555555556,\"#d8576b\"],[0.6666666666666666,\"#ed7953\"],[0.7777777777777778,\"#fb9f3a\"],[0.8888888888888888,\"#fdca26\"],[1.0,\"#f0f921\"]]},\"colorway\":[\"#636efa\",\"#EF553B\",\"#00cc96\",\"#ab63fa\",\"#FFA15A\",\"#19d3f3\",\"#FF6692\",\"#B6E880\",\"#FF97FF\",\"#FECB52\"],\"font\":{\"color\":\"#2a3f5f\"},\"geo\":{\"bgcolor\":\"white\",\"lakecolor\":\"white\",\"landcolor\":\"#E5ECF6\",\"showlakes\":true,\"showland\":true,\"subunitcolor\":\"white\"},\"hoverlabel\":{\"align\":\"left\"},\"hovermode\":\"closest\",\"mapbox\":{\"style\":\"light\"},\"paper_bgcolor\":\"white\",\"plot_bgcolor\":\"#E5ECF6\",\"polar\":{\"angularaxis\":{\"gridcolor\":\"white\",\"linecolor\":\"white\",\"ticks\":\"\"},\"bgcolor\":\"#E5ECF6\",\"radialaxis\":{\"gridcolor\":\"white\",\"linecolor\":\"white\",\"ticks\":\"\"}},\"scene\":{\"xaxis\":{\"backgroundcolor\":\"#E5ECF6\",\"gridcolor\":\"white\",\"gridwidth\":2,\"linecolor\":\"white\",\"showbackground\":true,\"ticks\":\"\",\"zerolinecolor\":\"white\"},\"yaxis\":{\"backgroundcolor\":\"#E5ECF6\",\"gridcolor\":\"white\",\"gridwidth\":2,\"linecolor\":\"white\",\"showbackground\":true,\"ticks\":\"\",\"zerolinecolor\":\"white\"},\"zaxis\":{\"backgroundcolor\":\"#E5ECF6\",\"gridcolor\":\"white\",\"gridwidth\":2,\"linecolor\":\"white\",\"showbackground\":true,\"ticks\":\"\",\"zerolinecolor\":\"white\"}},\"shapedefaults\":{\"line\":{\"color\":\"#2a3f5f\"}},\"ternary\":{\"aaxis\":{\"gridcolor\":\"white\",\"linecolor\":\"white\",\"ticks\":\"\"},\"baxis\":{\"gridcolor\":\"white\",\"linecolor\":\"white\",\"ticks\":\"\"},\"bgcolor\":\"#E5ECF6\",\"caxis\":{\"gridcolor\":\"white\",\"linecolor\":\"white\",\"ticks\":\"\"}},\"title\":{\"x\":0.05},\"xaxis\":{\"automargin\":true,\"gridcolor\":\"white\",\"linecolor\":\"white\",\"ticks\":\"\",\"title\":{\"standoff\":15},\"zerolinecolor\":\"white\",\"zerolinewidth\":2},\"yaxis\":{\"automargin\":true,\"gridcolor\":\"white\",\"linecolor\":\"white\",\"ticks\":\"\",\"title\":{\"standoff\":15},\"zerolinecolor\":\"white\",\"zerolinewidth\":2}}}},                        {\"responsive\": true}                    ).then(function(){\n",
       "                            \n",
       "var gd = document.getElementById('549be44c-6603-40d8-934b-b59940776c2b');\n",
       "var x = new MutationObserver(function (mutations, observer) {{\n",
       "        var display = window.getComputedStyle(gd).display;\n",
       "        if (!display || display === 'none') {{\n",
       "            console.log([gd, 'removed!']);\n",
       "            Plotly.purge(gd);\n",
       "            observer.disconnect();\n",
       "        }}\n",
       "}});\n",
       "\n",
       "// Listen for the removal of the full notebook cells\n",
       "var notebookContainer = gd.closest('#notebook-container');\n",
       "if (notebookContainer) {{\n",
       "    x.observe(notebookContainer, {childList: true});\n",
       "}}\n",
       "\n",
       "// Listen for the clearing of the current output cell\n",
       "var outputEl = gd.closest('.output');\n",
       "if (outputEl) {{\n",
       "    x.observe(outputEl, {childList: true});\n",
       "}}\n",
       "\n",
       "                        })                };                });            </script>        </div>"
      ]
     },
     "metadata": {},
     "output_type": "display_data"
    }
   ],
   "source": [
    "w1 = 3; w2 = 4; bias = -10\n",
    "learn_rate = 0.1\n",
    "fig = go.Figure()\n",
    "fig.add_trace(go.Scatter(x=x1, y=x2, line_color = 'red', mode='lines',\n",
    "                               line = dict(width = 5), name = 'negative data point region'))\n",
    "for i in range(1,14):\n",
    "    if i== 13:\n",
    "        w1 += learn_rate; w2 += learn_rate; bias += learn_rate\n",
    "        x2 = (-( w1) * x1 + (-bias))/(w2)\n",
    "        fig.add_trace(go.Scatter(x=x1, y=x2, line_color = 'black', mode='lines',\n",
    "                line = dict(width = 5)))\n",
    "    else:\n",
    "        w1 = w1 + learn_rate; w2 = w2 + learn_rate; bias = bias + learn_rate\n",
    "\n",
    "        x2 = (-( w1) * x1 + (-bias))/(w2)\n",
    "        fig.add_trace(go.Scatter(x=x1, y=x2, line_color = 'gray', mode='lines'))\n",
    "fig.add_trace(go.Scatter(x = [1], y =[1], mode ='markers',\n",
    "                    marker = dict(color ='blue', size = 20), name = '+1 data point'))\n",
    "\n",
    "\n",
    "fig.show()"
   ]
  },
  {
   "cell_type": "code",
   "execution_count": null,
   "id": "916ad80c",
   "metadata": {},
   "outputs": [],
   "source": []
  }
 ],
 "metadata": {
  "interpreter": {
   "hash": "98b0a9b7b4eaaa670588a142fd0a9b87eaafe866f1db4228be72b4211d12040f"
  },
  "jupytext": {
   "formats": "ipynb,py:percent"
  },
  "kernelspec": {
   "display_name": "Python 3 (ipykernel)",
   "language": "python",
   "name": "python3"
  },
  "language_info": {
   "codemirror_mode": {
    "name": "ipython",
    "version": 3
   },
   "file_extension": ".py",
   "mimetype": "text/x-python",
   "name": "python",
   "nbconvert_exporter": "python",
   "pygments_lexer": "ipython3",
   "version": "3.9.6"
  }
 },
 "nbformat": 4,
 "nbformat_minor": 5
}
