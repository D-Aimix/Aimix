{
 "cells": [
  {
   "cell_type": "code",
   "execution_count": 1,
   "id": "57df56b6",
   "metadata": {},
   "outputs": [
    {
     "name": "stdout",
     "output_type": "stream",
     "text": [
      "(56, 104, 189)\n",
      "(0, 0, 0)\n",
      "(188, 138, 17)\n"
     ]
    }
   ],
   "source": [
    "# Importing Image from PIL package\n",
    "from PIL import Image\n",
    " \n",
    "# creating a image object\n",
    "im = Image.open(r\"sunflower.jpg\")\n",
    "px = im.load()\n",
    "print (px[4, 4])\n",
    "px[4, 4] = (0, 0, 0)\n",
    "print (px[4, 4])\n",
    "coordinate = x, y = 150, 59\n",
    " \n",
    "# using getpixel method\n",
    "print (im.getpixel(coordinate));"
   ]
  },
  {
   "cell_type": "markdown",
   "id": "832c541e",
   "metadata": {},
   "source": [
    "### Pixels\n",
    "\n",
    "- Tiny dots of lights\n",
    "- Pixels create image\n",
    "- R G B gives you single pixel 0 - 255 ( 0 - dark, 255 - bright)\n",
    "- image files - jpeg, png, gif\n",
    "- why 255 - max no. 8 bit [1 byte] can represent is 255 hence 0- 255 gives 256 intensities per color channel\n",
    "- for eg turquoise ( 64, 224, 208) which a computer understands as R: 01000000 G: 11100000 B: 11010000 in 24 binary digits\n",
    "   which in hexadecimal no. system is 40E0D0\n",
    "   \n",
    "\n"
   ]
  },
  {
   "cell_type": "code",
   "execution_count": null,
   "id": "58260a3a",
   "metadata": {},
   "outputs": [],
   "source": [
    "# Modify the colors\n",
    "\n",
    "- You modify the rgb values to make the image darker or lighter\n",
    "- for eg R - 20, G - 20, B - 20"
   ]
  },
  {
   "cell_type": "code",
   "execution_count": 21,
   "id": "cf00bb14",
   "metadata": {},
   "outputs": [],
   "source": [
    "from PIL import Image\n",
    "  \n",
    "# Import an image from directory:\n",
    "input_image = Image.open(r\"sunflower.jpg\")\n",
    " "
   ]
  },
  {
   "cell_type": "code",
   "execution_count": 22,
   "id": "b767faf0",
   "metadata": {},
   "outputs": [
    {
     "name": "stdout",
     "output_type": "stream",
     "text": [
      "269 187\n"
     ]
    }
   ],
   "source": [
    " \n",
    "# Extracting pixel map:\n",
    "pixel_map = input_image.load()\n",
    "  \n",
    "# Extracting the width and height \n",
    "# of the image:\n",
    "width, height = input_image.size\n",
    "  \n",
    "print(width,height)"
   ]
  },
  {
   "cell_type": "code",
   "execution_count": 23,
   "id": "4f4c4285",
   "metadata": {},
   "outputs": [],
   "source": [
    "# taking half of the width:\n",
    "for i in range(width):\n",
    "    for j in range(height//2):\n",
    "        \n",
    "        # getting the RGB pixel value.\n",
    "        r, g, b = input_image.getpixel((i, j))\n",
    "          \n",
    "        # Apply formula of grayscale:\n",
    "        grayscale = (0.299*r + 0.587*g + 0.114*b)\n",
    "  \n",
    "        # setting the pixel value.\n",
    "        pixel_map[i, j] = (int(grayscale), int(grayscale), int(grayscale))\n",
    "  \n",
    "# Saving the final output\n",
    "# as \"grayscale.png\":\n",
    "input_image.save(\"grayscale.png\", format=\"png\")\n",
    "  "
   ]
  },
  {
   "cell_type": "code",
   "execution_count": 24,
   "id": "95bca852",
   "metadata": {},
   "outputs": [],
   "source": [
    "input_image.show()"
   ]
  },
  {
   "cell_type": "markdown",
   "id": "0cff69c6",
   "metadata": {},
   "source": [
    "# Track a colored object:\n",
    "\n",
    "- Record balls color\n",
    "- Target color = blue\n",
    "- Find best match"
   ]
  },
  {
   "cell_type": "code",
   "execution_count": null,
   "id": "adac0c70",
   "metadata": {},
   "outputs": [],
   "source": []
  }
 ],
 "metadata": {
  "kernelspec": {
   "display_name": "Python 3 (ipykernel)",
   "language": "python",
   "name": "python3"
  },
  "language_info": {
   "codemirror_mode": {
    "name": "ipython",
    "version": 3
   },
   "file_extension": ".py",
   "mimetype": "text/x-python",
   "name": "python",
   "nbconvert_exporter": "python",
   "pygments_lexer": "ipython3",
   "version": "3.9.7"
  }
 },
 "nbformat": 4,
 "nbformat_minor": 5
}
